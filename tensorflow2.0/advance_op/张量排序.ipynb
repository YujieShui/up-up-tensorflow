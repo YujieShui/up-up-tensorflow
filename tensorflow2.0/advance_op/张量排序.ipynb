{
 "cells": [
  {
   "cell_type": "markdown",
   "metadata": {},
   "source": [
    "# 张量排序\n",
    "\n",
    "- Sort/argsort\n",
    "- Topk\n",
    "- Top-5 Acc"
   ]
  },
  {
   "cell_type": "code",
   "execution_count": 1,
   "metadata": {},
   "outputs": [],
   "source": [
    "import tensorflow as tf"
   ]
  },
  {
   "cell_type": "code",
   "execution_count": 3,
   "metadata": {},
   "outputs": [
    {
     "name": "stdout",
     "output_type": "stream",
     "text": [
      "tf.Tensor([4 0 2 3 1], shape=(5,), dtype=int32)\n",
      "tf.Tensor([4 3 2 1 0], shape=(5,), dtype=int32)\n",
      "tf.Tensor([0 3 2 4 1], shape=(5,), dtype=int32)\n"
     ]
    }
   ],
   "source": [
    "# Sort, argsort\n",
    "\n",
    "a = tf.random.shuffle(tf.range(5))\n",
    "\n",
    "print(a)\n",
    "print(tf.sort(a, direction='DESCENDING'))\n",
    "print(tf.argsort(a, direction='DESCENDING'))"
   ]
  },
  {
   "cell_type": "code",
   "execution_count": 5,
   "metadata": {},
   "outputs": [
    {
     "data": {
      "text/plain": [
       "<tf.Tensor: id=56, shape=(5,), dtype=int32, numpy=array([4, 3, 2, 1, 0], dtype=int32)>"
      ]
     },
     "execution_count": 5,
     "metadata": {},
     "output_type": "execute_result"
    }
   ],
   "source": [
    "idx = tf.argsort(a, direction='DESCENDING')\n",
    "tf.gather(a, idx)"
   ]
  },
  {
   "cell_type": "code",
   "execution_count": 7,
   "metadata": {},
   "outputs": [
    {
     "data": {
      "text/plain": [
       "(<tf.Tensor: id=77, shape=(3, 3), dtype=int32, numpy=\n",
       " array([[4, 0, 9],\n",
       "        [6, 4, 7],\n",
       "        [0, 2, 4]], dtype=int32)>,\n",
       " <tf.Tensor: id=89, shape=(3, 3), dtype=int32, numpy=\n",
       " array([[0, 4, 9],\n",
       "        [4, 6, 7],\n",
       "        [0, 2, 4]], dtype=int32)>,\n",
       " <tf.Tensor: id=98, shape=(3, 3), dtype=int32, numpy=\n",
       " array([[9, 4, 0],\n",
       "        [7, 6, 4],\n",
       "        [4, 2, 0]], dtype=int32)>)"
      ]
     },
     "execution_count": 7,
     "metadata": {},
     "output_type": "execute_result"
    }
   ],
   "source": [
    "a = tf.random.uniform([3,3], maxval=10, dtype=tf.int32)\n",
    "\n",
    "a, tf.sort(a), tf.sort(a, direction='DESCENDING')"
   ]
  },
  {
   "cell_type": "code",
   "execution_count": 13,
   "metadata": {},
   "outputs": [
    {
     "data": {
      "text/plain": [
       "(TopKV2(values=<tf.Tensor: id=146, shape=(3, 2), dtype=int32, numpy=\n",
       " array([[8, 6],\n",
       "        [9, 1],\n",
       "        [8, 4]], dtype=int32)>, indices=<tf.Tensor: id=147, shape=(3, 2), dtype=int32, numpy=\n",
       " array([[1, 0],\n",
       "        [1, 0],\n",
       "        [1, 0]], dtype=int32)>),\n",
       " <tf.Tensor: id=147, shape=(3, 2), dtype=int32, numpy=\n",
       " array([[1, 0],\n",
       "        [1, 0],\n",
       "        [1, 0]], dtype=int32)>)"
      ]
     },
     "execution_count": 13,
     "metadata": {},
     "output_type": "execute_result"
    }
   ],
   "source": [
    "# Top_k\n",
    "\n",
    "a = tf.random.uniform([3,3], maxval=10, dtype=tf.int32)\n",
    "# return top-k values and indices\n",
    "res = tf.math.top_k(a, 2)\n",
    "\n",
    "res, res.indices"
   ]
  },
  {
   "cell_type": "code",
   "execution_count": 20,
   "metadata": {},
   "outputs": [
    {
     "data": {
      "text/plain": [
       "(<tf.Tensor: id=188, shape=(3, 2), dtype=int32, numpy=\n",
       " array([[2, 1],\n",
       "        [1, 0],\n",
       "        [0, 2]], dtype=int32)>,\n",
       " <tf.Tensor: id=190, shape=(3, 2), dtype=int32, numpy=\n",
       " array([[2, 0],\n",
       "        [2, 0],\n",
       "        [2, 0]], dtype=int32)>)"
      ]
     },
     "execution_count": 20,
     "metadata": {},
     "output_type": "execute_result"
    }
   ],
   "source": [
    "# Top-k accuracy\n",
    "\n",
    "# Prob:[0.1, 0.2, 0.3, 0.4]\n",
    "# Label:[2]\n",
    "# Only consider top-1 prediction: [3] \n",
    "# Only consider top-2 prediction: [3, 2]\n",
    "# Only consider top-3 prediction: [3, 2, 1]\n",
    "\n",
    "prob = tf.constant([[0.1,0.2,0.3],[0.2,0.7,0.1]])\n",
    "target = tf.constant([2,0])\n",
    "\n",
    "k_b = tf.math.top_k(prob,3).indices\n",
    "k_b = tf.transpose(k_b, [1,0])\n",
    "target = tf.broadcast_to(target, [3,2])\n",
    "\n",
    "k_b, target"
   ]
  },
  {
   "cell_type": "code",
   "execution_count": 21,
   "metadata": {},
   "outputs": [],
   "source": [
    "# Top-k Accuracy\n",
    "\n",
    "def accuracy(output, target, topk=(1,)):\n",
    "    maxk = max(topl)\n",
    "    batch_size = target.shape[0]\n",
    "    \n",
    "    pred = tf.math.top_k(output, maxk).indices\n",
    "    pred = tf.transpose(pred, perm=[1,0])\n",
    "    target_ = tf.broadcast_to(target, pred.shape)\n",
    "    correct = tf.equal(pred, target)\n",
    "    \n",
    "    res = []\n",
    "    for k in topk:\n",
    "        correct_k = tf.cast(tf.reshape(correct[:k], [-1], dtype=tf.float32))\n",
    "        correct = tf.reduce_sum(correct_k)\n",
    "        acc = float(correct_k /batch_size)\n",
    "        res.append(acc)\n",
    "    \n",
    "    return res"
   ]
  },
  {
   "cell_type": "code",
   "execution_count": null,
   "metadata": {},
   "outputs": [],
   "source": []
  }
 ],
 "metadata": {
  "kernelspec": {
   "display_name": "Python 3",
   "language": "python",
   "name": "python3"
  },
  "language_info": {
   "codemirror_mode": {
    "name": "ipython",
    "version": 3
   },
   "file_extension": ".py",
   "mimetype": "text/x-python",
   "name": "python",
   "nbconvert_exporter": "python",
   "pygments_lexer": "ipython3",
   "version": "3.7.3"
  },
  "toc": {
   "base_numbering": 1,
   "nav_menu": {},
   "number_sections": true,
   "sideBar": true,
   "skip_h1_title": false,
   "title_cell": "Table of Contents",
   "title_sidebar": "Contents",
   "toc_cell": false,
   "toc_position": {},
   "toc_section_display": true,
   "toc_window_display": false
  }
 },
 "nbformat": 4,
 "nbformat_minor": 2
}
