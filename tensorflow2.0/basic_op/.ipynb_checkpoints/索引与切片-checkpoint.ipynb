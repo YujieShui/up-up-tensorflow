{
 "cells": [
  {
   "cell_type": "code",
   "execution_count": 2,
   "metadata": {},
   "outputs": [],
   "source": [
    "import tensorflow as tf\n",
    "from tensorflow.keras import Model, layers"
   ]
  },
  {
   "cell_type": "code",
   "execution_count": 3,
   "metadata": {},
   "outputs": [
    {
     "name": "stdout",
     "output_type": "stream",
     "text": [
      "tf.Tensor(\n",
      "[[1. 1. 1.]\n",
      " [1. 1. 1.]\n",
      " [1. 1. 1.]\n",
      " [1. 1. 1.]\n",
      " [1. 1. 1.]], shape=(5, 3), dtype=float32)\n",
      "tf.Tensor([1. 1. 1.], shape=(3,), dtype=float32)\n",
      "tf.Tensor(1.0, shape=(), dtype=float32)\n"
     ]
    }
   ],
   "source": [
    "# Basic indexing\n",
    "\n",
    "a = tf.ones([1,5,5,3])\n",
    "\n",
    "print(a[0][0])\n",
    "print(a[0][0][0])\n",
    "print(a[0][0][0][2])"
   ]
  },
  {
   "cell_type": "code",
   "execution_count": 4,
   "metadata": {},
   "outputs": [
    {
     "name": "stdout",
     "output_type": "stream",
     "text": [
      "(28, 28, 3)\n",
      "(28, 3)\n",
      "(3,)\n",
      "()\n"
     ]
    }
   ],
   "source": [
    "# Numpy-style indexing\n",
    "\n",
    "# a 相当于是4张28x28x3的图片\n",
    "a = tf.random.normal([4, 28, 28, 3])\n",
    "\n",
    "# a[1] 表示取第2张图片(索引是从0开始的)\n",
    "print(a[1].shape)\n",
    "\n",
    "# a[1,2]表示取第2张图片第3行\n",
    "print(a[1,2].shape)\n",
    "\n",
    "# a[1,2,3]表示取某一个像素的 RGB 值\n",
    "print(a[1,2,3].shape)\n",
    "\n",
    "# a[1,2,3,2]表示取B通道的值，就是0~255中某个具体数值\n",
    "print(a[1,2,3,2].shape)"
   ]
  },
  {
   "cell_type": "code",
   "execution_count": 5,
   "metadata": {},
   "outputs": [
    {
     "name": "stdout",
     "output_type": "stream",
     "text": [
      "tf.Tensor([9], shape=(1,), dtype=int32)\n",
      "tf.Tensor([8 9], shape=(2,), dtype=int32)\n",
      "tf.Tensor([0 1], shape=(2,), dtype=int32)\n",
      "tf.Tensor([0 1 2 3 4 5 6 7 8], shape=(9,), dtype=int32)\n"
     ]
    }
   ],
   "source": [
    "# start:end\n",
    "# 1. 最后一个数倒着取是 -1\n",
    "# 2. 切片取值,[a, b)包左不包右\n",
    "\n",
    "a = tf.range(10)\n",
    "\n",
    "print(a[-1:])\n",
    "print(a[-2:])\n",
    "print(a[:2])\n",
    "print(a[:-1])"
   ]
  },
  {
   "cell_type": "code",
   "execution_count": 6,
   "metadata": {},
   "outputs": [
    {
     "name": "stdout",
     "output_type": "stream",
     "text": [
      "(28, 28, 3)\n",
      "(28, 28, 3)\n",
      "(28, 3)\n",
      "(4, 28, 28)\n",
      "(4, 28, 28)\n",
      "(4, 28, 3)\n"
     ]
    }
   ],
   "source": [
    "# Indexing by\n",
    "\n",
    "a = tf.random.normal([4, 28, 28, 3])\n",
    "\n",
    "print(a[0].shape)\n",
    "print(a[0,:,:,:].shape)\n",
    "print(a[0,1,:,:].shape)\n",
    "# 取第1个通道\n",
    "print(a[:,:,:,0].shape)\n",
    "# 取第3个通道\n",
    "print(a[:,:,:,2].shape)\n",
    "print(a[:,0,:,:].shape)"
   ]
  },
  {
   "cell_type": "code",
   "execution_count": 9,
   "metadata": {},
   "outputs": [
    {
     "name": "stdout",
     "output_type": "stream",
     "text": [
      "(2, 28, 28, 3)\n",
      "(4, 14, 14, 3)\n",
      "(4, 14, 14, 3)\n",
      "(4, 14, 14, 3)\n",
      "(4, 14, 14, 3)\n"
     ]
    }
   ],
   "source": [
    "# Indexing by start:end:step & ::step\n",
    "\n",
    "a = tf.random.normal([4, 28, 28, 3])\n",
    "\n",
    "print(a[0:2,:,:,:].shape)\n",
    "print(a[:,0:28:2,0:28:2,:].shape)\n",
    "print(a[:,0:14,0:14,:].shape)\n",
    "print(a[:,14:,14:,:].shape)\n",
    "print(a[:,::2,::2,:].shape)"
   ]
  },
  {
   "cell_type": "code",
   "execution_count": 11,
   "metadata": {},
   "outputs": [
    {
     "name": "stdout",
     "output_type": "stream",
     "text": [
      "tf.Tensor([0 1 2 3], shape=(4,), dtype=int32)\n",
      "tf.Tensor([3 2 1 0], shape=(4,), dtype=int32)\n",
      "tf.Tensor([3 1], shape=(2,), dtype=int32)\n",
      "tf.Tensor([2 0], shape=(2,), dtype=int32)\n"
     ]
    }
   ],
   "source": [
    "# ::实现逆序的功能 ::-1\n",
    "a = tf.range(4)\n",
    "print(a)\n",
    "\n",
    "# 从最后一个元素开始，step=1地采\n",
    "print(a[::-1])\n",
    "# 从最后一个元素开始，step=2地采\n",
    "print(a[::-2])\n",
    "# 从2开始，step=2地采\n",
    "print(a[2::-2])"
   ]
  },
  {
   "cell_type": "code",
   "execution_count": 14,
   "metadata": {},
   "outputs": [
    {
     "name": "stdout",
     "output_type": "stream",
     "text": [
      "(4, 28, 28, 3)\n",
      "(4, 28, 28, 3)\n",
      "(2, 4, 28, 28)\n",
      "(2, 4, 28, 28)\n",
      "(4, 28, 28)\n",
      "(28, 28)\n"
     ]
    }
   ],
   "source": [
    "# ...\n",
    "\n",
    "a = tf.random.normal([2, 4, 28, 28, 3])\n",
    "\n",
    "print(a[0,:,:,:,:].shape)\n",
    "# 指定第1维，后面的维度不需要指定，用...代替代替任意长的:\n",
    "print(a[0,...].shape)\n",
    "\n",
    "print(a[:,:,:,:,0].shape)\n",
    "print(a[...,0].shape)\n",
    "\n",
    "print(a[0,...,2].shape)\n",
    "print(a[1,0,...,0].shape)"
   ]
  },
  {
   "cell_type": "code",
   "execution_count": 15,
   "metadata": {
    "collapsed": true
   },
   "outputs": [],
   "source": [
    "# Selective Indexing\n",
    "# tf.gather\n",
    "# tf.gather_nd\n",
    "# tf.boolean_mask"
   ]
  },
  {
   "cell_type": "code",
   "execution_count": 22,
   "metadata": {},
   "outputs": [
    {
     "name": "stdout",
     "output_type": "stream",
     "text": [
      "(2, 35, 8)\n",
      "(2, 35, 8)\n"
     ]
    }
   ],
   "source": [
    "# tf.gather\n",
    "# eg.data: [classes, students, subjects]\n",
    "# [4, 35, 8]\n",
    "# 收集某几行\n",
    "\n",
    "\n",
    "a = tf.random.normal([4, 35, 8])\n",
    "\n",
    "# 和之前一样按顺序采样\n",
    "print(tf.gather(a, axis=0, indices=[2, 3]).shape)\n",
    "print(a[2:4].shape)"
   ]
  },
  {
   "cell_type": "code",
   "execution_count": 28,
   "metadata": {},
   "outputs": [
    {
     "name": "stdout",
     "output_type": "stream",
     "text": [
      "(4, 35, 8)\n",
      "(4, 5, 8)\n",
      "(4, 35, 3)\n"
     ]
    }
   ],
   "source": [
    "# 利用 gather 任意采样\n",
    "print(tf.gather(a, axis=0, indices=[2,1,3,0]).shape)\n",
    "print(tf.gather(a, axis=1, indices=[2,3,9,0,10]).shape)\n",
    "print(tf.gather(a, axis=2, indices=[3,0,7]).shape)"
   ]
  },
  {
   "cell_type": "code",
   "execution_count": 33,
   "metadata": {},
   "outputs": [
    {
     "name": "stdout",
     "output_type": "stream",
     "text": [
      "(35, 8)\n",
      "(8,)\n",
      "()\n",
      "(1,)\n"
     ]
    }
   ],
   "source": [
    "# tf.gather_nd\n",
    "# 现在要采集7个学生的3门成绩\n",
    "\n",
    "a = tf.random.normal([4, 35, 8])\n",
    "\n",
    "# 0号班级的所有学生的所有成绩\n",
    "print(tf.gather_nd(a, [0]).shape)\n",
    "print(tf.gather_nd(a, [0,7]).shape)\n",
    "print(tf.gather_nd(a, [0,1,2]).shape)\n",
    "print(tf.gather_nd(a, [[0,1,2]]).shape)"
   ]
  },
  {
   "cell_type": "code",
   "execution_count": 37,
   "metadata": {},
   "outputs": [
    {
     "name": "stdout",
     "output_type": "stream",
     "text": [
      "(2, 8)\n",
      "(3, 8)\n",
      "(3,)\n",
      "(1, 3)\n"
     ]
    }
   ],
   "source": [
    "print(tf.gather_nd(a, [[0,0],[1,1]]).shape)\n",
    "print(tf.gather_nd(a, [[0,0],[1,1],[2,2]]).shape)\n",
    "print(tf.gather_nd(a, [[0,0,0],[1,1,1],[2,2,2]]).shape)\n",
    "print(tf.gather_nd(a, [[[0,0,0],[1,1,1],[2,2,2]]]).shape)"
   ]
  },
  {
   "cell_type": "code",
   "execution_count": 43,
   "metadata": {},
   "outputs": [
    {
     "name": "stdout",
     "output_type": "stream",
     "text": [
      "(2, 28, 28, 3)\n",
      "(4, 28, 28, 2)\n"
     ]
    }
   ],
   "source": [
    "# tf.boolean_mask\n",
    "\n",
    "a = tf.random.normal([4, 28, 28, 3])\n",
    "# 默认针对axis=0,True的地方会取，这里就是取axis=0处前两个size\n",
    "print(tf.boolean_mask(a, [True, True,False, False]).shape)\n",
    "# 针对channel取RG两个通道\n",
    "print(tf.boolean_mask(a, [True, True,False],axis=3).shape)"
   ]
  },
  {
   "cell_type": "code",
   "execution_count": 45,
   "metadata": {},
   "outputs": [
    {
     "data": {
      "text/plain": [
       "<tf.Tensor: id=669, shape=(3, 4), dtype=float32, numpy=\n",
       "array([[1., 1., 1., 1.],\n",
       "       [1., 1., 1., 1.],\n",
       "       [1., 1., 1., 1.]], dtype=float32)>"
      ]
     },
     "execution_count": 45,
     "metadata": {},
     "output_type": "execute_result"
    }
   ],
   "source": [
    "a = tf.ones([2,3,4])\n",
    "tf.boolean_mask(a,mask=[[True,False,False],[False,True,True]])"
   ]
  },
  {
   "cell_type": "code",
   "execution_count": null,
   "metadata": {
    "collapsed": true
   },
   "outputs": [],
   "source": []
  }
 ],
 "metadata": {
  "kernelspec": {
   "display_name": "Python 3",
   "language": "python",
   "name": "python3"
  },
  "language_info": {
   "codemirror_mode": {
    "name": "ipython",
    "version": 3
   },
   "file_extension": ".py",
   "mimetype": "text/x-python",
   "name": "python",
   "nbconvert_exporter": "python",
   "pygments_lexer": "ipython3",
   "version": "3.6.1"
  }
 },
 "nbformat": 4,
 "nbformat_minor": 2
}
