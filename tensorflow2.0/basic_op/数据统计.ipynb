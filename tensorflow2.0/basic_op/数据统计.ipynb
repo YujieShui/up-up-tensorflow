{
 "cells": [
  {
   "cell_type": "markdown",
   "metadata": {},
   "source": [
    "# tf.norm\n",
    "\n",
    "Vector norm 的方法"
   ]
  },
  {
   "cell_type": "code",
   "execution_count": 1,
   "metadata": {},
   "outputs": [],
   "source": [
    "import tensorflow as tf"
   ]
  },
  {
   "cell_type": "code",
   "execution_count": 7,
   "metadata": {},
   "outputs": [
    {
     "name": "stdout",
     "output_type": "stream",
     "text": [
      "tf.Tensor(2.0, shape=(), dtype=float32)\n",
      "tf.Tensor(2.0, shape=(), dtype=float32)\n"
     ]
    }
   ],
   "source": [
    "a = tf.ones([2,2])\n",
    "print(tf.norm(a))\n",
    "print(tf.sqrt(tf.reduce_sum(tf.square(a))))"
   ]
  },
  {
   "cell_type": "code",
   "execution_count": 9,
   "metadata": {},
   "outputs": [
    {
     "name": "stdout",
     "output_type": "stream",
     "text": [
      "tf.Tensor(96.99484, shape=(), dtype=float32)\n",
      "tf.Tensor(96.99484, shape=(), dtype=float32)\n"
     ]
    }
   ],
   "source": [
    "a = tf.ones([4,28,28,3])\n",
    "print(tf.norm(a))\n",
    "print(tf.sqrt(tf.reduce_sum(tf.squeeze(a))))"
   ]
  },
  {
   "cell_type": "code",
   "execution_count": 16,
   "metadata": {
    "scrolled": true
   },
   "outputs": [
    {
     "name": "stdout",
     "output_type": "stream",
     "text": [
      "tf.Tensor(2.0, shape=(), dtype=float32)\n",
      "tf.Tensor([1.4142135 1.4142135], shape=(2,), dtype=float32)\n",
      "tf.Tensor(4.0, shape=(), dtype=float32)\n",
      "tf.Tensor([2. 2.], shape=(2,), dtype=float32)\n",
      "tf.Tensor([2. 2.], shape=(2,), dtype=float32)\n"
     ]
    }
   ],
   "source": [
    "# L1 Norm\n",
    "\n",
    "b = tf.ones([2,2])\n",
    "print(tf.norm(b))\n",
    "print(tf.norm(b,ord=2,axis=1))\n",
    "print(tf.norm(b,ord=1))\n",
    "print(tf.norm(b,ord=1,axis=0))\n",
    "print(tf.norm(b,ord=1,axis=1))"
   ]
  },
  {
   "cell_type": "markdown",
   "metadata": {},
   "source": [
    "# reduce_min/max/me"
   ]
  },
  {
   "cell_type": "code",
   "execution_count": 18,
   "metadata": {},
   "outputs": [
    {
     "data": {
      "text/plain": [
       "(<tf.Tensor: id=216, shape=(), dtype=float32, numpy=-2.253754>,\n",
       " <tf.Tensor: id=218, shape=(), dtype=float32, numpy=2.6642056>,\n",
       " <tf.Tensor: id=220, shape=(), dtype=float32, numpy=0.0904077>)"
      ]
     },
     "execution_count": 18,
     "metadata": {},
     "output_type": "execute_result"
    }
   ],
   "source": [
    "a = tf.random.normal([4,10])\n",
    "# 最小值,最大值,平均值\n",
    "tf.reduce_min(a),tf.reduce_max(a),tf.reduce_mean(a)"
   ]
  },
  {
   "cell_type": "code",
   "execution_count": 19,
   "metadata": {
    "scrolled": true
   },
   "outputs": [
    {
     "data": {
      "text/plain": [
       "(<tf.Tensor: id=225, shape=(4,), dtype=float32, numpy=array([-2.253754 , -1.4311816, -1.2286372, -1.1156268], dtype=float32)>,\n",
       " <tf.Tensor: id=227, shape=(4,), dtype=float32, numpy=array([2.6642056, 1.4913954, 1.9070715, 0.9904951], dtype=float32)>,\n",
       " <tf.Tensor: id=229, shape=(4,), dtype=float32, numpy=array([ 0.44928694, -0.13833386, -0.03505407,  0.08573177], dtype=float32)>)"
      ]
     },
     "execution_count": 19,
     "metadata": {},
     "output_type": "execute_result"
    }
   ],
   "source": [
    "tf.reduce_min(a,axis=1),tf.reduce_max(a,axis=1),tf.reduce_mean(a,axis=1)"
   ]
  },
  {
   "cell_type": "markdown",
   "metadata": {},
   "source": [
    "# argmax/argmin"
   ]
  },
  {
   "cell_type": "code",
   "execution_count": 21,
   "metadata": {},
   "outputs": [
    {
     "name": "stdout",
     "output_type": "stream",
     "text": [
      "(10,)\n",
      "tf.Tensor([0 0 3 3 0 0 2 3 3 3], shape=(10,), dtype=int64)\n",
      "(10,)\n"
     ]
    }
   ],
   "source": [
    "a = tf.random.normal([4,10])\n",
    "print(tf.argmax(a).shape)\n",
    "print(tf.argmax(a))\n",
    "print(tf.argmin(a).shape)"
   ]
  },
  {
   "cell_type": "markdown",
   "metadata": {},
   "source": [
    "# tf.equal"
   ]
  },
  {
   "cell_type": "code",
   "execution_count": 25,
   "metadata": {},
   "outputs": [
    {
     "name": "stdout",
     "output_type": "stream",
     "text": [
      "tf.Tensor([False False False False False], shape=(5,), dtype=bool)\n",
      "tf.Tensor(0, shape=(), dtype=int32)\n"
     ]
    }
   ],
   "source": [
    "a = tf.constant([1,2,3,4,5])\n",
    "b = tf.range(5)\n",
    "\n",
    "res = tf.equal(a, b)\n",
    "print(res)\n",
    "print(tf.reduce_sum(tf.cast(res, dtype=tf.int32)))"
   ]
  },
  {
   "cell_type": "code",
   "execution_count": 31,
   "metadata": {},
   "outputs": [
    {
     "data": {
      "text/plain": [
       "<tf.Tensor: id=299, shape=(2, 3), dtype=float32, numpy=\n",
       "array([[0.1 , 0.2 , 0.7 ],\n",
       "       [0.9 , 0.05, 0.05]], dtype=float32)>"
      ]
     },
     "execution_count": 31,
     "metadata": {},
     "output_type": "execute_result"
    }
   ],
   "source": [
    "# Accuracy\n",
    "\n",
    "a = tf.reshape(tf.constant([0.1, 0.2, 0.7, 0.9, 0.05, 0.05]),[2,3])\n",
    "a"
   ]
  },
  {
   "cell_type": "code",
   "execution_count": 33,
   "metadata": {},
   "outputs": [
    {
     "data": {
      "text/plain": [
       "(<tf.Tensor: id=307, shape=(2,), dtype=int32, numpy=array([2, 0], dtype=int32)>,\n",
       " <tf.Tensor: id=308, shape=(2,), dtype=int32, numpy=array([2, 1], dtype=int32)>)"
      ]
     },
     "execution_count": 33,
     "metadata": {},
     "output_type": "execute_result"
    }
   ],
   "source": [
    "pred = tf.cast(tf.argmax(a, axis=1), dtype=tf.int32)\n",
    "y = tf.constant([2, 1])\n",
    "\n",
    "pred, y"
   ]
  },
  {
   "cell_type": "code",
   "execution_count": 34,
   "metadata": {},
   "outputs": [
    {
     "data": {
      "text/plain": [
       "<tf.Tensor: id=311, shape=(2,), dtype=bool, numpy=array([ True, False])>"
      ]
     },
     "execution_count": 34,
     "metadata": {},
     "output_type": "execute_result"
    }
   ],
   "source": [
    "tf.equal(y, pred)"
   ]
  },
  {
   "cell_type": "code",
   "execution_count": 35,
   "metadata": {},
   "outputs": [
    {
     "data": {
      "text/plain": [
       "(<tf.Tensor: id=316, shape=(), dtype=int32, numpy=1>,\n",
       " <tf.Tensor: id=320, shape=(), dtype=float64, numpy=0.5>)"
      ]
     },
     "execution_count": 35,
     "metadata": {},
     "output_type": "execute_result"
    }
   ],
   "source": [
    "correct = tf.reduce_sum(tf.cast(tf.equal(y, pred),dtype=tf.int32))\n",
    "accuracy = correct/2\n",
    "correct, accuracy"
   ]
  },
  {
   "cell_type": "markdown",
   "metadata": {},
   "source": [
    "# tf.unique"
   ]
  },
  {
   "cell_type": "code",
   "execution_count": 36,
   "metadata": {},
   "outputs": [
    {
     "data": {
      "text/plain": [
       "(Unique(y=<tf.Tensor: id=328, shape=(5,), dtype=int32, numpy=array([0, 1, 2, 3, 4], dtype=int32)>, idx=<tf.Tensor: id=329, shape=(5,), dtype=int32, numpy=array([0, 1, 2, 3, 4], dtype=int32)>),\n",
       " Unique(y=<tf.Tensor: id=330, shape=(3,), dtype=int32, numpy=array([2, 4, 3], dtype=int32)>, idx=<tf.Tensor: id=331, shape=(5,), dtype=int32, numpy=array([0, 1, 1, 2, 0], dtype=int32)>))"
      ]
     },
     "execution_count": 36,
     "metadata": {},
     "output_type": "execute_result"
    }
   ],
   "source": [
    "a = tf.range(5)\n",
    "b = tf.constant([2,4,4,3,2])\n",
    "\n",
    "tf.unique(a), tf.unique(b)"
   ]
  },
  {
   "cell_type": "code",
   "execution_count": null,
   "metadata": {},
   "outputs": [],
   "source": []
  }
 ],
 "metadata": {
  "kernelspec": {
   "display_name": "Python 3",
   "language": "python",
   "name": "python3"
  },
  "language_info": {
   "codemirror_mode": {
    "name": "ipython",
    "version": 3
   },
   "file_extension": ".py",
   "mimetype": "text/x-python",
   "name": "python",
   "nbconvert_exporter": "python",
   "pygments_lexer": "ipython3",
   "version": "3.7.3"
  },
  "toc": {
   "base_numbering": 1,
   "nav_menu": {},
   "number_sections": true,
   "sideBar": true,
   "skip_h1_title": false,
   "title_cell": "Table of Contents",
   "title_sidebar": "Contents",
   "toc_cell": false,
   "toc_position": {},
   "toc_section_display": true,
   "toc_window_display": false
  }
 },
 "nbformat": 4,
 "nbformat_minor": 2
}
