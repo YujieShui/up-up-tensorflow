{
 "cells": [
  {
   "cell_type": "markdown",
   "metadata": {},
   "source": [
    "# Create Tensor\n",
    "\n",
    "- from numpy, list\n",
    "- zeros, ones\n",
    "- fill\n",
    "- random\n",
    "- constant\n",
    "- Application"
   ]
  },
  {
   "cell_type": "code",
   "execution_count": 2,
   "metadata": {},
   "outputs": [],
   "source": [
    "import tensorflow as tf\n",
    "import numpy as np\n",
    "\n",
    "from tensorflow.keras import Model,layers"
   ]
  },
  {
   "cell_type": "code",
   "execution_count": 2,
   "metadata": {},
   "outputs": [
    {
     "name": "stdout",
     "output_type": "stream",
     "text": [
      "tf.Tensor(\n",
      "[[1. 1. 1.]\n",
      " [1. 1. 1.]], shape=(2, 3), dtype=float64)\n",
      "tf.Tensor(\n",
      "[[0. 0. 0.]\n",
      " [0. 0. 0.]], shape=(2, 3), dtype=float64)\n"
     ]
    }
   ],
   "source": [
    "# numpy => tensor\n",
    "\n",
    "# tf.convert_to_tensor()可以将numpy array转为tensor\n",
    "# 这里会将其转换为float64类型，但用的更多的是float32类型，可以再转换类型\n",
    "print(tf.convert_to_tensor(np.ones([2, 3])))\n",
    "\n",
    "# 也可以使用全零的矩阵\n",
    "# np.ones(), np.zeros()中的[2,3]都是shape,而不是data\n",
    "print(tf.convert_to_tensor(np.zeros([2, 3])))"
   ]
  },
  {
   "cell_type": "code",
   "execution_count": 3,
   "metadata": {},
   "outputs": [
    {
     "name": "stdout",
     "output_type": "stream",
     "text": [
      "tf.Tensor([1 2], shape=(2,), dtype=int32)\n",
      "tf.Tensor([1. 2.], shape=(2,), dtype=float32)\n",
      "tf.Tensor(\n",
      "[[1.]\n",
      " [2.]], shape=(2, 1), dtype=float32)\n"
     ]
    }
   ],
   "source": [
    "# list => tensor\n",
    "\n",
    "# 将一个list转化为tensor\n",
    "# 这里的[1,2]不是shape\n",
    "# 而是data.表示一维的，长度为2的list,shape=(2,)\n",
    "print(tf.convert_to_tensor([1, 2]))\n",
    "# list中类型不同，会用大一点类型\n",
    "print(tf.convert_to_tensor([1, 2.0]))\n",
    "print(tf.convert_to_tensor([[1], [2.0]]))"
   ]
  },
  {
   "cell_type": "markdown",
   "metadata": {},
   "source": [
    "**辨析这三者的区别**\n",
    "\n",
    "```python\n",
    "# 将2行3列的全1矩阵转换为tensor\n",
    "tf.convert_to_tensor(np.ones([2, 3]))\n",
    "# 1维长度为2的tensor，这里的[2, 3]是data\n",
    "tf.convert_to_tensor([2, 3])\n",
    "# 将2行3列的全1矩阵转换为tensor，这里的[2,3]是shape\n",
    "tf.zeros([2,3])\n",
    "```\n",
    "\n",
    "Q: `tf.convert_to_tensor([2, 3])`的shape为什么是shape=(2,)?\n"
   ]
  },
  {
   "cell_type": "code",
   "execution_count": 4,
   "metadata": {},
   "outputs": [
    {
     "name": "stdout",
     "output_type": "stream",
     "text": [
      "tf.Tensor(0.0, shape=(), dtype=float32)\n",
      "tf.Tensor([0.], shape=(1,), dtype=float32)\n",
      "tf.Tensor([[0. 0.]], shape=(1, 2), dtype=float32)\n",
      "tf.Tensor(\n",
      "[[[0. 0. 0.]\n",
      "  [0. 0. 0.]\n",
      "  [0. 0. 0.]]\n",
      "\n",
      " [[0. 0. 0.]\n",
      "  [0. 0. 0.]\n",
      "  [0. 0. 0.]]], shape=(2, 3, 3), dtype=float32)\n"
     ]
    }
   ],
   "source": [
    "# tf.zeros\n",
    "\n",
    "print(tf.zeros([]))\n",
    "print(tf.zeros([1]))\n",
    "print(tf.zeros([1,2]))\n",
    "print(tf.zeros([2,3,3]))"
   ]
  },
  {
   "cell_type": "code",
   "execution_count": 5,
   "metadata": {},
   "outputs": [
    {
     "name": "stdout",
     "output_type": "stream",
     "text": [
      "tf.Tensor(\n",
      "[[[0. 0. 0.]\n",
      "  [0. 0. 0.]\n",
      "  [0. 0. 0.]]\n",
      "\n",
      " [[0. 0. 0.]\n",
      "  [0. 0. 0.]\n",
      "  [0. 0. 0.]]], shape=(2, 3, 3), dtype=float32)\n",
      "tf.Tensor(\n",
      "[[[0. 0. 0.]\n",
      "  [0. 0. 0.]\n",
      "  [0. 0. 0.]]\n",
      "\n",
      " [[0. 0. 0.]\n",
      "  [0. 0. 0.]\n",
      "  [0. 0. 0.]]], shape=(2, 3, 3), dtype=float32)\n"
     ]
    }
   ],
   "source": [
    "# tf.zeros_like\n",
    "\n",
    "a = tf.zeros([2, 3, 3])\n",
    "print(tf.zeros_like(a))\n",
    "print(tf.zeros(a.shape))"
   ]
  },
  {
   "cell_type": "code",
   "execution_count": 6,
   "metadata": {},
   "outputs": [
    {
     "name": "stdout",
     "output_type": "stream",
     "text": [
      "tf.Tensor([1.], shape=(1,), dtype=float32)\n",
      "tf.Tensor(1.0, shape=(), dtype=float32)\n",
      "tf.Tensor([1. 1.], shape=(2,), dtype=float32)\n",
      "tf.Tensor(\n",
      "[[1. 1. 1.]\n",
      " [1. 1. 1.]], shape=(2, 3), dtype=float32)\n"
     ]
    }
   ],
   "source": [
    "# tf.ones\n",
    "\n",
    "# tf.ones\n",
    "# w*x+b 中 w 可以全部初始化为 0 或者 1，b 一般初始化为 0\n",
    "\n",
    "print(tf.ones(1))\n",
    "print(tf.ones([]))\n",
    "print(tf.ones([2]))\n",
    "print(tf.ones([2,3]))\n",
    "# print(tf.ones(a))"
   ]
  },
  {
   "cell_type": "code",
   "execution_count": 7,
   "metadata": {},
   "outputs": [
    {
     "name": "stdout",
     "output_type": "stream",
     "text": [
      "tf.Tensor(\n",
      "[[0 0]\n",
      " [0 0]], shape=(2, 2), dtype=int32)\n",
      "tf.Tensor(\n",
      "[[1 1]\n",
      " [1 1]], shape=(2, 2), dtype=int32)\n",
      "tf.Tensor(\n",
      "[[7 7]\n",
      " [7 7]], shape=(2, 2), dtype=int32)\n"
     ]
    }
   ],
   "source": [
    "# fill\n",
    "\n",
    "print(tf.fill([2, 2], 0))\n",
    "print(tf.fill([2, 2], 1))\n",
    "print(tf.fill([2, 2], 7))"
   ]
  },
  {
   "cell_type": "code",
   "execution_count": 8,
   "metadata": {},
   "outputs": [
    {
     "name": "stdout",
     "output_type": "stream",
     "text": [
      "tf.Tensor(\n",
      "[[1.8558817 0.719539 ]\n",
      " [0.7581805 1.9572654]], shape=(2, 2), dtype=float32)\n",
      "tf.Tensor(\n",
      "[[-1.1057292  -0.2995287 ]\n",
      " [ 0.83291113 -0.5576704 ]], shape=(2, 2), dtype=float32)\n",
      "tf.Tensor(\n",
      "[[-1.6155492  -0.79930454]\n",
      " [-0.87035656  0.01014782]], shape=(2, 2), dtype=float32)\n"
     ]
    }
   ],
   "source": [
    "# Normal 随机初始化，使用正态分布\n",
    "\n",
    "# tf.random.normal() 正太分布，随机初始化，默认为0-1分布\n",
    "# mean 均值，默认为 0\n",
    "# stddev 方差，默认为 1\n",
    "print(tf.random.normal([2, 2], mean=1, stddev=1))\n",
    "print(tf.random.normal([2, 2]))\n",
    "# Truncated Normal 截断初始化，有利于解决梯度弥散问题，效果比一般 normal 的好\n",
    "print(tf.random.truncated_normal([2, 2], mean=0, stddev=1))"
   ]
  },
  {
   "cell_type": "code",
   "execution_count": 9,
   "metadata": {},
   "outputs": [
    {
     "name": "stdout",
     "output_type": "stream",
     "text": [
      "tf.Tensor(\n",
      "[[0.4402777  0.29661214]\n",
      " [0.9680966  0.809384  ]], shape=(2, 2), dtype=float32)\n",
      "tf.Tensor(\n",
      "[[ 7.321036 49.881435]\n",
      " [ 4.3275   83.26685 ]], shape=(2, 2), dtype=float32)\n"
     ]
    }
   ],
   "source": [
    "# Uniform 均匀分布\n",
    "\n",
    "print(tf.random.uniform([2,2], minval=0, maxval=1))\n",
    "print(tf.random.uniform([2,2], minval=0, maxval=100))"
   ]
  },
  {
   "cell_type": "markdown",
   "metadata": {},
   "source": [
    "**Random Permutation 随机打乱**\n",
    "\n",
    "图片 [64, 28, 28, 3]    标签 [64]\n",
    "\n",
    "图片与标签是一一对应的关系，现在要将图片打乱，则必须保证标签与图片保持对应关系\n",
    "\n",
    "就可以用`tf.random.shuffle()`将索引idx打乱，图片和标签都通过idx来取"
   ]
  },
  {
   "cell_type": "code",
   "execution_count": 10,
   "metadata": {},
   "outputs": [
    {
     "name": "stdout",
     "output_type": "stream",
     "text": [
      "tf.Tensor([7 0 3 5 6 9 2 4 1 8], shape=(10,), dtype=int32)\n"
     ]
    },
    {
     "data": {
      "text/plain": [
       "(<tf.Tensor: id=113, shape=(10, 784), dtype=float32, numpy=\n",
       " array([[-1.4704628 ,  0.2762955 ,  0.68181175, ..., -1.2037836 ,\n",
       "          1.0290879 , -1.7284713 ],\n",
       "        [ 0.13076723,  1.2617016 ,  0.8657764 , ..., -0.5046369 ,\n",
       "         -1.3056117 , -1.8316647 ],\n",
       "        [ 2.0445561 ,  0.6932058 ,  0.3686761 , ...,  1.1091602 ,\n",
       "         -0.3647536 , -0.79085904],\n",
       "        ...,\n",
       "        [ 0.8189971 ,  1.0589037 ,  1.0937037 , ..., -0.7285387 ,\n",
       "         -0.12021863,  1.2090316 ],\n",
       "        [ 0.81007254, -0.5967282 , -0.1693702 , ..., -1.5103413 ,\n",
       "          0.21107556, -0.2376488 ],\n",
       "        [ 1.246631  , -0.42290488, -1.7961048 , ..., -1.62521   ,\n",
       "         -0.61681104,  0.9261982 ]], dtype=float32)>,\n",
       " <tf.Tensor: id=115, shape=(10,), dtype=int32, numpy=array([5, 5, 5, 9, 7, 9, 9, 1, 1, 8], dtype=int32)>)"
      ]
     },
     "execution_count": 10,
     "metadata": {},
     "output_type": "execute_result"
    }
   ],
   "source": [
    "idx = tf.range(10)\n",
    "idx = tf.random.shuffle(idx)\n",
    "print(idx)\n",
    "\n",
    "a = tf.random.normal([10, 784])\n",
    "b = tf.random.uniform([10], maxval=10, dtype=tf.int32)\n",
    "\n",
    "a = tf.gather(a, idx)\n",
    "b = tf.gather(b, idx)\n",
    "\n",
    "a, b"
   ]
  },
  {
   "cell_type": "code",
   "execution_count": 11,
   "metadata": {},
   "outputs": [
    {
     "name": "stdout",
     "output_type": "stream",
     "text": [
      "tf.Tensor(1, shape=(), dtype=int32)\n",
      "tf.Tensor([1], shape=(1,), dtype=int32)\n",
      "tf.Tensor([1. 2.], shape=(2,), dtype=float32)\n"
     ]
    }
   ],
   "source": [
    "# tf.constant 作用于 tf.convert_to_tensor() 一样\n",
    "\n",
    "print(tf.constant(1))\n",
    "print(tf.constant([1]))\n",
    "print(tf.constant([1, 2.]))\n",
    "\n",
    "# 错误的写法,尺寸不同\n",
    "\n",
    "# tf.constant([[1,2.0],[3.0]])\n",
    "# ValueError: Can't convert non-rectangular Python sequence to Tensor."
   ]
  },
  {
   "cell_type": "markdown",
   "metadata": {},
   "source": [
    "# Typical Dim Data\n",
    "\n",
    "- []\n",
    "- [d]\n",
    "- [h, w]\n",
    "- [b, len, vec]\n",
    "- [b, h, w, c]\n",
    "- [t, b, h, w, c]"
   ]
  },
  {
   "cell_type": "code",
   "execution_count": 12,
   "metadata": {},
   "outputs": [
    {
     "data": {
      "text/plain": [
       "<tf.Tensor: id=143, shape=(), dtype=float32, numpy=0.34795335>"
      ]
     },
     "execution_count": 12,
     "metadata": {},
     "output_type": "execute_result"
    }
   ],
   "source": [
    "# scalar [] - Loss\n",
    "\n",
    "# 随机产生一个均匀分布,shape=(4,10)的矩阵\n",
    "# 接着利用one_hot编码将0-4变成shape=(4,10)的矩阵\n",
    "# 采用 mse(mean_squared_error 均方误差)计算loss \n",
    "# https://en.wikipedia.org/wiki/Mean_squared_error\n",
    "# 最后求计算出的4个loss的平均值\n",
    "\n",
    "out = tf.random.uniform([4, 10])\n",
    "\n",
    "y = tf.range(4)\n",
    "y = tf.one_hot(y,depth=10)\n",
    "\n",
    "loss = tf.keras.losses.mse(y, out)\n",
    "loss = tf.reduce_mean(loss)\n",
    "\n",
    "loss"
   ]
  },
  {
   "cell_type": "code",
   "execution_count": 13,
   "metadata": {},
   "outputs": [
    {
     "data": {
      "text/plain": [
       "(<tf.Variable 'kernel:0' shape=(8, 10) dtype=float32, numpy=\n",
       " array([[-0.4378628 , -0.5716738 ,  0.4470408 , -0.00757825,  0.10851789,\n",
       "          0.14741886, -0.36380726,  0.29296613,  0.16525668,  0.09983528],\n",
       "        [ 0.196028  , -0.5362058 , -0.2861466 , -0.08963352,  0.10026926,\n",
       "          0.06101519, -0.32200816,  0.01846945,  0.39320385,  0.47712004],\n",
       "        [ 0.3538196 , -0.10372019, -0.4478914 ,  0.480942  , -0.42337036,\n",
       "          0.5771396 , -0.3400469 ,  0.37511086,  0.2618091 ,  0.20207101],\n",
       "        [ 0.3012213 , -0.15820783,  0.17578518, -0.26507184,  0.5123904 ,\n",
       "          0.11792773,  0.03114426,  0.08437419,  0.24829245,  0.57146525],\n",
       "        [ 0.5092591 , -0.32442364,  0.4349327 ,  0.38394356, -0.5077884 ,\n",
       "         -0.33008248, -0.31391248,  0.522524  ,  0.06562293, -0.28934878],\n",
       "        [ 0.21323562, -0.11248842,  0.07963651, -0.49945617, -0.12160394,\n",
       "         -0.45230174,  0.23753434, -0.45578596, -0.43487787, -0.06772459],\n",
       "        [ 0.24358422, -0.45529303, -0.0361104 ,  0.00731736, -0.08655939,\n",
       "         -0.2789973 ,  0.13388515,  0.30580372,  0.31869876, -0.06447613],\n",
       "        [ 0.37934905,  0.44417036, -0.26053223, -0.11675286,  0.23020893,\n",
       "         -0.39309803, -0.52589947, -0.2720484 , -0.37130278, -0.3020347 ]],\n",
       "       dtype=float32)>,\n",
       " <tf.Variable 'bias:0' shape=(10,) dtype=float32, numpy=array([0., 0., 0., 0., 0., 0., 0., 0., 0., 0.], dtype=float32)>)"
      ]
     },
     "execution_count": 13,
     "metadata": {},
     "output_type": "execute_result"
    }
   ],
   "source": [
    "# Vector [out_dim] - Bias\n",
    "\n",
    "net = layers.Dense(10)\n",
    "net.build((4, 8))\n",
    "\n",
    "net.kernel, net.bias"
   ]
  },
  {
   "cell_type": "code",
   "execution_count": 3,
   "metadata": {},
   "outputs": [
    {
     "data": {
      "text/plain": [
       "(TensorShape([4, 10]), TensorShape([784, 10]), TensorShape([10]))"
      ]
     },
     "execution_count": 3,
     "metadata": {},
     "output_type": "execute_result"
    }
   ],
   "source": [
    "# Matrix\n",
    "\n",
    "# x: [4,784]\n",
    "# w: [784, 10]\n",
    "# b: [10]\n",
    "# out = x@w+b = [4,10]\n",
    "\n",
    "x = tf.random.normal([4, 784])\n",
    "net = layers.Dense(10)\n",
    "net.build((4, 784))\n",
    "\n",
    "net(x).shape, net.kernel.shape, net.bias.shape"
   ]
  },
  {
   "cell_type": "code",
   "execution_count": 4,
   "metadata": {},
   "outputs": [
    {
     "name": "stdout",
     "output_type": "stream",
     "text": [
      "Downloading data from https://storage.googleapis.com/tensorflow/tf-keras-datasets/imdb.npz\n"
     ]
    },
    {
     "ename": "KeyboardInterrupt",
     "evalue": "",
     "output_type": "error",
     "traceback": [
      "\u001b[0;31m---------------------------------------------------------------------------\u001b[0m",
      "\u001b[0;31mKeyboardInterrupt\u001b[0m                         Traceback (most recent call last)",
      "\u001b[0;32m<ipython-input-4-f87481ec4b64>\u001b[0m in \u001b[0;36m<module>\u001b[0;34m()\u001b[0m\n\u001b[1;32m      2\u001b[0m \u001b[0;34m\u001b[0m\u001b[0m\n\u001b[1;32m      3\u001b[0m \u001b[0;32mimport\u001b[0m \u001b[0mtensorflow\u001b[0m\u001b[0;34m.\u001b[0m\u001b[0mkeras\u001b[0m \u001b[0;32mas\u001b[0m \u001b[0mkeras\u001b[0m\u001b[0;34m\u001b[0m\u001b[0m\n\u001b[0;32m----> 4\u001b[0;31m \u001b[0;34m(\u001b[0m\u001b[0mX_train\u001b[0m\u001b[0;34m,\u001b[0m \u001b[0my_train\u001b[0m\u001b[0;34m)\u001b[0m\u001b[0;34m,\u001b[0m \u001b[0;34m(\u001b[0m\u001b[0mX_test\u001b[0m\u001b[0;34m,\u001b[0m \u001b[0my_test\u001b[0m\u001b[0;34m)\u001b[0m \u001b[0;34m=\u001b[0m \u001b[0mkeras\u001b[0m\u001b[0;34m.\u001b[0m\u001b[0mdatasets\u001b[0m\u001b[0;34m.\u001b[0m\u001b[0mimdb\u001b[0m\u001b[0;34m.\u001b[0m\u001b[0mload_data\u001b[0m\u001b[0;34m(\u001b[0m\u001b[0mnum_words\u001b[0m\u001b[0;34m=\u001b[0m\u001b[0;36m10000\u001b[0m\u001b[0;34m)\u001b[0m\u001b[0;34m\u001b[0m\u001b[0m\n\u001b[0m\u001b[1;32m      5\u001b[0m \u001b[0mx_train\u001b[0m \u001b[0;34m=\u001b[0m \u001b[0mkeras\u001b[0m\u001b[0;34m.\u001b[0m\u001b[0mpreprocessing\u001b[0m\u001b[0;34m.\u001b[0m\u001b[0msequence\u001b[0m\u001b[0;34m.\u001b[0m\u001b[0mpad_sequences\u001b[0m\u001b[0;34m(\u001b[0m\u001b[0mX_train\u001b[0m\u001b[0;34m,\u001b[0m \u001b[0mmaxlen\u001b[0m\u001b[0;34m=\u001b[0m\u001b[0;36m80\u001b[0m\u001b[0;34m)\u001b[0m\u001b[0;34m\u001b[0m\u001b[0m\n\u001b[1;32m      6\u001b[0m \u001b[0mx_train\u001b[0m\u001b[0;34m.\u001b[0m\u001b[0mshape\u001b[0m\u001b[0;34m\u001b[0m\u001b[0m\n",
      "\u001b[0;32m/anaconda/lib/python3.6/site-packages/tensorflow/python/keras/datasets/imdb.py\u001b[0m in \u001b[0;36mload_data\u001b[0;34m(path, num_words, skip_top, maxlen, seed, start_char, oov_char, index_from, **kwargs)\u001b[0m\n\u001b[1;32m     82\u001b[0m       \u001b[0mpath\u001b[0m\u001b[0;34m,\u001b[0m\u001b[0;34m\u001b[0m\u001b[0m\n\u001b[1;32m     83\u001b[0m       \u001b[0morigin\u001b[0m\u001b[0;34m=\u001b[0m\u001b[0morigin_folder\u001b[0m \u001b[0;34m+\u001b[0m \u001b[0;34m'imdb.npz'\u001b[0m\u001b[0;34m,\u001b[0m\u001b[0;34m\u001b[0m\u001b[0m\n\u001b[0;32m---> 84\u001b[0;31m       file_hash='599dadb1135973df5b59232a0e9a887c')\n\u001b[0m\u001b[1;32m     85\u001b[0m   \u001b[0;32mwith\u001b[0m \u001b[0mnp\u001b[0m\u001b[0;34m.\u001b[0m\u001b[0mload\u001b[0m\u001b[0;34m(\u001b[0m\u001b[0mpath\u001b[0m\u001b[0;34m)\u001b[0m \u001b[0;32mas\u001b[0m \u001b[0mf\u001b[0m\u001b[0;34m:\u001b[0m\u001b[0;34m\u001b[0m\u001b[0m\n\u001b[1;32m     86\u001b[0m     \u001b[0mx_train\u001b[0m\u001b[0;34m,\u001b[0m \u001b[0mlabels_train\u001b[0m \u001b[0;34m=\u001b[0m \u001b[0mf\u001b[0m\u001b[0;34m[\u001b[0m\u001b[0;34m'x_train'\u001b[0m\u001b[0;34m]\u001b[0m\u001b[0;34m,\u001b[0m \u001b[0mf\u001b[0m\u001b[0;34m[\u001b[0m\u001b[0;34m'y_train'\u001b[0m\u001b[0;34m]\u001b[0m\u001b[0;34m\u001b[0m\u001b[0m\n",
      "\u001b[0;32m/anaconda/lib/python3.6/site-packages/tensorflow/python/keras/utils/data_utils.py\u001b[0m in \u001b[0;36mget_file\u001b[0;34m(fname, origin, untar, md5_hash, file_hash, cache_subdir, hash_algorithm, extract, archive_format, cache_dir)\u001b[0m\n\u001b[1;32m    246\u001b[0m     \u001b[0;32mtry\u001b[0m\u001b[0;34m:\u001b[0m\u001b[0;34m\u001b[0m\u001b[0m\n\u001b[1;32m    247\u001b[0m       \u001b[0;32mtry\u001b[0m\u001b[0;34m:\u001b[0m\u001b[0;34m\u001b[0m\u001b[0m\n\u001b[0;32m--> 248\u001b[0;31m         \u001b[0murlretrieve\u001b[0m\u001b[0;34m(\u001b[0m\u001b[0morigin\u001b[0m\u001b[0;34m,\u001b[0m \u001b[0mfpath\u001b[0m\u001b[0;34m,\u001b[0m \u001b[0mdl_progress\u001b[0m\u001b[0;34m)\u001b[0m\u001b[0;34m\u001b[0m\u001b[0m\n\u001b[0m\u001b[1;32m    249\u001b[0m       \u001b[0;32mexcept\u001b[0m \u001b[0mHTTPError\u001b[0m \u001b[0;32mas\u001b[0m \u001b[0me\u001b[0m\u001b[0;34m:\u001b[0m\u001b[0;34m\u001b[0m\u001b[0m\n\u001b[1;32m    250\u001b[0m         \u001b[0;32mraise\u001b[0m \u001b[0mException\u001b[0m\u001b[0;34m(\u001b[0m\u001b[0merror_msg\u001b[0m\u001b[0;34m.\u001b[0m\u001b[0mformat\u001b[0m\u001b[0;34m(\u001b[0m\u001b[0morigin\u001b[0m\u001b[0;34m,\u001b[0m \u001b[0me\u001b[0m\u001b[0;34m.\u001b[0m\u001b[0mcode\u001b[0m\u001b[0;34m,\u001b[0m \u001b[0me\u001b[0m\u001b[0;34m.\u001b[0m\u001b[0mmsg\u001b[0m\u001b[0;34m)\u001b[0m\u001b[0;34m)\u001b[0m\u001b[0;34m\u001b[0m\u001b[0m\n",
      "\u001b[0;32m/anaconda/lib/python3.6/urllib/request.py\u001b[0m in \u001b[0;36murlretrieve\u001b[0;34m(url, filename, reporthook, data)\u001b[0m\n\u001b[1;32m    246\u001b[0m     \u001b[0murl_type\u001b[0m\u001b[0;34m,\u001b[0m \u001b[0mpath\u001b[0m \u001b[0;34m=\u001b[0m \u001b[0msplittype\u001b[0m\u001b[0;34m(\u001b[0m\u001b[0murl\u001b[0m\u001b[0;34m)\u001b[0m\u001b[0;34m\u001b[0m\u001b[0m\n\u001b[1;32m    247\u001b[0m \u001b[0;34m\u001b[0m\u001b[0m\n\u001b[0;32m--> 248\u001b[0;31m     \u001b[0;32mwith\u001b[0m \u001b[0mcontextlib\u001b[0m\u001b[0;34m.\u001b[0m\u001b[0mclosing\u001b[0m\u001b[0;34m(\u001b[0m\u001b[0murlopen\u001b[0m\u001b[0;34m(\u001b[0m\u001b[0murl\u001b[0m\u001b[0;34m,\u001b[0m \u001b[0mdata\u001b[0m\u001b[0;34m)\u001b[0m\u001b[0;34m)\u001b[0m \u001b[0;32mas\u001b[0m \u001b[0mfp\u001b[0m\u001b[0;34m:\u001b[0m\u001b[0;34m\u001b[0m\u001b[0m\n\u001b[0m\u001b[1;32m    249\u001b[0m         \u001b[0mheaders\u001b[0m \u001b[0;34m=\u001b[0m \u001b[0mfp\u001b[0m\u001b[0;34m.\u001b[0m\u001b[0minfo\u001b[0m\u001b[0;34m(\u001b[0m\u001b[0;34m)\u001b[0m\u001b[0;34m\u001b[0m\u001b[0m\n\u001b[1;32m    250\u001b[0m \u001b[0;34m\u001b[0m\u001b[0m\n",
      "\u001b[0;32m/anaconda/lib/python3.6/urllib/request.py\u001b[0m in \u001b[0;36murlopen\u001b[0;34m(url, data, timeout, cafile, capath, cadefault, context)\u001b[0m\n\u001b[1;32m    221\u001b[0m     \u001b[0;32melse\u001b[0m\u001b[0;34m:\u001b[0m\u001b[0;34m\u001b[0m\u001b[0m\n\u001b[1;32m    222\u001b[0m         \u001b[0mopener\u001b[0m \u001b[0;34m=\u001b[0m \u001b[0m_opener\u001b[0m\u001b[0;34m\u001b[0m\u001b[0m\n\u001b[0;32m--> 223\u001b[0;31m     \u001b[0;32mreturn\u001b[0m \u001b[0mopener\u001b[0m\u001b[0;34m.\u001b[0m\u001b[0mopen\u001b[0m\u001b[0;34m(\u001b[0m\u001b[0murl\u001b[0m\u001b[0;34m,\u001b[0m \u001b[0mdata\u001b[0m\u001b[0;34m,\u001b[0m \u001b[0mtimeout\u001b[0m\u001b[0;34m)\u001b[0m\u001b[0;34m\u001b[0m\u001b[0m\n\u001b[0m\u001b[1;32m    224\u001b[0m \u001b[0;34m\u001b[0m\u001b[0m\n\u001b[1;32m    225\u001b[0m \u001b[0;32mdef\u001b[0m \u001b[0minstall_opener\u001b[0m\u001b[0;34m(\u001b[0m\u001b[0mopener\u001b[0m\u001b[0;34m)\u001b[0m\u001b[0;34m:\u001b[0m\u001b[0;34m\u001b[0m\u001b[0m\n",
      "\u001b[0;32m/anaconda/lib/python3.6/urllib/request.py\u001b[0m in \u001b[0;36mopen\u001b[0;34m(self, fullurl, data, timeout)\u001b[0m\n\u001b[1;32m    524\u001b[0m             \u001b[0mreq\u001b[0m \u001b[0;34m=\u001b[0m \u001b[0mmeth\u001b[0m\u001b[0;34m(\u001b[0m\u001b[0mreq\u001b[0m\u001b[0;34m)\u001b[0m\u001b[0;34m\u001b[0m\u001b[0m\n\u001b[1;32m    525\u001b[0m \u001b[0;34m\u001b[0m\u001b[0m\n\u001b[0;32m--> 526\u001b[0;31m         \u001b[0mresponse\u001b[0m \u001b[0;34m=\u001b[0m \u001b[0mself\u001b[0m\u001b[0;34m.\u001b[0m\u001b[0m_open\u001b[0m\u001b[0;34m(\u001b[0m\u001b[0mreq\u001b[0m\u001b[0;34m,\u001b[0m \u001b[0mdata\u001b[0m\u001b[0;34m)\u001b[0m\u001b[0;34m\u001b[0m\u001b[0m\n\u001b[0m\u001b[1;32m    527\u001b[0m \u001b[0;34m\u001b[0m\u001b[0m\n\u001b[1;32m    528\u001b[0m         \u001b[0;31m# post-process response\u001b[0m\u001b[0;34m\u001b[0m\u001b[0;34m\u001b[0m\u001b[0m\n",
      "\u001b[0;32m/anaconda/lib/python3.6/urllib/request.py\u001b[0m in \u001b[0;36m_open\u001b[0;34m(self, req, data)\u001b[0m\n\u001b[1;32m    542\u001b[0m         \u001b[0mprotocol\u001b[0m \u001b[0;34m=\u001b[0m \u001b[0mreq\u001b[0m\u001b[0;34m.\u001b[0m\u001b[0mtype\u001b[0m\u001b[0;34m\u001b[0m\u001b[0m\n\u001b[1;32m    543\u001b[0m         result = self._call_chain(self.handle_open, protocol, protocol +\n\u001b[0;32m--> 544\u001b[0;31m                                   '_open', req)\n\u001b[0m\u001b[1;32m    545\u001b[0m         \u001b[0;32mif\u001b[0m \u001b[0mresult\u001b[0m\u001b[0;34m:\u001b[0m\u001b[0;34m\u001b[0m\u001b[0m\n\u001b[1;32m    546\u001b[0m             \u001b[0;32mreturn\u001b[0m \u001b[0mresult\u001b[0m\u001b[0;34m\u001b[0m\u001b[0m\n",
      "\u001b[0;32m/anaconda/lib/python3.6/urllib/request.py\u001b[0m in \u001b[0;36m_call_chain\u001b[0;34m(self, chain, kind, meth_name, *args)\u001b[0m\n\u001b[1;32m    502\u001b[0m         \u001b[0;32mfor\u001b[0m \u001b[0mhandler\u001b[0m \u001b[0;32min\u001b[0m \u001b[0mhandlers\u001b[0m\u001b[0;34m:\u001b[0m\u001b[0;34m\u001b[0m\u001b[0m\n\u001b[1;32m    503\u001b[0m             \u001b[0mfunc\u001b[0m \u001b[0;34m=\u001b[0m \u001b[0mgetattr\u001b[0m\u001b[0;34m(\u001b[0m\u001b[0mhandler\u001b[0m\u001b[0;34m,\u001b[0m \u001b[0mmeth_name\u001b[0m\u001b[0;34m)\u001b[0m\u001b[0;34m\u001b[0m\u001b[0m\n\u001b[0;32m--> 504\u001b[0;31m             \u001b[0mresult\u001b[0m \u001b[0;34m=\u001b[0m \u001b[0mfunc\u001b[0m\u001b[0;34m(\u001b[0m\u001b[0;34m*\u001b[0m\u001b[0margs\u001b[0m\u001b[0;34m)\u001b[0m\u001b[0;34m\u001b[0m\u001b[0m\n\u001b[0m\u001b[1;32m    505\u001b[0m             \u001b[0;32mif\u001b[0m \u001b[0mresult\u001b[0m \u001b[0;32mis\u001b[0m \u001b[0;32mnot\u001b[0m \u001b[0;32mNone\u001b[0m\u001b[0;34m:\u001b[0m\u001b[0;34m\u001b[0m\u001b[0m\n\u001b[1;32m    506\u001b[0m                 \u001b[0;32mreturn\u001b[0m \u001b[0mresult\u001b[0m\u001b[0;34m\u001b[0m\u001b[0m\n",
      "\u001b[0;32m/anaconda/lib/python3.6/urllib/request.py\u001b[0m in \u001b[0;36mhttps_open\u001b[0;34m(self, req)\u001b[0m\n\u001b[1;32m   1359\u001b[0m         \u001b[0;32mdef\u001b[0m \u001b[0mhttps_open\u001b[0m\u001b[0;34m(\u001b[0m\u001b[0mself\u001b[0m\u001b[0;34m,\u001b[0m \u001b[0mreq\u001b[0m\u001b[0;34m)\u001b[0m\u001b[0;34m:\u001b[0m\u001b[0;34m\u001b[0m\u001b[0m\n\u001b[1;32m   1360\u001b[0m             return self.do_open(http.client.HTTPSConnection, req,\n\u001b[0;32m-> 1361\u001b[0;31m                 context=self._context, check_hostname=self._check_hostname)\n\u001b[0m\u001b[1;32m   1362\u001b[0m \u001b[0;34m\u001b[0m\u001b[0m\n\u001b[1;32m   1363\u001b[0m         \u001b[0mhttps_request\u001b[0m \u001b[0;34m=\u001b[0m \u001b[0mAbstractHTTPHandler\u001b[0m\u001b[0;34m.\u001b[0m\u001b[0mdo_request_\u001b[0m\u001b[0;34m\u001b[0m\u001b[0m\n",
      "\u001b[0;32m/anaconda/lib/python3.6/urllib/request.py\u001b[0m in \u001b[0;36mdo_open\u001b[0;34m(self, http_class, req, **http_conn_args)\u001b[0m\n\u001b[1;32m   1319\u001b[0m             \u001b[0;32mexcept\u001b[0m \u001b[0mOSError\u001b[0m \u001b[0;32mas\u001b[0m \u001b[0merr\u001b[0m\u001b[0;34m:\u001b[0m \u001b[0;31m# timeout error\u001b[0m\u001b[0;34m\u001b[0m\u001b[0m\n\u001b[1;32m   1320\u001b[0m                 \u001b[0;32mraise\u001b[0m \u001b[0mURLError\u001b[0m\u001b[0;34m(\u001b[0m\u001b[0merr\u001b[0m\u001b[0;34m)\u001b[0m\u001b[0;34m\u001b[0m\u001b[0m\n\u001b[0;32m-> 1321\u001b[0;31m             \u001b[0mr\u001b[0m \u001b[0;34m=\u001b[0m \u001b[0mh\u001b[0m\u001b[0;34m.\u001b[0m\u001b[0mgetresponse\u001b[0m\u001b[0;34m(\u001b[0m\u001b[0;34m)\u001b[0m\u001b[0;34m\u001b[0m\u001b[0m\n\u001b[0m\u001b[1;32m   1322\u001b[0m         \u001b[0;32mexcept\u001b[0m\u001b[0;34m:\u001b[0m\u001b[0;34m\u001b[0m\u001b[0m\n\u001b[1;32m   1323\u001b[0m             \u001b[0mh\u001b[0m\u001b[0;34m.\u001b[0m\u001b[0mclose\u001b[0m\u001b[0;34m(\u001b[0m\u001b[0;34m)\u001b[0m\u001b[0;34m\u001b[0m\u001b[0m\n",
      "\u001b[0;32m/anaconda/lib/python3.6/http/client.py\u001b[0m in \u001b[0;36mgetresponse\u001b[0;34m(self)\u001b[0m\n\u001b[1;32m   1329\u001b[0m         \u001b[0;32mtry\u001b[0m\u001b[0;34m:\u001b[0m\u001b[0;34m\u001b[0m\u001b[0m\n\u001b[1;32m   1330\u001b[0m             \u001b[0;32mtry\u001b[0m\u001b[0;34m:\u001b[0m\u001b[0;34m\u001b[0m\u001b[0m\n\u001b[0;32m-> 1331\u001b[0;31m                 \u001b[0mresponse\u001b[0m\u001b[0;34m.\u001b[0m\u001b[0mbegin\u001b[0m\u001b[0;34m(\u001b[0m\u001b[0;34m)\u001b[0m\u001b[0;34m\u001b[0m\u001b[0m\n\u001b[0m\u001b[1;32m   1332\u001b[0m             \u001b[0;32mexcept\u001b[0m \u001b[0mConnectionError\u001b[0m\u001b[0;34m:\u001b[0m\u001b[0;34m\u001b[0m\u001b[0m\n\u001b[1;32m   1333\u001b[0m                 \u001b[0mself\u001b[0m\u001b[0;34m.\u001b[0m\u001b[0mclose\u001b[0m\u001b[0;34m(\u001b[0m\u001b[0;34m)\u001b[0m\u001b[0;34m\u001b[0m\u001b[0m\n",
      "\u001b[0;32m/anaconda/lib/python3.6/http/client.py\u001b[0m in \u001b[0;36mbegin\u001b[0;34m(self)\u001b[0m\n\u001b[1;32m    295\u001b[0m         \u001b[0;31m# read until we get a non-100 response\u001b[0m\u001b[0;34m\u001b[0m\u001b[0;34m\u001b[0m\u001b[0m\n\u001b[1;32m    296\u001b[0m         \u001b[0;32mwhile\u001b[0m \u001b[0;32mTrue\u001b[0m\u001b[0;34m:\u001b[0m\u001b[0;34m\u001b[0m\u001b[0m\n\u001b[0;32m--> 297\u001b[0;31m             \u001b[0mversion\u001b[0m\u001b[0;34m,\u001b[0m \u001b[0mstatus\u001b[0m\u001b[0;34m,\u001b[0m \u001b[0mreason\u001b[0m \u001b[0;34m=\u001b[0m \u001b[0mself\u001b[0m\u001b[0;34m.\u001b[0m\u001b[0m_read_status\u001b[0m\u001b[0;34m(\u001b[0m\u001b[0;34m)\u001b[0m\u001b[0;34m\u001b[0m\u001b[0m\n\u001b[0m\u001b[1;32m    298\u001b[0m             \u001b[0;32mif\u001b[0m \u001b[0mstatus\u001b[0m \u001b[0;34m!=\u001b[0m \u001b[0mCONTINUE\u001b[0m\u001b[0;34m:\u001b[0m\u001b[0;34m\u001b[0m\u001b[0m\n\u001b[1;32m    299\u001b[0m                 \u001b[0;32mbreak\u001b[0m\u001b[0;34m\u001b[0m\u001b[0m\n",
      "\u001b[0;32m/anaconda/lib/python3.6/http/client.py\u001b[0m in \u001b[0;36m_read_status\u001b[0;34m(self)\u001b[0m\n\u001b[1;32m    256\u001b[0m \u001b[0;34m\u001b[0m\u001b[0m\n\u001b[1;32m    257\u001b[0m     \u001b[0;32mdef\u001b[0m \u001b[0m_read_status\u001b[0m\u001b[0;34m(\u001b[0m\u001b[0mself\u001b[0m\u001b[0;34m)\u001b[0m\u001b[0;34m:\u001b[0m\u001b[0;34m\u001b[0m\u001b[0m\n\u001b[0;32m--> 258\u001b[0;31m         \u001b[0mline\u001b[0m \u001b[0;34m=\u001b[0m \u001b[0mstr\u001b[0m\u001b[0;34m(\u001b[0m\u001b[0mself\u001b[0m\u001b[0;34m.\u001b[0m\u001b[0mfp\u001b[0m\u001b[0;34m.\u001b[0m\u001b[0mreadline\u001b[0m\u001b[0;34m(\u001b[0m\u001b[0m_MAXLINE\u001b[0m \u001b[0;34m+\u001b[0m \u001b[0;36m1\u001b[0m\u001b[0;34m)\u001b[0m\u001b[0;34m,\u001b[0m \u001b[0;34m\"iso-8859-1\"\u001b[0m\u001b[0;34m)\u001b[0m\u001b[0;34m\u001b[0m\u001b[0m\n\u001b[0m\u001b[1;32m    259\u001b[0m         \u001b[0;32mif\u001b[0m \u001b[0mlen\u001b[0m\u001b[0;34m(\u001b[0m\u001b[0mline\u001b[0m\u001b[0;34m)\u001b[0m \u001b[0;34m>\u001b[0m \u001b[0m_MAXLINE\u001b[0m\u001b[0;34m:\u001b[0m\u001b[0;34m\u001b[0m\u001b[0m\n\u001b[1;32m    260\u001b[0m             \u001b[0;32mraise\u001b[0m \u001b[0mLineTooLong\u001b[0m\u001b[0;34m(\u001b[0m\u001b[0;34m\"status line\"\u001b[0m\u001b[0;34m)\u001b[0m\u001b[0;34m\u001b[0m\u001b[0m\n",
      "\u001b[0;32m/anaconda/lib/python3.6/socket.py\u001b[0m in \u001b[0;36mreadinto\u001b[0;34m(self, b)\u001b[0m\n\u001b[1;32m    584\u001b[0m         \u001b[0;32mwhile\u001b[0m \u001b[0;32mTrue\u001b[0m\u001b[0;34m:\u001b[0m\u001b[0;34m\u001b[0m\u001b[0m\n\u001b[1;32m    585\u001b[0m             \u001b[0;32mtry\u001b[0m\u001b[0;34m:\u001b[0m\u001b[0;34m\u001b[0m\u001b[0m\n\u001b[0;32m--> 586\u001b[0;31m                 \u001b[0;32mreturn\u001b[0m \u001b[0mself\u001b[0m\u001b[0;34m.\u001b[0m\u001b[0m_sock\u001b[0m\u001b[0;34m.\u001b[0m\u001b[0mrecv_into\u001b[0m\u001b[0;34m(\u001b[0m\u001b[0mb\u001b[0m\u001b[0;34m)\u001b[0m\u001b[0;34m\u001b[0m\u001b[0m\n\u001b[0m\u001b[1;32m    587\u001b[0m             \u001b[0;32mexcept\u001b[0m \u001b[0mtimeout\u001b[0m\u001b[0;34m:\u001b[0m\u001b[0;34m\u001b[0m\u001b[0m\n\u001b[1;32m    588\u001b[0m                 \u001b[0mself\u001b[0m\u001b[0;34m.\u001b[0m\u001b[0m_timeout_occurred\u001b[0m \u001b[0;34m=\u001b[0m \u001b[0;32mTrue\u001b[0m\u001b[0;34m\u001b[0m\u001b[0m\n",
      "\u001b[0;32m/anaconda/lib/python3.6/ssl.py\u001b[0m in \u001b[0;36mrecv_into\u001b[0;34m(self, buffer, nbytes, flags)\u001b[0m\n\u001b[1;32m   1000\u001b[0m                   \u001b[0;34m\"non-zero flags not allowed in calls to recv_into() on %s\"\u001b[0m \u001b[0;34m%\u001b[0m\u001b[0;34m\u001b[0m\u001b[0m\n\u001b[1;32m   1001\u001b[0m                   self.__class__)\n\u001b[0;32m-> 1002\u001b[0;31m             \u001b[0;32mreturn\u001b[0m \u001b[0mself\u001b[0m\u001b[0;34m.\u001b[0m\u001b[0mread\u001b[0m\u001b[0;34m(\u001b[0m\u001b[0mnbytes\u001b[0m\u001b[0;34m,\u001b[0m \u001b[0mbuffer\u001b[0m\u001b[0;34m)\u001b[0m\u001b[0;34m\u001b[0m\u001b[0m\n\u001b[0m\u001b[1;32m   1003\u001b[0m         \u001b[0;32melse\u001b[0m\u001b[0;34m:\u001b[0m\u001b[0;34m\u001b[0m\u001b[0m\n\u001b[1;32m   1004\u001b[0m             \u001b[0;32mreturn\u001b[0m \u001b[0msocket\u001b[0m\u001b[0;34m.\u001b[0m\u001b[0mrecv_into\u001b[0m\u001b[0;34m(\u001b[0m\u001b[0mself\u001b[0m\u001b[0;34m,\u001b[0m \u001b[0mbuffer\u001b[0m\u001b[0;34m,\u001b[0m \u001b[0mnbytes\u001b[0m\u001b[0;34m,\u001b[0m \u001b[0mflags\u001b[0m\u001b[0;34m)\u001b[0m\u001b[0;34m\u001b[0m\u001b[0m\n",
      "\u001b[0;32m/anaconda/lib/python3.6/ssl.py\u001b[0m in \u001b[0;36mread\u001b[0;34m(self, len, buffer)\u001b[0m\n\u001b[1;32m    863\u001b[0m             \u001b[0;32mraise\u001b[0m \u001b[0mValueError\u001b[0m\u001b[0;34m(\u001b[0m\u001b[0;34m\"Read on closed or unwrapped SSL socket.\"\u001b[0m\u001b[0;34m)\u001b[0m\u001b[0;34m\u001b[0m\u001b[0m\n\u001b[1;32m    864\u001b[0m         \u001b[0;32mtry\u001b[0m\u001b[0;34m:\u001b[0m\u001b[0;34m\u001b[0m\u001b[0m\n\u001b[0;32m--> 865\u001b[0;31m             \u001b[0;32mreturn\u001b[0m \u001b[0mself\u001b[0m\u001b[0;34m.\u001b[0m\u001b[0m_sslobj\u001b[0m\u001b[0;34m.\u001b[0m\u001b[0mread\u001b[0m\u001b[0;34m(\u001b[0m\u001b[0mlen\u001b[0m\u001b[0;34m,\u001b[0m \u001b[0mbuffer\u001b[0m\u001b[0;34m)\u001b[0m\u001b[0;34m\u001b[0m\u001b[0m\n\u001b[0m\u001b[1;32m    866\u001b[0m         \u001b[0;32mexcept\u001b[0m \u001b[0mSSLError\u001b[0m \u001b[0;32mas\u001b[0m \u001b[0mx\u001b[0m\u001b[0;34m:\u001b[0m\u001b[0;34m\u001b[0m\u001b[0m\n\u001b[1;32m    867\u001b[0m             \u001b[0;32mif\u001b[0m \u001b[0mx\u001b[0m\u001b[0;34m.\u001b[0m\u001b[0margs\u001b[0m\u001b[0;34m[\u001b[0m\u001b[0;36m0\u001b[0m\u001b[0;34m]\u001b[0m \u001b[0;34m==\u001b[0m \u001b[0mSSL_ERROR_EOF\u001b[0m \u001b[0;32mand\u001b[0m \u001b[0mself\u001b[0m\u001b[0;34m.\u001b[0m\u001b[0msuppress_ragged_eofs\u001b[0m\u001b[0;34m:\u001b[0m\u001b[0;34m\u001b[0m\u001b[0m\n",
      "\u001b[0;32m/anaconda/lib/python3.6/ssl.py\u001b[0m in \u001b[0;36mread\u001b[0;34m(self, len, buffer)\u001b[0m\n\u001b[1;32m    623\u001b[0m         \"\"\"\n\u001b[1;32m    624\u001b[0m         \u001b[0;32mif\u001b[0m \u001b[0mbuffer\u001b[0m \u001b[0;32mis\u001b[0m \u001b[0;32mnot\u001b[0m \u001b[0;32mNone\u001b[0m\u001b[0;34m:\u001b[0m\u001b[0;34m\u001b[0m\u001b[0m\n\u001b[0;32m--> 625\u001b[0;31m             \u001b[0mv\u001b[0m \u001b[0;34m=\u001b[0m \u001b[0mself\u001b[0m\u001b[0;34m.\u001b[0m\u001b[0m_sslobj\u001b[0m\u001b[0;34m.\u001b[0m\u001b[0mread\u001b[0m\u001b[0;34m(\u001b[0m\u001b[0mlen\u001b[0m\u001b[0;34m,\u001b[0m \u001b[0mbuffer\u001b[0m\u001b[0;34m)\u001b[0m\u001b[0;34m\u001b[0m\u001b[0m\n\u001b[0m\u001b[1;32m    626\u001b[0m         \u001b[0;32melse\u001b[0m\u001b[0;34m:\u001b[0m\u001b[0;34m\u001b[0m\u001b[0m\n\u001b[1;32m    627\u001b[0m             \u001b[0mv\u001b[0m \u001b[0;34m=\u001b[0m \u001b[0mself\u001b[0m\u001b[0;34m.\u001b[0m\u001b[0m_sslobj\u001b[0m\u001b[0;34m.\u001b[0m\u001b[0mread\u001b[0m\u001b[0;34m(\u001b[0m\u001b[0mlen\u001b[0m\u001b[0;34m)\u001b[0m\u001b[0;34m\u001b[0m\u001b[0m\n",
      "\u001b[0;31mKeyboardInterrupt\u001b[0m: "
     ]
    }
   ],
   "source": [
    "# dim=3 tensor\n",
    "\n",
    "import tensorflow.keras as keras\n",
    "(X_train, y_train), (X_test, y_test) = keras.datasets.imdb.load_data(num_words=10000)\n",
    "x_train = keras.preprocessing.sequence.pad_sequences(X_train, maxlen=80)\n",
    "x_train.shape\n",
    "\n",
    "#???"
   ]
  },
  {
   "cell_type": "code",
   "execution_count": 5,
   "metadata": {},
   "outputs": [
    {
     "data": {
      "text/plain": [
       "<tf.Tensor: id=66, shape=(4, 28, 28, 16), dtype=float32, numpy=\n",
       "array([[[[-0.29641765,  0.02349008, -0.5075111 , ...,  0.553286  ,\n",
       "          -0.2894608 , -0.722428  ],\n",
       "         [ 0.14030464, -1.078803  , -0.06721272, ..., -0.84137464,\n",
       "          -0.50464326, -0.9746289 ],\n",
       "         [-0.62977576, -0.11997198, -0.4211531 , ...,  0.21097282,\n",
       "           0.9518339 , -0.3923718 ],\n",
       "         ...,\n",
       "         [-0.8535177 , -0.06109335, -0.09485482, ...,  0.64261323,\n",
       "           0.22699597,  0.00552727],\n",
       "         [ 0.04548002, -0.63271755, -0.23775554, ..., -0.7371107 ,\n",
       "           0.32844153, -0.15631361],\n",
       "         [ 0.05242955,  0.253084  ,  0.02588944, ...,  0.05131917,\n",
       "           0.47577348,  0.02128585]],\n",
       "\n",
       "        [[ 0.33036155,  0.2287714 , -0.21784109, ...,  0.54904085,\n",
       "           0.72472996,  0.7366721 ],\n",
       "         [ 0.21315625,  0.1294954 ,  0.35024643, ...,  0.3408275 ,\n",
       "          -0.9952756 , -0.26733539],\n",
       "         [-0.26305434,  0.37967527, -1.7316198 , ...,  0.26290795,\n",
       "          -0.22363588, -0.9943117 ],\n",
       "         ...,\n",
       "         [ 0.1177377 ,  0.18961278,  0.05787323, ..., -0.10442045,\n",
       "          -0.22694558,  0.01298506],\n",
       "         [ 0.57295895,  0.42770702, -0.42374444, ..., -1.0969929 ,\n",
       "           0.02086098, -0.12665129],\n",
       "         [-0.317698  ,  0.21704732, -0.5437969 , ...,  0.11100904,\n",
       "           0.22533938,  0.5297683 ]],\n",
       "\n",
       "        [[-0.5212361 , -0.39244178, -0.9607179 , ..., -0.06267288,\n",
       "           0.7298018 , -1.0597188 ],\n",
       "         [-0.08792955, -0.46849662, -0.6755485 , ..., -0.92212975,\n",
       "          -0.6270424 , -0.25648722],\n",
       "         [-0.20748901,  1.1463361 , -0.09981123, ...,  0.9580586 ,\n",
       "          -1.0223818 ,  0.01367661],\n",
       "         ...,\n",
       "         [ 0.6644206 , -0.5079813 ,  0.11748678, ..., -0.29754084,\n",
       "           0.28532973,  0.1513619 ],\n",
       "         [ 0.18327335,  0.48968622,  0.28948665, ..., -0.04352369,\n",
       "          -1.5751969 , -0.01915681],\n",
       "         [-0.01692355, -0.00447891,  0.16773687, ..., -0.02317589,\n",
       "          -0.4546373 , -0.14210789]],\n",
       "\n",
       "        ...,\n",
       "\n",
       "        [[ 0.12983139, -0.5311673 ,  0.01097774, ..., -0.06985065,\n",
       "          -0.711258  , -0.01023752],\n",
       "         [-0.56007135, -0.7354027 , -0.6617267 , ..., -0.9448453 ,\n",
       "           0.10265646, -1.0250236 ],\n",
       "         [-0.59241533, -0.45896414,  0.11125775, ..., -0.3378037 ,\n",
       "          -0.57287294, -0.04541121],\n",
       "         ...,\n",
       "         [ 0.44730723,  1.0680783 , -0.56060517, ...,  0.4735719 ,\n",
       "           0.14903039,  0.0928063 ],\n",
       "         [-0.07196812, -0.41623512,  0.9113938 , ..., -0.04704618,\n",
       "           0.7474522 ,  0.18159048],\n",
       "         [ 0.33952492,  0.03251523, -0.171431  , ..., -0.18704966,\n",
       "          -0.08305978,  0.08098192]],\n",
       "\n",
       "        [[-0.8396077 ,  0.28209016,  0.11450641, ...,  1.4944967 ,\n",
       "           0.35496658,  0.09796925],\n",
       "         [ 0.22824615, -0.61212224, -0.91812545, ...,  0.6778487 ,\n",
       "           0.2839885 , -0.50916827],\n",
       "         [-0.82865024, -0.64633185,  0.6379767 , ..., -0.7361458 ,\n",
       "          -0.95657384, -0.16842516],\n",
       "         ...,\n",
       "         [ 0.26430708, -0.36184478, -0.42818508, ..., -0.5808488 ,\n",
       "          -1.0834465 , -0.00632254],\n",
       "         [-0.15547581,  0.2722175 , -0.4445645 , ..., -0.2611028 ,\n",
       "           0.18052872, -0.3423465 ],\n",
       "         [-0.14511813,  0.12041926, -0.3339518 , ...,  0.29479477,\n",
       "           0.16216367,  0.27324152]],\n",
       "\n",
       "        [[-0.06108856, -0.32013687, -0.27678153, ..., -0.63044864,\n",
       "           0.33867055, -0.48183325],\n",
       "         [-0.01736646,  0.8447931 , -0.7557098 , ...,  0.7515668 ,\n",
       "           0.3443204 ,  0.40399322],\n",
       "         [-1.1387023 , -0.6856962 , -0.4303955 , ...,  0.10801764,\n",
       "           1.0563729 , -0.23441613],\n",
       "         ...,\n",
       "         [-0.4794087 , -0.5433972 , -0.24247633, ...,  0.3201529 ,\n",
       "          -0.30726245, -0.22869225],\n",
       "         [ 0.9142873 ,  0.7335832 ,  0.09247884, ..., -0.4573745 ,\n",
       "           0.3371869 ,  0.13016635],\n",
       "         [-0.27396476,  0.07322496, -0.08844346, ..., -0.08486016,\n",
       "          -0.56859255, -0.07961495]]],\n",
       "\n",
       "\n",
       "       [[[-0.01820654,  0.483626  ,  0.03767351, ..., -0.18859212,\n",
       "          -0.31295544,  0.24452704],\n",
       "         [ 0.33878064,  0.6334008 ,  0.1469815 , ..., -0.6580313 ,\n",
       "          -0.658238  ,  0.4214994 ],\n",
       "         [ 0.57393754,  0.9846373 ,  0.22643916, ..., -0.30934995,\n",
       "          -0.15055992,  0.24763982],\n",
       "         ...,\n",
       "         [ 0.9040036 ,  0.4320856 , -0.51932704, ..., -0.7009658 ,\n",
       "          -0.49195477,  0.46101877],\n",
       "         [ 0.2960456 ,  1.1123785 ,  0.47177958, ..., -0.00482882,\n",
       "          -0.97211397,  1.0329425 ],\n",
       "         [-0.06470305, -0.07579513,  0.05962848, ..., -0.07594929,\n",
       "          -0.3830219 , -0.08656072]],\n",
       "\n",
       "        [[-0.47332644, -0.90519935,  0.412668  , ..., -0.6030405 ,\n",
       "          -0.5955729 , -0.14112958],\n",
       "         [ 1.3456265 , -0.20367618,  0.75132674, ..., -0.7370926 ,\n",
       "           1.0557586 , -0.14102753],\n",
       "         [ 0.38476232,  0.18055315,  0.41543686, ...,  0.35835466,\n",
       "          -0.20639546,  0.1102844 ],\n",
       "         ...,\n",
       "         [ 0.01493321, -0.11473154,  0.31957343, ...,  1.6873872 ,\n",
       "          -0.21179739, -0.59142494],\n",
       "         [ 0.5507546 , -2.2166715 ,  0.29890013, ..., -0.27382454,\n",
       "           0.7861213 , -0.12139536],\n",
       "         [-0.63968664, -0.5075372 , -0.23113789, ..., -0.42726   ,\n",
       "          -0.01699335, -0.3624044 ]],\n",
       "\n",
       "        [[-0.6004399 ,  0.34656578,  1.2141933 , ...,  0.19751023,\n",
       "          -0.43257582,  0.16904952],\n",
       "         [-0.42925236,  1.353276  , -0.932955  , ...,  0.45678577,\n",
       "           0.92496234,  0.5271112 ],\n",
       "         [-1.2149326 ,  0.47575268, -0.0800828 , ...,  0.8771173 ,\n",
       "          -0.93238485,  0.26969367],\n",
       "         ...,\n",
       "         [-0.11437168, -0.04281004, -0.42453796, ...,  0.85290897,\n",
       "          -0.7012035 ,  0.57183415],\n",
       "         [-1.1198263 ,  0.22211494,  0.62881446, ...,  0.7728767 ,\n",
       "          -0.01948606,  0.14974132],\n",
       "         [-0.5210968 , -0.4061478 , -0.7874377 , ..., -0.2439045 ,\n",
       "           0.7349276 , -0.41870758]],\n",
       "\n",
       "        ...,\n",
       "\n",
       "        [[ 0.42026296, -0.01738763, -0.03117914, ...,  0.20892844,\n",
       "           0.16917396, -0.01439698],\n",
       "         [ 0.15172994,  0.6167425 ,  0.22309454, ..., -0.04159884,\n",
       "          -0.5762885 , -0.538684  ],\n",
       "         [-0.59229195,  0.95407873, -0.37123588, ...,  0.8277379 ,\n",
       "          -0.7665312 , -0.26384404],\n",
       "         ...,\n",
       "         [ 0.16659959, -1.6586678 , -0.24423638, ...,  0.00287042,\n",
       "           0.17251316, -1.3015794 ],\n",
       "         [ 0.10402606,  0.20046028,  0.36827132, ..., -1.5831854 ,\n",
       "          -0.37543368,  0.38894343],\n",
       "         [-0.3638838 ,  0.19768329,  0.15856625, ...,  0.09919225,\n",
       "          -0.41460282, -0.9244688 ]],\n",
       "\n",
       "        [[-0.26695022,  0.42683834, -0.22934248, ..., -0.7285553 ,\n",
       "           0.54845643, -0.15540929],\n",
       "         [ 0.38965753,  0.53049886,  0.3329322 , ...,  0.3683278 ,\n",
       "          -0.39959684,  0.15671419],\n",
       "         [ 0.4652216 , -0.29781199,  0.37171587, ...,  0.37557036,\n",
       "           0.4553725 , -0.41002527],\n",
       "         ...,\n",
       "         [-0.19044198,  0.21879451,  0.4232805 , ...,  0.966346  ,\n",
       "           0.05300598,  0.09740348],\n",
       "         [-0.46049064, -1.8225394 , -0.7239778 , ...,  0.54431146,\n",
       "          -0.18020771, -1.1291624 ],\n",
       "         [ 0.46072567, -0.39833805, -0.16468775, ..., -1.6293494 ,\n",
       "          -0.4053858 , -0.97039604]],\n",
       "\n",
       "        [[ 0.33672127, -0.13281767, -0.3152448 , ..., -0.26385495,\n",
       "           0.54255795, -0.5652398 ],\n",
       "         [ 0.47538865, -0.65469235, -0.05940551, ..., -0.46352893,\n",
       "          -0.02015537, -0.33096787],\n",
       "         [ 0.44621322, -0.04940809, -0.22069044, ...,  0.19735993,\n",
       "          -0.17382365, -0.18630216],\n",
       "         ...,\n",
       "         [-0.2813087 , -0.5107637 , -0.6187463 , ...,  0.735629  ,\n",
       "          -0.10661875, -0.32528538],\n",
       "         [-0.05917641,  0.32657257,  0.26186177, ...,  0.00564646,\n",
       "           1.6833543 ,  0.24213147],\n",
       "         [-0.46431896, -0.20832244, -0.62654334, ...,  0.3227131 ,\n",
       "          -0.57617116, -0.28679705]]],\n",
       "\n",
       "\n",
       "       [[[-0.3180412 ,  0.20835154, -0.31232738, ...,  0.248249  ,\n",
       "           0.22357813, -0.09311562],\n",
       "         [-0.49963474,  0.24104892,  0.08993727, ...,  0.33099568,\n",
       "           0.13095868,  0.22107404],\n",
       "         [-0.10895357, -0.22099586, -0.34677902, ..., -0.02277187,\n",
       "           0.24526997, -0.09448221],\n",
       "         ...,\n",
       "         [-0.43298748,  0.07230775,  0.6062983 , ..., -0.0738485 ,\n",
       "          -0.36100152,  0.3755711 ],\n",
       "         [ 0.44007772, -0.07462183,  0.3212499 , ..., -0.66384804,\n",
       "          -0.01299147, -0.34227812],\n",
       "         [ 0.3522549 ,  0.46214283,  0.34681508, ...,  0.24229953,\n",
       "           0.34594917,  0.30158487]],\n",
       "\n",
       "        [[ 1.1567717 ,  0.34924713,  0.09539138, ..., -0.46424785,\n",
       "           0.844718  , -0.06972796],\n",
       "         [ 0.23848683, -0.84016055,  0.48693076, ...,  0.21116096,\n",
       "           0.56939816, -0.16125885],\n",
       "         [ 0.37433183,  0.68294173,  0.53142864, ...,  1.6534313 ,\n",
       "          -0.2836732 ,  0.6494934 ],\n",
       "         ...,\n",
       "         [-0.6945645 , -0.42965165,  0.15286714, ..., -0.6099721 ,\n",
       "           0.25245947,  0.14536813],\n",
       "         [-0.3315089 , -0.07373635, -0.42031938, ...,  0.78153247,\n",
       "          -0.1802901 , -0.7286098 ],\n",
       "         [-0.09284671, -0.49538758,  0.17063737, ...,  0.03338514,\n",
       "          -0.35172537, -0.12099567]],\n",
       "\n",
       "        [[ 0.45491737,  0.1794719 , -0.6471984 , ...,  0.3307196 ,\n",
       "          -0.26474556,  0.36280495],\n",
       "         [-0.61501914,  0.44526544, -1.2075974 , ...,  0.19609097,\n",
       "          -0.6147807 ,  0.00889806],\n",
       "         [-0.559682  , -0.729494  , -1.0655473 , ..., -0.7981357 ,\n",
       "          -0.42973217,  0.36120555],\n",
       "         ...,\n",
       "         [-0.08568693, -0.49962962, -0.11456291, ...,  0.01452186,\n",
       "           1.7688131 , -0.07322333],\n",
       "         [-0.12637624,  0.41753772, -1.2126017 , ...,  1.1915354 ,\n",
       "          -0.14457142, -0.17713806],\n",
       "         [-0.11577317, -0.6630291 ,  0.23802459, ...,  0.37178788,\n",
       "          -0.13856867, -0.59416014]],\n",
       "\n",
       "        ...,\n",
       "\n",
       "        [[ 0.6790961 , -0.48027048,  0.6189309 , ..., -0.63591254,\n",
       "          -0.30425724, -0.7990215 ],\n",
       "         [ 0.89331675,  0.4732445 ,  1.3371042 , ..., -1.0514606 ,\n",
       "           0.3987659 , -0.01674364],\n",
       "         [ 0.81428576,  0.5691808 ,  1.1274188 , ...,  0.37368488,\n",
       "           0.39339137,  0.23159537],\n",
       "         ...,\n",
       "         [ 0.7712293 ,  0.6204937 , -0.11829082, ...,  0.12157661,\n",
       "           1.1139028 ,  0.8729251 ],\n",
       "         [-0.45483127,  0.25868005, -1.0077739 , ..., -0.01503825,\n",
       "           0.84752756,  0.3132695 ],\n",
       "         [-0.30128923, -0.45831287, -0.05471382, ...,  0.6319275 ,\n",
       "          -0.94660294, -0.29979968]],\n",
       "\n",
       "        [[ 0.992924  ,  0.30228385,  0.29923972, ..., -0.24247384,\n",
       "           0.29607895, -0.14268099],\n",
       "         [ 0.31377974, -0.65821224, -0.25307262, ..., -0.16363828,\n",
       "           1.2392205 ,  0.64834046],\n",
       "         [-0.16641204,  0.1072758 , -0.30027393, ..., -0.835884  ,\n",
       "          -1.4735758 , -0.40313798],\n",
       "         ...,\n",
       "         [-0.5862304 ,  0.46284315, -0.3698077 , ...,  0.32313997,\n",
       "          -1.0852226 , -0.60541487],\n",
       "         [ 0.00686791, -0.01051259, -0.72796243, ..., -0.46616602,\n",
       "           0.5159085 ,  0.14591494],\n",
       "         [-0.23723583,  0.4103619 , -0.74431336, ..., -0.93253493,\n",
       "           0.47458816,  0.02443559]],\n",
       "\n",
       "        [[-0.11544706,  0.25991693, -0.31929854, ...,  0.04636096,\n",
       "          -0.47463667,  0.07694949],\n",
       "         [-0.4508625 ,  0.36620373,  0.2467223 , ...,  1.000887  ,\n",
       "           0.4326064 ,  0.6758548 ],\n",
       "         [ 0.07814253, -0.11548991, -0.25625706, ..., -0.6487954 ,\n",
       "           0.2385358 , -0.3604547 ],\n",
       "         ...,\n",
       "         [ 0.6246487 , -0.29898977,  0.15279675, ..., -0.15309133,\n",
       "          -0.14817314, -0.50855875],\n",
       "         [ 0.5327294 , -0.23188514,  1.2359477 , ..., -0.0033384 ,\n",
       "          -0.67345595, -0.71487635],\n",
       "         [ 0.45114207,  0.18838198,  0.10526218, ..., -0.41719773,\n",
       "          -0.06311235,  0.2547511 ]]],\n",
       "\n",
       "\n",
       "       [[[ 0.4412338 , -0.15276188,  0.2712553 , ..., -0.807869  ,\n",
       "          -1.0696691 , -0.6913579 ],\n",
       "         [ 0.29232976,  0.35478947,  0.83187956, ..., -0.6432829 ,\n",
       "          -1.4323852 ,  0.17870112],\n",
       "         [-0.13292263,  0.20607881, -0.6513917 , ..., -0.5064084 ,\n",
       "           0.11176983, -0.1894561 ],\n",
       "         ...,\n",
       "         [-0.08522702, -0.73968416, -0.18925633, ...,  0.0553118 ,\n",
       "           1.3092811 , -0.602082  ],\n",
       "         [ 0.05459733,  0.91819745,  0.11873255, ...,  1.308313  ,\n",
       "           0.5689409 , -0.469997  ],\n",
       "         [ 0.33373237, -0.31466874,  0.07860523, ..., -0.00599216,\n",
       "           0.4920515 ,  0.00969978]],\n",
       "\n",
       "        [[-0.6347614 , -0.02655984,  0.13230254, ...,  0.4070388 ,\n",
       "           0.1502955 ,  0.01990768],\n",
       "         [ 0.01879968, -0.70965534,  0.71746296, ...,  0.39758223,\n",
       "          -0.39737266, -0.7328041 ],\n",
       "         [ 0.4532134 , -0.03476244,  0.8064244 , ...,  0.5291527 ,\n",
       "           1.0469155 ,  0.350858  ],\n",
       "         ...,\n",
       "         [ 1.0675526 ,  0.35039335, -0.09583679, ..., -0.8855893 ,\n",
       "          -0.2560075 ,  0.6036616 ],\n",
       "         [ 0.27363893,  0.9516689 , -0.40657666, ..., -0.89413655,\n",
       "          -1.5411526 ,  0.8740014 ],\n",
       "         [ 0.1537361 ,  0.30721712, -0.14857113, ...,  0.35958403,\n",
       "          -1.072489  , -1.0784152 ]],\n",
       "\n",
       "        [[ 0.69244766, -0.44292685, -0.5988944 , ..., -0.83616114,\n",
       "           0.62907857, -0.49539986],\n",
       "         [-0.28703246,  0.28136742, -0.08586846, ...,  0.42617235,\n",
       "          -0.03554022,  0.02526337],\n",
       "         [-0.2942439 , -0.38613546,  0.05540996, ...,  1.013507  ,\n",
       "           0.0134947 ,  0.15551539],\n",
       "         ...,\n",
       "         [-0.9808106 ,  0.38657585, -0.04481141, ...,  0.5257423 ,\n",
       "           0.29363102,  1.2592082 ],\n",
       "         [-0.23378885, -1.1122593 , -0.0890763 , ..., -0.19010077,\n",
       "           0.4479701 , -0.41670954],\n",
       "         [ 0.7830641 , -0.26264784,  0.05541825, ..., -0.64493567,\n",
       "          -0.36989444, -0.7055006 ]],\n",
       "\n",
       "        ...,\n",
       "\n",
       "        [[ 0.7807497 , -0.9042222 , -0.59165823, ..., -0.21384746,\n",
       "          -0.33537573, -0.602217  ],\n",
       "         [ 0.13718444,  0.13564107, -0.10907892, ..., -0.8761741 ,\n",
       "          -0.3431846 , -0.60856116],\n",
       "         [-0.4428373 ,  1.2090278 ,  0.9267254 , ..., -0.21883371,\n",
       "          -0.20385686,  0.14235866],\n",
       "         ...,\n",
       "         [-0.583304  ,  0.26302016,  0.86103773, ...,  0.6317088 ,\n",
       "          -1.7423207 , -0.19254398],\n",
       "         [ 0.9516553 ,  0.21591286,  0.13919061, ..., -0.06427532,\n",
       "           0.7664129 , -0.38466412],\n",
       "         [-0.20201132, -0.4478345 ,  0.02737241, ..., -0.2942292 ,\n",
       "          -0.327522  ,  0.04424146]],\n",
       "\n",
       "        [[-0.8359082 , -0.07431549, -0.10239208, ...,  0.13850845,\n",
       "          -0.82914567, -0.4748736 ],\n",
       "         [ 1.4732126 , -0.32891995, -0.57694376, ..., -0.40799034,\n",
       "          -0.2630812 ,  0.49803498],\n",
       "         [ 0.23532167, -0.50026834,  0.10733836, ..., -1.4119229 ,\n",
       "          -0.5353328 , -0.04807563],\n",
       "         ...,\n",
       "         [-0.54064906, -0.52867997, -0.04163297, ..., -0.65718216,\n",
       "           0.46750462,  0.00505387],\n",
       "         [ 0.9803201 ,  0.33066425, -0.43379724, ...,  0.24766585,\n",
       "           0.83917195,  0.05535523],\n",
       "         [-0.15887912,  0.29960868,  0.02052121, ..., -0.29298297,\n",
       "           0.2807416 ,  0.12368899]],\n",
       "\n",
       "        [[ 0.20460488, -0.13747422, -0.32682174, ..., -0.67845494,\n",
       "          -0.378884  ,  0.17988439],\n",
       "         [-0.5308715 ,  0.5683049 ,  0.276921  , ...,  0.38721338,\n",
       "           0.01305806,  0.3690807 ],\n",
       "         [-0.84267676, -0.25531042, -0.20744956, ...,  0.41138703,\n",
       "           0.65788305,  0.53832006],\n",
       "         ...,\n",
       "         [-0.09548561, -0.20903656,  0.31559202, ..., -0.57677925,\n",
       "          -0.1723933 , -0.08937757],\n",
       "         [ 0.46382046,  0.21849704,  0.39174235, ...,  0.39340878,\n",
       "          -1.2783669 ,  0.04968021],\n",
       "         [ 0.4148445 ,  0.17699641,  0.4071713 , ..., -0.21778683,\n",
       "          -0.09703127,  0.37606516]]]], dtype=float32)>"
      ]
     },
     "execution_count": 5,
     "metadata": {},
     "output_type": "execute_result"
    }
   ],
   "source": [
    "# Dim=4 Tensor\n",
    "# Image: [b, h, w, 3]\n",
    "# feature maps: [b, h, w, c]\n",
    "# 将其视为输入的图像, b张高宽为h,w,通道为3通道的图片\n",
    "\n",
    "x = tf.random.normal([4, 28, 28, 3])\n",
    "net = layers.Conv2D(16, kernel_size=3, padding='SAME')\n",
    "net(x)"
   ]
  },
  {
   "cell_type": "code",
   "execution_count": null,
   "metadata": {
    "collapsed": true
   },
   "outputs": [],
   "source": [
    "# Dim=5 Tensor\n",
    "# Single task: [b, h, w, 3]\n",
    "# meta-learning:[task_b, b, h, w, 3]"
   ]
  },
  {
   "cell_type": "code",
   "execution_count": null,
   "metadata": {
    "collapsed": true
   },
   "outputs": [],
   "source": []
  }
 ],
 "metadata": {
  "kernelspec": {
   "display_name": "Python 3",
   "language": "python",
   "name": "python3"
  },
  "language_info": {
   "codemirror_mode": {
    "name": "ipython",
    "version": 3
   },
   "file_extension": ".py",
   "mimetype": "text/x-python",
   "name": "python",
   "nbconvert_exporter": "python",
   "pygments_lexer": "ipython3",
   "version": "3.6.1"
  }
 },
 "nbformat": 4,
 "nbformat_minor": 2
}
