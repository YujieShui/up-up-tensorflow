{
 "cells": [
  {
   "cell_type": "markdown",
   "metadata": {},
   "source": [
    "![图和会话](./images/ch1_001.png)\n",
    "\n",
    "- 使用图 graphs 表示计算任务\n",
    "- 在会话(Session)的上下文(context)中执行图(graphs)\n",
    "- 使用 tensor 表示数据\n",
    "- 使用 Variable 维护状态\n",
    "- 使用 feed 和 fetch 为任意操作赋值或者从中能获取数据"
   ]
  },
  {
   "cell_type": "markdown",
   "metadata": {},
   "source": [
    "# 创建和使用图"
   ]
  },
  {
   "cell_type": "code",
   "execution_count": 1,
   "metadata": {
    "collapsed": true
   },
   "outputs": [],
   "source": [
    "import tensorflow as tf"
   ]
  },
  {
   "cell_type": "code",
   "execution_count": 6,
   "metadata": {},
   "outputs": [
    {
     "name": "stdout",
     "output_type": "stream",
     "text": [
      "Tensor(\"MatMul:0\", shape=(1, 1), dtype=int32)\n"
     ]
    }
   ],
   "source": [
    "x = tf.constant([[2, 3]])\n",
    "y = tf.constant([[3], [3]])\n",
    "z = tf.matmul(x, y)\n",
    "print(z)"
   ]
  },
  {
   "cell_type": "code",
   "execution_count": 7,
   "metadata": {},
   "outputs": [
    {
     "name": "stdout",
     "output_type": "stream",
     "text": [
      "[[15]]\n"
     ]
    }
   ],
   "source": [
    "with tf.Session() as sess:\n",
    "    z = sess.run(z)\n",
    "    print(z)"
   ]
  },
  {
   "cell_type": "markdown",
   "metadata": {},
   "source": [
    "# 变量"
   ]
  },
  {
   "cell_type": "code",
   "execution_count": 10,
   "metadata": {},
   "outputs": [
    {
     "name": "stdout",
     "output_type": "stream",
     "text": [
      "2\n",
      "3\n",
      "4\n",
      "5\n",
      "6\n"
     ]
    }
   ],
   "source": [
    "import tensorflow as tf\n",
    "\n",
    "# 定义一个变量 v\n",
    "v = tf.Variable(1, name=\"v\")\n",
    "# 定义一个 op，表示 v+1 的运算\n",
    "add_v = tf.add(v, 1)\n",
    "# 定义赋值操作，tensorflow 中不能使用 “=” 直接赋值，而是用 assign()\n",
    "update = tf.assign(v, add_v)\n",
    "\n",
    "# 变量需要初始化\n",
    "init = tf.global_variables_initializer()\n",
    "\n",
    "with tf.Session() as sess:\n",
    "    sess.run(init)\n",
    "    for _ in range(5):\n",
    "        print(sess.run(update))"
   ]
  },
  {
   "cell_type": "markdown",
   "metadata": {},
   "source": [
    "# fetch and feed\n",
    "\n",
    "- fetch sess.run() 时批量执行 op\n",
    "- feed sess.run() 时喂数据"
   ]
  },
  {
   "cell_type": "code",
   "execution_count": 11,
   "metadata": {
    "collapsed": true
   },
   "outputs": [],
   "source": [
    "import tensorflow as tf"
   ]
  },
  {
   "cell_type": "code",
   "execution_count": 13,
   "metadata": {},
   "outputs": [
    {
     "name": "stdout",
     "output_type": "stream",
     "text": [
      "[7.0, 35.0]\n"
     ]
    }
   ],
   "source": [
    "# fetch 的使用\n",
    "input1 = tf.constant(3.0)\n",
    "input2 = tf.constant(4.0)\n",
    "input3 = tf.constant(5.0)\n",
    "\n",
    "add = tf.add(input1, input2)\n",
    "mul = tf.multiply(add, input3)\n",
    "\n",
    "with tf.Session() as sess:\n",
    "    result = sess.run([add, mul])\n",
    "    print(result)"
   ]
  },
  {
   "cell_type": "code",
   "execution_count": 15,
   "metadata": {},
   "outputs": [
    {
     "name": "stdout",
     "output_type": "stream",
     "text": [
      "[ 15.]\n"
     ]
    }
   ],
   "source": [
    "# feed 的使用\n",
    "input1 = tf.placeholder(tf.float32)\n",
    "input2 = tf.placeholder(tf.float32)\n",
    "output = tf.multiply(input1, input2)\n",
    "\n",
    "with tf.Session() as sess:\n",
    "    # 以字典的形式 feed ，所以参数名称叫 feed_dict\n",
    "    print(sess.run(output, feed_dict={input1:[3.0], input2:[5.0]}))"
   ]
  },
  {
   "cell_type": "code",
   "execution_count": null,
   "metadata": {
    "collapsed": true
   },
   "outputs": [],
   "source": []
  }
 ],
 "metadata": {
  "kernelspec": {
   "display_name": "Python 3",
   "language": "python",
   "name": "python3"
  },
  "language_info": {
   "codemirror_mode": {
    "name": "ipython",
    "version": 3
   },
   "file_extension": ".py",
   "mimetype": "text/x-python",
   "name": "python",
   "nbconvert_exporter": "python",
   "pygments_lexer": "ipython3",
   "version": "3.6.5"
  }
 },
 "nbformat": 4,
 "nbformat_minor": 2
}
