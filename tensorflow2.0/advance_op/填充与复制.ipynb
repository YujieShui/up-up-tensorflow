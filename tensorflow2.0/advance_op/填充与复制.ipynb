{
 "cells": [
  {
   "cell_type": "markdown",
   "metadata": {},
   "source": [
    "# 填充与复制\n",
    "\n",
    "- pad\n",
    "- tile\n",
    "- broadcast_to"
   ]
  },
  {
   "cell_type": "code",
   "execution_count": 1,
   "metadata": {},
   "outputs": [],
   "source": [
    "import tensorflow as tf"
   ]
  },
  {
   "cell_type": "code",
   "execution_count": 8,
   "metadata": {},
   "outputs": [
    {
     "data": {
      "text/plain": [
       "(<tf.Tensor: id=53, shape=(3, 3), dtype=int32, numpy=\n",
       " array([[0, 1, 2],\n",
       "        [3, 4, 5],\n",
       "        [6, 7, 8]], dtype=int32)>,\n",
       " <tf.Tensor: id=55, shape=(4, 3), dtype=int32, numpy=\n",
       " array([[0, 0, 0],\n",
       "        [0, 1, 2],\n",
       "        [3, 4, 5],\n",
       "        [6, 7, 8]], dtype=int32)>,\n",
       " <tf.Tensor: id=57, shape=(4, 3), dtype=int32, numpy=\n",
       " array([[0, 1, 2],\n",
       "        [3, 4, 5],\n",
       "        [6, 7, 8],\n",
       "        [0, 0, 0]], dtype=int32)>)"
      ]
     },
     "execution_count": 8,
     "metadata": {},
     "output_type": "execute_result"
    }
   ],
   "source": [
    "# pad\n",
    "a = tf.reshape(tf.range(9), [3,3])\n",
    "\n",
    "tf.pad(a,[[0,0],[0,0]]),tf.pad(a,[[1,0],[0,0]])"
   ]
  },
  {
   "cell_type": "code",
   "execution_count": 10,
   "metadata": {},
   "outputs": [
    {
     "data": {
      "text/plain": [
       "(<tf.Tensor: id=65, shape=(5, 3), dtype=int32, numpy=\n",
       " array([[0, 0, 0],\n",
       "        [0, 1, 2],\n",
       "        [3, 4, 5],\n",
       "        [6, 7, 8],\n",
       "        [0, 0, 0]], dtype=int32)>,\n",
       " <tf.Tensor: id=67, shape=(5, 5), dtype=int32, numpy=\n",
       " array([[0, 0, 0, 0, 0],\n",
       "        [0, 0, 1, 2, 0],\n",
       "        [0, 3, 4, 5, 0],\n",
       "        [0, 6, 7, 8, 0],\n",
       "        [0, 0, 0, 0, 0]], dtype=int32)>)"
      ]
     },
     "execution_count": 10,
     "metadata": {},
     "output_type": "execute_result"
    }
   ],
   "source": [
    "tf.pad(a,[[1,1],[0,0]]), tf.pad(a,[[1,1],[1,1]])"
   ]
  },
  {
   "cell_type": "code",
   "execution_count": 11,
   "metadata": {},
   "outputs": [
    {
     "data": {
      "text/plain": [
       "TensorShape([4, 32, 32, 3])"
      ]
     },
     "execution_count": 11,
     "metadata": {},
     "output_type": "execute_result"
    }
   ],
   "source": [
    "# image padding\n",
    "\n",
    "a = tf.random.normal([4,28,28,3])\n",
    "b = tf.pad(a, [[0,0],[2,2],[2,2],[0,0]])\n",
    "\n",
    "b.shape"
   ]
  },
  {
   "cell_type": "code",
   "execution_count": 12,
   "metadata": {},
   "outputs": [
    {
     "data": {
      "text/plain": [
       "(<tf.Tensor: id=85, shape=(3, 6), dtype=int32, numpy=\n",
       " array([[0, 1, 2, 0, 1, 2],\n",
       "        [3, 4, 5, 3, 4, 5],\n",
       "        [6, 7, 8, 6, 7, 8]], dtype=int32)>,\n",
       " <tf.Tensor: id=87, shape=(6, 3), dtype=int32, numpy=\n",
       " array([[0, 1, 2],\n",
       "        [3, 4, 5],\n",
       "        [6, 7, 8],\n",
       "        [0, 1, 2],\n",
       "        [3, 4, 5],\n",
       "        [6, 7, 8]], dtype=int32)>,\n",
       " <tf.Tensor: id=89, shape=(6, 6), dtype=int32, numpy=\n",
       " array([[0, 1, 2, 0, 1, 2],\n",
       "        [3, 4, 5, 3, 4, 5],\n",
       "        [6, 7, 8, 6, 7, 8],\n",
       "        [0, 1, 2, 0, 1, 2],\n",
       "        [3, 4, 5, 3, 4, 5],\n",
       "        [6, 7, 8, 6, 7, 8]], dtype=int32)>)"
      ]
     },
     "execution_count": 12,
     "metadata": {},
     "output_type": "execute_result"
    }
   ],
   "source": [
    "# tile\n",
    "# repeat data along dim n times\n",
    "# [a,b,c],2 => [a,b,c,a,b,c]\n",
    "\n",
    "a = tf.reshape(tf.range(9), [3,3])\n",
    "tf.tile(a,[1,2]), tf.tile(a,[2,1]), tf.tile(a,[2,2])"
   ]
  },
  {
   "cell_type": "code",
   "execution_count": 16,
   "metadata": {},
   "outputs": [
    {
     "data": {
      "text/plain": [
       "(<tf.Tensor: id=131, shape=(2, 3, 3), dtype=int32, numpy=\n",
       " array([[[0, 1, 2],\n",
       "         [3, 4, 5],\n",
       "         [6, 7, 8]],\n",
       " \n",
       "        [[0, 1, 2],\n",
       "         [3, 4, 5],\n",
       "         [6, 7, 8]]], dtype=int32)>,\n",
       " <tf.Tensor: id=133, shape=(2, 3, 3), dtype=int32, numpy=\n",
       " array([[[0, 1, 2],\n",
       "         [3, 4, 5],\n",
       "         [6, 7, 8]],\n",
       " \n",
       "        [[0, 1, 2],\n",
       "         [3, 4, 5],\n",
       "         [6, 7, 8]]], dtype=int32)>)"
      ]
     },
     "execution_count": 16,
     "metadata": {},
     "output_type": "execute_result"
    }
   ],
   "source": [
    "# tile VS broadcast_to\n",
    "\n",
    "a = tf.reshape(tf.range(9), [3,3])\n",
    "aa = tf.expand_dims(a, axis=0)\n",
    "tf.tile(aa, [2,1,1]), tf.broadcast_to(aa,[2,3,3])"
   ]
  },
  {
   "cell_type": "code",
   "execution_count": null,
   "metadata": {},
   "outputs": [],
   "source": []
  }
 ],
 "metadata": {
  "kernelspec": {
   "display_name": "Python 3",
   "language": "python",
   "name": "python3"
  },
  "language_info": {
   "codemirror_mode": {
    "name": "ipython",
    "version": 3
   },
   "file_extension": ".py",
   "mimetype": "text/x-python",
   "name": "python",
   "nbconvert_exporter": "python",
   "pygments_lexer": "ipython3",
   "version": "3.7.3"
  },
  "toc": {
   "base_numbering": 1,
   "nav_menu": {},
   "number_sections": true,
   "sideBar": true,
   "skip_h1_title": false,
   "title_cell": "Table of Contents",
   "title_sidebar": "Contents",
   "toc_cell": false,
   "toc_position": {},
   "toc_section_display": true,
   "toc_window_display": false
  }
 },
 "nbformat": 4,
 "nbformat_minor": 2
}
