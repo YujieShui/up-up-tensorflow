{
 "cells": [
  {
   "cell_type": "markdown",
   "metadata": {},
   "source": [
    "# 数据加载\n",
    "\n",
    "数据是机器学习的养料，tensorflow为我们提供了一些经典的数据集，并封装了用于处理数据集的接口。TensorFlow封装了`tf.keras.datasets`用于下载和处理一些经典的数据集。这些数据集包括：\n",
    "\n",
    "1. boston housing\n",
    "波士顿房屋相关数据，包括房屋的大小，房间数量，房价等信息，可以用于 regression 问题，比如经典的房价预测问题。\n",
    "\n",
    "2. mnist/fashion mnist\n",
    "手写数字和服装数据集，用于CV相关的问题，比如经典的手写数字识别问题\n",
    "\n",
    "3. cifar10/100\n",
    "也是一个图像数据集，cifar10中有10个分类，场景比mnist更加复杂\n",
    "\n",
    "4. imdb\n",
    "类似于豆瓣里面给电影评论，来判断是好评还是差评，也是一个用于分类的数据集"
   ]
  },
  {
   "cell_type": "markdown",
   "metadata": {},
   "source": [
    "## Mnist"
   ]
  },
  {
   "cell_type": "code",
   "execution_count": 33,
   "metadata": {},
   "outputs": [],
   "source": [
    "import tensorflow as tf\n",
    "from tensorflow import keras"
   ]
  },
  {
   "cell_type": "code",
   "execution_count": 2,
   "metadata": {},
   "outputs": [
    {
     "data": {
      "text/plain": [
       "((60000, 28, 28), (60000,), 0, 255, 33.318421449829934)"
      ]
     },
     "execution_count": 2,
     "metadata": {},
     "output_type": "execute_result"
    }
   ],
   "source": [
    "# 加载数据集\n",
    "(x_train,y_train),(x_test,y_test) = keras.datasets.mnist.load_data()\n",
    "# train dataset:60k 28x28 的图像\n",
    "# test dataset:10k 28x28 的图像\n",
    "\n",
    "# 注意：此时加载到的数据是numpy类型的数据，还不是tensor，我们可以使用numpy的x_train.min()操作\n",
    "# 后面需要将numpy类型的数据，转换为tensor类型，就需要使用 tf.reduce_min()\n",
    "x_train.shape, y_train.shape, x_train.min(), x_train.max(), x_train.mean()"
   ]
  },
  {
   "cell_type": "code",
   "execution_count": 3,
   "metadata": {},
   "outputs": [
    {
     "data": {
      "text/plain": [
       "array([5, 0, 4, 1], dtype=uint8)"
      ]
     },
     "execution_count": 3,
     "metadata": {},
     "output_type": "execute_result"
    }
   ],
   "source": [
    "# y_train中是0~9的分类标签信息\n",
    "# 在计算accuracy的时候我们要将其转换为one hot编码格式\n",
    "y_train[:4]"
   ]
  },
  {
   "cell_type": "code",
   "execution_count": 4,
   "metadata": {},
   "outputs": [
    {
     "data": {
      "text/plain": [
       "<tf.Tensor: id=8, shape=(4, 10), dtype=float32, numpy=\n",
       "array([[0., 0., 0., 0., 0., 1., 0., 0., 0., 0.],\n",
       "       [1., 0., 0., 0., 0., 0., 0., 0., 0., 0.],\n",
       "       [0., 0., 0., 0., 1., 0., 0., 0., 0., 0.],\n",
       "       [0., 1., 0., 0., 0., 0., 0., 0., 0., 0.]], dtype=float32)>"
      ]
     },
     "execution_count": 4,
     "metadata": {},
     "output_type": "execute_result"
    }
   ],
   "source": [
    "y_train_onehot = tf.one_hot(y_train,depth=10)\n",
    "y_train_onehot[0:4]"
   ]
  },
  {
   "cell_type": "markdown",
   "metadata": {},
   "source": [
    "## CIFAR10/100"
   ]
  },
  {
   "cell_type": "code",
   "execution_count": 12,
   "metadata": {},
   "outputs": [],
   "source": [
    "(x_train,y_train),(x_test,y_test) = keras.datasets.cifar10.load_data()"
   ]
  },
  {
   "cell_type": "code",
   "execution_count": 13,
   "metadata": {},
   "outputs": [
    {
     "data": {
      "text/plain": [
       "((50000, 32, 32, 3), (50000, 1), 0, 0)"
      ]
     },
     "execution_count": 13,
     "metadata": {},
     "output_type": "execute_result"
    }
   ],
   "source": [
    "x_train.shape, y_train.shape, x_train.min(), y_train.min()"
   ]
  },
  {
   "cell_type": "code",
   "execution_count": 14,
   "metadata": {},
   "outputs": [
    {
     "data": {
      "text/plain": [
       "array([[6],\n",
       "       [9],\n",
       "       [9],\n",
       "       [4]], dtype=uint8)"
      ]
     },
     "execution_count": 14,
     "metadata": {},
     "output_type": "execute_result"
    }
   ],
   "source": [
    "y_train[:4]"
   ]
  },
  {
   "cell_type": "markdown",
   "metadata": {},
   "source": [
    "## tf.data.Dataset"
   ]
  },
  {
   "cell_type": "code",
   "execution_count": 18,
   "metadata": {},
   "outputs": [
    {
     "data": {
      "text/plain": [
       "TensorShape([32, 32, 3])"
      ]
     },
     "execution_count": 18,
     "metadata": {},
     "output_type": "execute_result"
    }
   ],
   "source": [
    "# numpy\n",
    "(x_train,y_train),(x_test,y_test) = keras.datasets.cifar10.load_data()\n",
    "# tensor => dataset\n",
    "db = tf.data.Dataset.from_tensor_slices(x_train)\n",
    "next(iter(db)).shape"
   ]
  },
  {
   "cell_type": "code",
   "execution_count": 22,
   "metadata": {},
   "outputs": [
    {
     "data": {
      "text/plain": [
       "TensorShape([32, 32, 3])"
      ]
     },
     "execution_count": 22,
     "metadata": {},
     "output_type": "execute_result"
    }
   ],
   "source": [
    "# 数据和标签是成对取的\n",
    "# numpy => tensor => dataset\n",
    "\n",
    "db = tf.data.Dataset.from_tensor_slices((x_train, y_train))\n",
    "next(iter(db))[0].shape"
   ]
  },
  {
   "cell_type": "code",
   "execution_count": 25,
   "metadata": {},
   "outputs": [],
   "source": [
    "# .shuffle\n",
    "# 打乱数据集，由于神经网络具有很强的记忆性，避免其直接学习到数据集顺序的特性\n",
    "\n",
    "db = tf.data.Dataset.from_tensor_slices((x_test, y_test))\n",
    "db = db.shuffle(10000)"
   ]
  },
  {
   "cell_type": "code",
   "execution_count": 28,
   "metadata": {},
   "outputs": [
    {
     "data": {
      "text/plain": [
       "(TensorShape([32, 32, 3]), TensorShape([1, 10]))"
      ]
     },
     "execution_count": 28,
     "metadata": {},
     "output_type": "execute_result"
    }
   ],
   "source": [
    "# .map\n",
    "# 可以用于数据的预处理\n",
    "\n",
    "def preprocess(x,y):\n",
    "    x=tf.cast(x,dtype=tf.float32) / 255.\n",
    "    y=tf.cast(y,dtype=tf.int32)\n",
    "    y=tf.one_hot(y,depth=10)\n",
    "    return x,y\n",
    "\n",
    "db2 = db.map(preprocess)\n",
    "\n",
    "res = next(iter(db2))\n",
    "res[0].shape, res[1].shape"
   ]
  },
  {
   "cell_type": "code",
   "execution_count": 29,
   "metadata": {},
   "outputs": [
    {
     "data": {
      "text/plain": [
       "<tf.Tensor: id=110, shape=(1, 10), dtype=float32, numpy=array([[0., 0., 0., 0., 0., 0., 1., 0., 0., 0.]], dtype=float32)>"
      ]
     },
     "execution_count": 29,
     "metadata": {},
     "output_type": "execute_result"
    }
   ],
   "source": [
    "res[1][:2]"
   ]
  },
  {
   "cell_type": "code",
   "execution_count": 31,
   "metadata": {},
   "outputs": [
    {
     "data": {
      "text/plain": [
       "(TensorShape([32, 32, 32, 3]), TensorShape([32, 1, 10]))"
      ]
     },
     "execution_count": 31,
     "metadata": {},
     "output_type": "execute_result"
    }
   ],
   "source": [
    "# .batch\n",
    "# 将数据集分成几个 batch\n",
    "\n",
    "db3 = db2.batch(32)\n",
    "res = next(iter(db3))\n",
    "res[0].shape, res[1].shape"
   ]
  },
  {
   "cell_type": "code",
   "execution_count": 32,
   "metadata": {
    "collapsed": true
   },
   "outputs": [],
   "source": [
    "# .repeat\n",
    "# 设置迭代几个epoch，也可以使用catch StopIteration异常来实现\n",
    "# 如果提前知道epoch，可以采用直接设置repeat的次数方法\n",
    "\n",
    "db4 = db3.repeat()\n",
    "db4 = db3.repeat(2)"
   ]
  },
  {
   "cell_type": "markdown",
   "metadata": {},
   "source": [
    "## Example\n",
    "\n",
    "- dataset中包含一个个batch的data\n",
    "- data中包含着tensor\n",
    "\n",
    "构建dataset的workflow\n",
    "1. numpy (=> tensor) => dataset\n",
    "2. dataset: from_tensor_slices => map(数据预处理) => shuffle打乱 => batch设置每次迭代返回的数据数量"
   ]
  },
  {
   "cell_type": "code",
   "execution_count": 38,
   "metadata": {
    "collapsed": true
   },
   "outputs": [],
   "source": [
    "def preprocess_mnist_features_and_labels(x,y):\n",
    "    x=tf.cast(x,dtype=tf.float32) / 255.\n",
    "    y=tf.cast(y,dtype=tf.float32)\n",
    "    return x,y\n",
    "\n",
    "def mnist_dataset():\n",
    "    (x_train,y_train),(x_test,y_test) = keras.datasets.mnist.load_data()\n",
    "    # one hot\n",
    "    y_train = tf.one_hot(y_train, depth=10)\n",
    "    y_test = tf.one_hot(y_test, depth=10)\n",
    "    \n",
    "    db_train = tf.data.Dataset.from_tensor_slices((x_train, y_train))\n",
    "    db_train = db_train.map(preprocess_mnist_features_and_labels)\n",
    "    db_train = db_train.shuffle(60000).batch(100)\n",
    "    \n",
    "    db_test = tf.data.Dataset.from_tensor_slices((x_test, y_test))\n",
    "    db_test = db_test.map(preprocess_mnist_features_and_labels)\n",
    "    db_test = db_test.shuffle(60000).batch(100)\n",
    "    \n",
    "    return db_train, db_test"
   ]
  },
  {
   "cell_type": "code",
   "execution_count": 41,
   "metadata": {},
   "outputs": [
    {
     "data": {
      "text/plain": [
       "(TensorShape([100, 28, 28]), TensorShape([100, 10]))"
      ]
     },
     "execution_count": 41,
     "metadata": {},
     "output_type": "execute_result"
    }
   ],
   "source": [
    "db_train,db_test = mnist_dataset()\n",
    "\n",
    "res = next(iter(db_train))\n",
    "res[0].shape, res[1].shape"
   ]
  },
  {
   "cell_type": "code",
   "execution_count": null,
   "metadata": {
    "collapsed": true
   },
   "outputs": [],
   "source": []
  }
 ],
 "metadata": {
  "kernelspec": {
   "display_name": "Python 3",
   "language": "python",
   "name": "python3"
  },
  "language_info": {
   "codemirror_mode": {
    "name": "ipython",
    "version": 3
   },
   "file_extension": ".py",
   "mimetype": "text/x-python",
   "name": "python",
   "nbconvert_exporter": "python",
   "pygments_lexer": "ipython3",
   "version": "3.6.1"
  }
 },
 "nbformat": 4,
 "nbformat_minor": 2
}
