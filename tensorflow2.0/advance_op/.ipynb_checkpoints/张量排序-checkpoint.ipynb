{
 "cells": [
  {
   "cell_type": "markdown",
   "metadata": {},
   "source": [
    "# 张量排序\n",
    "\n",
    "- Sort/argsort\n",
    "- Topk\n",
    "- Top-5 Acc"
   ]
  },
  {
   "cell_type": "code",
   "execution_count": 1,
   "metadata": {
    "collapsed": true
   },
   "outputs": [],
   "source": [
    "import tensorflow as tf"
   ]
  },
  {
   "cell_type": "code",
   "execution_count": 3,
   "metadata": {},
   "outputs": [
    {
     "name": "stdout",
     "output_type": "stream",
     "text": [
      "tf.Tensor([4 0 2 3 1], shape=(5,), dtype=int32)\n",
      "tf.Tensor([4 3 2 1 0], shape=(5,), dtype=int32)\n",
      "tf.Tensor([0 3 2 4 1], shape=(5,), dtype=int32)\n"
     ]
    }
   ],
   "source": [
    "# Sort, argsort\n",
    "\n",
    "a = tf.random.shuffle(tf.range(5))\n",
    "\n",
    "print(a)\n",
    "print(tf.sort(a, direction='DESCENDING'))\n",
    "print(tf.argsort(a, direction='DESCENDING'))"
   ]
  },
  {
   "cell_type": "code",
   "execution_count": 5,
   "metadata": {},
   "outputs": [
    {
     "data": {
      "text/plain": [
       "<tf.Tensor: id=56, shape=(5,), dtype=int32, numpy=array([4, 3, 2, 1, 0], dtype=int32)>"
      ]
     },
     "execution_count": 5,
     "metadata": {},
     "output_type": "execute_result"
    }
   ],
   "source": [
    "idx = tf.argsort(a, direction='DESCENDING')\n",
    "tf.gather(a, idx)"
   ]
  },
  {
   "cell_type": "code",
   "execution_count": 7,
   "metadata": {},
   "outputs": [
    {
     "data": {
      "text/plain": [
       "(<tf.Tensor: id=77, shape=(3, 3), dtype=int32, numpy=\n",
       " array([[4, 0, 9],\n",
       "        [6, 4, 7],\n",
       "        [0, 2, 4]], dtype=int32)>,\n",
       " <tf.Tensor: id=89, shape=(3, 3), dtype=int32, numpy=\n",
       " array([[0, 4, 9],\n",
       "        [4, 6, 7],\n",
       "        [0, 2, 4]], dtype=int32)>,\n",
       " <tf.Tensor: id=98, shape=(3, 3), dtype=int32, numpy=\n",
       " array([[9, 4, 0],\n",
       "        [7, 6, 4],\n",
       "        [4, 2, 0]], dtype=int32)>)"
      ]
     },
     "execution_count": 7,
     "metadata": {},
     "output_type": "execute_result"
    }
   ],
   "source": [
    "a = tf.random.uniform([3,3], maxval=10, dtype=tf.int32)\n",
    "\n",
    "a, tf.sort(a), tf.sort(a, direction='DESCENDING')"
   ]
  },
  {
   "cell_type": "code",
   "execution_count": 13,
   "metadata": {},
   "outputs": [
    {
     "data": {
      "text/plain": [
       "(TopKV2(values=<tf.Tensor: id=146, shape=(3, 2), dtype=int32, numpy=\n",
       " array([[8, 6],\n",
       "        [9, 1],\n",
       "        [8, 4]], dtype=int32)>, indices=<tf.Tensor: id=147, shape=(3, 2), dtype=int32, numpy=\n",
       " array([[1, 0],\n",
       "        [1, 0],\n",
       "        [1, 0]], dtype=int32)>),\n",
       " <tf.Tensor: id=147, shape=(3, 2), dtype=int32, numpy=\n",
       " array([[1, 0],\n",
       "        [1, 0],\n",
       "        [1, 0]], dtype=int32)>)"
      ]
     },
     "execution_count": 13,
     "metadata": {},
     "output_type": "execute_result"
    }
   ],
   "source": [
    "# Top_k\n",
    "\n",
    "a = tf.random.uniform([3,3], maxval=10, dtype=tf.int32)\n",
    "# return top-k values and indices\n",
    "res = tf.math.top_k(a, 2)\n",
    "\n",
    "res, res.indices"
   ]
  },
  {
   "cell_type": "code",
   "execution_count": 20,
   "metadata": {},
   "outputs": [
    {
     "data": {
      "text/plain": [
       "(<tf.Tensor: id=188, shape=(3, 2), dtype=int32, numpy=\n",
       " array([[2, 1],\n",
       "        [1, 0],\n",
       "        [0, 2]], dtype=int32)>,\n",
       " <tf.Tensor: id=190, shape=(3, 2), dtype=int32, numpy=\n",
       " array([[2, 0],\n",
       "        [2, 0],\n",
       "        [2, 0]], dtype=int32)>)"
      ]
     },
     "execution_count": 20,
     "metadata": {},
     "output_type": "execute_result"
    }
   ],
   "source": [
    "# Top-k accuracy\n",
    "\n",
    "# Prob:[0.1, 0.2, 0.3, 0.4]\n",
    "# Label:[2]\n",
    "# Only consider top-1 prediction: [3] \n",
    "# Only consider top-2 prediction: [3, 2]\n",
    "# Only consider top-3 prediction: [3, 2, 1]\n",
    "\n",
    "prob = tf.constant([[0.1,0.2,0.3],[0.2,0.7,0.1]])\n",
    "target = tf.constant([2,0])\n",
    "\n",
    "k_b = tf.math.top_k(prob,3).indices\n",
    "k_b = tf.transpose(k_b, [1,0])\n",
    "target = tf.broadcast_to(target, [3,2])\n",
    "\n",
    "k_b, target"
   ]
  },
  {
   "cell_type": "code",
   "execution_count": 21,
   "metadata": {
    "collapsed": true
   },
   "outputs": [],
   "source": [
    "# Top-k Accuracy\n",
    "\n",
    "def accuracy(output, target, topk=(1,)):\n",
    "    maxk = max(topl)\n",
    "    batch_size = target.shape[0]\n",
    "    \n",
    "    pred = tf.math.top_k(output, maxk).indices\n",
    "    pred = tf.transpose(pred, perm=[1,0])\n",
    "    target_ = tf.broadcast_to(target, pred.shape)\n",
    "    correct = tf.equal(pred, target)\n",
    "    \n",
    "    res = []\n",
    "    for k in topk:\n",
    "        correct_k = tf.cast(tf.reshape(correct[:k], [-1], dtype=tf.float32))\n",
    "        correct = tf.reduce_sum(correct_k)\n",
    "        acc = float(correct_k /batch_size)\n",
    "        res.append(acc)\n",
    "    \n",
    "    return res"
   ]
  },
  {
   "cell_type": "code",
   "execution_count": null,
   "metadata": {
    "collapsed": true
   },
   "outputs": [],
   "source": [
    "这里的逻辑应该反着想\n",
    "\n",
    "我现在需要计算 top-k 的正确率,总共有 10 组输入数据,需要知道这 10 个数据预测是否正确\n",
    "所以最后的结果是一个 shape=(k,10) 的 tensor,其中 k 表示 top-k,10表示这10个样本是否预测正确\n",
    "\n",
    "\n",
    "\n",
    "\n",
    "output:\n",
    "tf.Tensor(\n",
    "[[0.2531028  0.21715645 0.16043884 0.13088997 0.04334084 0.19507112]\n",
    " [0.05892419 0.04548918 0.00926314 0.14529602 0.66777605 0.07325139]\n",
    " [0.09742808 0.08304427 0.07460099 0.04067176 0.626185   0.07806987]\n",
    " [0.20478567 0.12294924 0.12010485 0.1375123  0.3641873  0.05046057]\n",
    " [0.11872064 0.31072396 0.12530337 0.15528883 0.21325871 0.07670453]\n",
    " [0.01519807 0.09672115 0.1460476  0.00934331 0.5649092  0.16778068]\n",
    " [0.04199062 0.18141054 0.06647632 0.6006175  0.03198383 0.07752118]\n",
    " [0.0922622  0.2346089  0.13022321 0.16295874 0.05362029 0.3263266 ]\n",
    " [0.07019574 0.08611771 0.10912605 0.10521299 0.2152082  0.4141393 ]\n",
    " [0.01882888 0.2659769  0.19122465 0.24109262 0.14920163 0.13367529]], shape=(10, 6), dtype=float32)\n",
    "\n",
    "target:\n",
    "tf.Tensor([0 2 3 4 2 4 2 3 5 5], shape=(10,), dtype=int32)\n",
    "\n",
    "# 根据预测概率值,进行排序,返回从大到小的索引\n",
    "# 这样根据索引就可以判断,top-k的预测是否正确\n",
    "tf.math.top_k(output, maxk).indices => preb\n",
    "tf.Tensor(\n",
    "[[0 1 5 2 3 4]\n",
    " [4 3 5 0 1 2]\n",
    " [4 0 1 5 2 3]\n",
    " [4 0 3 1 2 5]\n",
    " [1 4 3 2 0 5]\n",
    " [4 5 2 1 0 3]\n",
    " [3 1 5 2 0 4]\n",
    " [5 1 3 2 0 4]\n",
    " [5 4 2 3 1 0]\n",
    " [1 3 2 4 5 0]], shape=(10, 6), dtype=int32)\n",
    "\n",
    "# ground_truth的shape是[10]\n",
    "# 将preb[10,6] => [6,10]\n",
    "tf.transpose(pred, perm=[1, 0]) => preb\n",
    "tf.Tensor(\n",
    "[[0 4 4 4 1 4 3 5 5 1]\n",
    " [1 3 0 0 4 5 1 1 4 3]\n",
    " [5 5 1 3 3 2 5 3 2 2]\n",
    " [2 0 5 1 2 1 2 2 3 4]\n",
    " [3 1 2 2 0 0 0 0 1 5]\n",
    " [4 2 3 5 5 3 4 4 0 0]], shape=(6, 10), dtype=int32)\n",
    "\n",
    "\n",
    "# 这样就能返回 topk 是否正确\n",
    "# 可以看到在 dim=0 只会有一个 True,因为总共6个类,只有一个月预测值是正确的\n",
    "# dim=1 就是 10 个预测值,其中正确的是 True 错误的是 False\n",
    "tf.equal(pred, target_) => correct\n",
    "tf.Tensor(\n",
    "[[ True False False  True False  True False False  True False]\n",
    " [False False False False False False False False False False]\n",
    " [False False False False False False False  True False False]\n",
    " [False False False False  True False  True False False False]\n",
    " [False False False False False False False False False  True]\n",
    " [False  True  True False False False False False False False]], shape=(6, 10), dtype=bool)\n",
    "\n"
   ]
  }
 ],
 "metadata": {
  "kernelspec": {
   "display_name": "Python 3",
   "language": "python",
   "name": "python3"
  },
  "language_info": {
   "codemirror_mode": {
    "name": "ipython",
    "version": 3
   },
   "file_extension": ".py",
   "mimetype": "text/x-python",
   "name": "python",
   "nbconvert_exporter": "python",
   "pygments_lexer": "ipython3",
   "version": "3.7.3"
  },
  "toc": {
   "base_numbering": 1,
   "nav_menu": {},
   "number_sections": true,
   "sideBar": true,
   "skip_h1_title": false,
   "title_cell": "Table of Contents",
   "title_sidebar": "Contents",
   "toc_cell": false,
   "toc_position": {},
   "toc_section_display": true,
   "toc_window_display": false
  }
 },
 "nbformat": 4,
 "nbformat_minor": 2
}
