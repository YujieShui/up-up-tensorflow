{
 "cells": [
  {
   "cell_type": "markdown",
   "metadata": {},
   "source": [
    "# 数学运算\n",
    "\n",
    "- +-*/\n",
    "- **, pow, square  平方\n",
    "- sqrt  开根号\n",
    "- //, %   整除，取余\n",
    "- exp, log   \n",
    "- @, matmul\n",
    "- linear lay"
   ]
  },
  {
   "cell_type": "code",
   "execution_count": 1,
   "metadata": {
    "collapsed": true
   },
   "outputs": [],
   "source": [
    "import tensorflow as tf"
   ]
  },
  {
   "cell_type": "code",
   "execution_count": 2,
   "metadata": {},
   "outputs": [
    {
     "data": {
      "text/plain": [
       "(<tf.Tensor: id=6, shape=(2, 2), dtype=float32, numpy=\n",
       " array([[3., 3.],\n",
       "        [3., 3.]], dtype=float32)>,\n",
       " <tf.Tensor: id=7, shape=(2, 2), dtype=float32, numpy=\n",
       " array([[-1., -1.],\n",
       "        [-1., -1.]], dtype=float32)>,\n",
       " <tf.Tensor: id=8, shape=(2, 2), dtype=float32, numpy=\n",
       " array([[2., 2.],\n",
       "        [2., 2.]], dtype=float32)>,\n",
       " <tf.Tensor: id=9, shape=(2, 2), dtype=float32, numpy=\n",
       " array([[0.5, 0.5],\n",
       "        [0.5, 0.5]], dtype=float32)>)"
      ]
     },
     "execution_count": 2,
     "metadata": {},
     "output_type": "execute_result"
    }
   ],
   "source": [
    "# +-*/%//\n",
    "\n",
    "a = tf.ones([2,2])\n",
    "b = tf.fill([2,2], 2.)\n",
    "\n",
    "a+b, a-b, a*b, a/b"
   ]
  },
  {
   "cell_type": "code",
   "execution_count": 3,
   "metadata": {},
   "outputs": [
    {
     "data": {
      "text/plain": [
       "(<tf.Tensor: id=14, shape=(2, 2), dtype=float32, numpy=\n",
       " array([[2., 2.],\n",
       "        [2., 2.]], dtype=float32)>,\n",
       " <tf.Tensor: id=15, shape=(2, 2), dtype=float32, numpy=\n",
       " array([[0., 0.],\n",
       "        [0., 0.]], dtype=float32)>)"
      ]
     },
     "execution_count": 3,
     "metadata": {},
     "output_type": "execute_result"
    }
   ],
   "source": [
    "b//a, b%a"
   ]
  },
  {
   "cell_type": "code",
   "execution_count": 4,
   "metadata": {},
   "outputs": [
    {
     "data": {
      "text/plain": [
       "(<tf.Tensor: id=21, shape=(2, 2), dtype=float32, numpy=\n",
       " array([[0., 0.],\n",
       "        [0., 0.]], dtype=float32)>,\n",
       " <tf.Tensor: id=22, shape=(2, 2), dtype=float32, numpy=\n",
       " array([[2.7182817, 2.7182817],\n",
       "        [2.7182817, 2.7182817]], dtype=float32)>)"
      ]
     },
     "execution_count": 4,
     "metadata": {},
     "output_type": "execute_result"
    }
   ],
   "source": [
    "# tf.math.log tf.exp\n",
    "\n",
    "a = tf.ones([2,2])\n",
    "tf.math.log(a), tf.exp(a)"
   ]
  },
  {
   "cell_type": "code",
   "execution_count": 5,
   "metadata": {},
   "outputs": [
    {
     "data": {
      "text/plain": [
       "(<tf.Tensor: id=29, shape=(), dtype=float32, numpy=3.0>,\n",
       " <tf.Tensor: id=34, shape=(), dtype=float32, numpy=2.0>)"
      ]
     },
     "execution_count": 5,
     "metadata": {},
     "output_type": "execute_result"
    }
   ],
   "source": [
    "# log2, log10?\n",
    "\n",
    "tf.math.log(8.)/tf.math.log(2.), tf.math.log(100.)/tf.math.log(10.)"
   ]
  },
  {
   "cell_type": "code",
   "execution_count": 7,
   "metadata": {},
   "outputs": [
    {
     "data": {
      "text/plain": [
       "(<tf.Tensor: id=50, shape=(2, 2), dtype=float32, numpy=\n",
       " array([[8., 8.],\n",
       "        [8., 8.]], dtype=float32)>,\n",
       " <tf.Tensor: id=52, shape=(2, 2), dtype=float32, numpy=\n",
       " array([[8., 8.],\n",
       "        [8., 8.]], dtype=float32)>,\n",
       " <tf.Tensor: id=53, shape=(2, 2), dtype=float32, numpy=\n",
       " array([[1.4142135, 1.4142135],\n",
       "        [1.4142135, 1.4142135]], dtype=float32)>)"
      ]
     },
     "execution_count": 7,
     "metadata": {},
     "output_type": "execute_result"
    }
   ],
   "source": [
    "# pow, sqrt\n",
    "\n",
    "b = tf.fill([2,2], 2.)\n",
    "\n",
    "tf.pow(b,3), b**3, tf.sqrt(b)"
   ]
  },
  {
   "cell_type": "code",
   "execution_count": 8,
   "metadata": {},
   "outputs": [
    {
     "data": {
      "text/plain": [
       "(<tf.Tensor: id=63, shape=(2, 2), dtype=float32, numpy=\n",
       " array([[4., 4.],\n",
       "        [4., 4.]], dtype=float32)>,\n",
       " <tf.Tensor: id=64, shape=(2, 2), dtype=float32, numpy=\n",
       " array([[4., 4.],\n",
       "        [4., 4.]], dtype=float32)>)"
      ]
     },
     "execution_count": 8,
     "metadata": {},
     "output_type": "execute_result"
    }
   ],
   "source": [
    "# @ matmul\n",
    "\n",
    "a = tf.ones([2,2])\n",
    "b = tf.fill([2,2], 2.)\n",
    "\n",
    "a@b, tf.matmul(a, b)"
   ]
  },
  {
   "cell_type": "code",
   "execution_count": 10,
   "metadata": {},
   "outputs": [
    {
     "data": {
      "text/plain": [
       "(<tf.Tensor: id=79, shape=(4, 2, 5), dtype=float32, numpy=\n",
       " array([[[6., 6., 6., 6., 6.],\n",
       "         [6., 6., 6., 6., 6.]],\n",
       " \n",
       "        [[6., 6., 6., 6., 6.],\n",
       "         [6., 6., 6., 6., 6.]],\n",
       " \n",
       "        [[6., 6., 6., 6., 6.],\n",
       "         [6., 6., 6., 6., 6.]],\n",
       " \n",
       "        [[6., 6., 6., 6., 6.],\n",
       "         [6., 6., 6., 6., 6.]]], dtype=float32)>,\n",
       " <tf.Tensor: id=80, shape=(4, 2, 5), dtype=float32, numpy=\n",
       " array([[[6., 6., 6., 6., 6.],\n",
       "         [6., 6., 6., 6., 6.]],\n",
       " \n",
       "        [[6., 6., 6., 6., 6.],\n",
       "         [6., 6., 6., 6., 6.]],\n",
       " \n",
       "        [[6., 6., 6., 6., 6.],\n",
       "         [6., 6., 6., 6., 6.]],\n",
       " \n",
       "        [[6., 6., 6., 6., 6.],\n",
       "         [6., 6., 6., 6., 6.]]], dtype=float32)>)"
      ]
     },
     "execution_count": 10,
     "metadata": {},
     "output_type": "execute_result"
    }
   ],
   "source": [
    "a = tf.ones([4,2,3])\n",
    "b = tf.fill([4,3,5], 2.)\n",
    "\n",
    "a@b, tf.matmul(a, b)"
   ]
  },
  {
   "cell_type": "code",
   "execution_count": 12,
   "metadata": {},
   "outputs": [
    {
     "data": {
      "text/plain": [
       "(<tf.Tensor: id=99, shape=(4, 2, 5), dtype=float32, numpy=\n",
       " array([[[6., 6., 6., 6., 6.],\n",
       "         [6., 6., 6., 6., 6.]],\n",
       " \n",
       "        [[6., 6., 6., 6., 6.],\n",
       "         [6., 6., 6., 6., 6.]],\n",
       " \n",
       "        [[6., 6., 6., 6., 6.],\n",
       "         [6., 6., 6., 6., 6.]],\n",
       " \n",
       "        [[6., 6., 6., 6., 6.],\n",
       "         [6., 6., 6., 6., 6.]]], dtype=float32)>,\n",
       " <tf.Tensor: id=100, shape=(4, 2, 5), dtype=float32, numpy=\n",
       " array([[[6., 6., 6., 6., 6.],\n",
       "         [6., 6., 6., 6., 6.]],\n",
       " \n",
       "        [[6., 6., 6., 6., 6.],\n",
       "         [6., 6., 6., 6., 6.]],\n",
       " \n",
       "        [[6., 6., 6., 6., 6.],\n",
       "         [6., 6., 6., 6., 6.]],\n",
       " \n",
       "        [[6., 6., 6., 6., 6.],\n",
       "         [6., 6., 6., 6., 6.]]], dtype=float32)>)"
      ]
     },
     "execution_count": 12,
     "metadata": {},
     "output_type": "execute_result"
    }
   ],
   "source": [
    "# with broadcasting\n",
    "\n",
    "a = tf.ones([4,2,3])\n",
    "b = tf.fill([3,5], 2.)\n",
    "\n",
    "bb = tf.broadcast_to(b, [4,3,5])\n",
    "\n",
    "a@b, a@bb"
   ]
  },
  {
   "cell_type": "code",
   "execution_count": 15,
   "metadata": {},
   "outputs": [
    {
     "data": {
      "text/plain": [
       "(<tf.Tensor: id=131, shape=(4, 1), dtype=float32, numpy=\n",
       " array([[2.1],\n",
       "        [2.1],\n",
       "        [2.1],\n",
       "        [2.1]], dtype=float32)>,\n",
       " <tf.Tensor: id=129, shape=(4, 1), dtype=float32, numpy=\n",
       " array([[2.1],\n",
       "        [2.1],\n",
       "        [2.1],\n",
       "        [2.1]], dtype=float32)>)"
      ]
     },
     "execution_count": 15,
     "metadata": {},
     "output_type": "execute_result"
    }
   ],
   "source": [
    "# 𝑌 = 𝑋@𝑊 + b\n",
    "\n",
    "# [4,2]@[2,1]+[4,1]\n",
    "x = tf.ones([4,2])\n",
    "w = tf.ones([2,1])\n",
    "b = tf.constant(0.1)\n",
    "\n",
    "out = tf.nn.relu(x@w+b)\n",
    "\n",
    "x@w+b, out"
   ]
  },
  {
   "cell_type": "code",
   "execution_count": null,
   "metadata": {
    "collapsed": true
   },
   "outputs": [],
   "source": []
  }
 ],
 "metadata": {
  "kernelspec": {
   "display_name": "Python 3",
   "language": "python",
   "name": "python3"
  },
  "language_info": {
   "codemirror_mode": {
    "name": "ipython",
    "version": 3
   },
   "file_extension": ".py",
   "mimetype": "text/x-python",
   "name": "python",
   "nbconvert_exporter": "python",
   "pygments_lexer": "ipython3",
   "version": "3.6.1"
  },
  "toc": {
   "base_numbering": 1,
   "nav_menu": {},
   "number_sections": true,
   "sideBar": true,
   "skip_h1_title": false,
   "title_cell": "Table of Contents",
   "title_sidebar": "Contents",
   "toc_cell": false,
   "toc_position": {},
   "toc_section_display": true,
   "toc_window_display": false
  }
 },
 "nbformat": 4,
 "nbformat_minor": 2
}
