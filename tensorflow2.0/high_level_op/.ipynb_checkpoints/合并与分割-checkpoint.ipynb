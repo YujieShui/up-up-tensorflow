{
 "cells": [
  {
   "cell_type": "markdown",
   "metadata": {},
   "source": [
    "# Merge and split\n",
    "\n",
    "## concat\n",
    "\n",
    "Example:\n",
    "- [class1-4, students, scores]\n",
    "- [class5-6, students, scores]\n",
    "\n",
    "merge class1-4 and class5-6"
   ]
  },
  {
   "cell_type": "code",
   "execution_count": 2,
   "metadata": {},
   "outputs": [],
   "source": [
    "import tensorflow as tf"
   ]
  },
  {
   "cell_type": "code",
   "execution_count": 12,
   "metadata": {},
   "outputs": [
    {
     "data": {
      "text/plain": [
       "TensorShape([6, 35, 8])"
      ]
     },
     "execution_count": 12,
     "metadata": {},
     "output_type": "execute_result"
    }
   ],
   "source": [
    "# 赋予代码现实的意义：4个班级，35个学生，8门课的成绩；2个班级，35个学生，8门课的成绩\n",
    "# 将这几个班级合并起来，就是6个班级，35个学生，8门课的成绩\n",
    "\n",
    "# 在class这个维度上进行合并，及 axis=0\n",
    "a = tf.ones([4, 35, 8])\n",
    "b = tf.ones([2, 35, 8])\n",
    "c = tf.concat([a, b], axis=0)\n",
    "c.shape"
   ]
  },
  {
   "cell_type": "code",
   "execution_count": 6,
   "metadata": {},
   "outputs": [
    {
     "data": {
      "text/plain": [
       "TensorShape([4, 35, 8])"
      ]
     },
     "execution_count": 6,
     "metadata": {},
     "output_type": "execute_result"
    }
   ],
   "source": [
    "# 4个班级,32个学生，8门课；还是这4个班级,3个学生，8门课\n",
    "# 把这几个学生合并在一起，就是4个班级,35个学生，8门课\n",
    "\n",
    "# 如果想在 students 这个维度上合并\n",
    "a = tf.ones([4, 32, 8])\n",
    "b = tf.ones([4, 3, 8])\n",
    "c = tf.concat([a, b], axis=1)\n",
    "c.shape"
   ]
  },
  {
   "cell_type": "markdown",
   "metadata": {},
   "source": [
    "## stack: create new dim\n",
    "\n",
    "Example:\n",
    "- school1: [classes, students, scores]\n",
    "- school2: [classes, students, scores]\n",
    "\n",
    "merge school1 and school2: [school2, classes, students, scores]"
   ]
  },
  {
   "cell_type": "code",
   "execution_count": 11,
   "metadata": {
    "scrolled": true
   },
   "outputs": [
    {
     "name": "stdout",
     "output_type": "stream",
     "text": [
      "(2, 4, 35, 8)\n",
      "(4, 35, 8, 2)\n"
     ]
    }
   ],
   "source": [
    "a = tf.ones([4, 35, 8])\n",
    "b = tf.ones([4, 35, 8])\n",
    "print(tf.stack([a, b], axis=0).shape)\n",
    "print(tf.stack([a, b], axis=-1).shape)"
   ]
  },
  {
   "cell_type": "markdown",
   "metadata": {},
   "source": [
    "## Dim mismatch\n",
    "\n",
    "tf.concat() 和 tf.stack() 都在维度上有要求。\n",
    "\n",
    "tf.concat() 要求除了 axis 之外的维度都相同，tf.stack() 要求所有维度都相同。"
   ]
  },
  {
   "cell_type": "code",
   "execution_count": 14,
   "metadata": {},
   "outputs": [],
   "source": [
    "a = tf.ones([4, 35, 8])\n",
    "b = tf.ones([3, 33, 8])\n",
    "tf.concat([a, b], axis=0)\n",
    "# InvalidArgumentError: ConcatOp : Dimensions of inputs should match: \n",
    "# shape[0] = [4,35,8] vs. shape[1] = [3,33,8] [Op:ConcatV2] name: concat"
   ]
  },
  {
   "cell_type": "code",
   "execution_count": 17,
   "metadata": {},
   "outputs": [],
   "source": [
    "a = tf.ones([4, 35, 8])\n",
    "b = tf.ones([3, 35, 8])\n",
    "tf.stack([a, b], axis=0)\n",
    "# InvalidArgumentError: \n",
    "# Shapes of all inputs must match: values[0].shape = [4,35,8] != values[1].shape = [3,35,8] [Op:Pack] name: stack"
   ]
  },
  {
   "cell_type": "markdown",
   "metadata": {},
   "source": [
    "## Unstack"
   ]
  },
  {
   "cell_type": "code",
   "execution_count": 27,
   "metadata": {},
   "outputs": [
    {
     "data": {
      "text/plain": [
       "TensorShape([2, 4, 35, 8])"
      ]
     },
     "execution_count": 27,
     "metadata": {},
     "output_type": "execute_result"
    }
   ],
   "source": [
    "a = tf.ones([4, 35, 8])\n",
    "b = tf.ones([4, 35, 8])\n",
    "c = tf.stack([a, b], axis=0)\n",
    "c.shape"
   ]
  },
  {
   "cell_type": "code",
   "execution_count": 28,
   "metadata": {},
   "outputs": [
    {
     "data": {
      "text/plain": [
       "(TensorShape([4, 35, 8]), TensorShape([4, 35, 8]))"
      ]
     },
     "execution_count": 28,
     "metadata": {},
     "output_type": "execute_result"
    }
   ],
   "source": [
    "# axis=0，length=2，拆成2份\n",
    "aa, bb = tf.unstack(c, axis=0)\n",
    "aa.shape, bb.shape"
   ]
  },
  {
   "cell_type": "code",
   "execution_count": 25,
   "metadata": {},
   "outputs": [
    {
     "data": {
      "text/plain": [
       "(TensorShape([2, 4, 35]), TensorShape([2, 4, 35]))"
      ]
     },
     "execution_count": 25,
     "metadata": {},
     "output_type": "execute_result"
    }
   ],
   "source": [
    "# axis=0，length=8，拆成8份\n",
    "res = tf.unstack(c, axis=3)\n",
    "res[0].shape, res[7].shape"
   ]
  },
  {
   "cell_type": "markdown",
   "metadata": {},
   "source": [
    "## Split\n",
    "Unstack 只能按照某个维度的长度均分，不想要均分可以使用 split"
   ]
  },
  {
   "cell_type": "code",
   "execution_count": 31,
   "metadata": {},
   "outputs": [
    {
     "data": {
      "text/plain": [
       "8"
      ]
     },
     "execution_count": 31,
     "metadata": {},
     "output_type": "execute_result"
    }
   ],
   "source": [
    "c = tf.ones([2, 4, 35, 8])\n",
    "res = tf.unstack(c, axis=3)\n",
    "len(res)"
   ]
  },
  {
   "cell_type": "code",
   "execution_count": 34,
   "metadata": {},
   "outputs": [
    {
     "name": "stdout",
     "output_type": "stream",
     "text": [
      "2\n"
     ]
    },
    {
     "data": {
      "text/plain": [
       "(TensorShape([2, 4, 35, 4]), TensorShape([2, 4, 35, 4]))"
      ]
     },
     "execution_count": 34,
     "metadata": {},
     "output_type": "execute_result"
    }
   ],
   "source": [
    "res = tf.split(c, axis=3, num_or_size_splits=2)\n",
    "print(len(res))\n",
    "res[0].shape, res[1].shape"
   ]
  },
  {
   "cell_type": "code",
   "execution_count": 35,
   "metadata": {},
   "outputs": [
    {
     "name": "stdout",
     "output_type": "stream",
     "text": [
      "3\n"
     ]
    },
    {
     "data": {
      "text/plain": [
       "(TensorShape([2, 4, 35, 2]),\n",
       " TensorShape([2, 4, 35, 2]),\n",
       " TensorShape([2, 4, 35, 4]))"
      ]
     },
     "execution_count": 35,
     "metadata": {},
     "output_type": "execute_result"
    }
   ],
   "source": [
    "# 将8，分成2+2+4\n",
    "res = tf.split(c, axis=3, num_or_size_splits=[2, 2, 4])\n",
    "print(len(res))\n",
    "res[0].shape, res[1].shape, res[2].shape"
   ]
  },
  {
   "cell_type": "code",
   "execution_count": null,
   "metadata": {
    "collapsed": true
   },
   "outputs": [],
   "source": []
  }
 ],
 "metadata": {
  "kernelspec": {
   "display_name": "Python 3",
   "language": "python",
   "name": "python3"
  },
  "language_info": {
   "codemirror_mode": {
    "name": "ipython",
    "version": 3
   },
   "file_extension": ".py",
   "mimetype": "text/x-python",
   "name": "python",
   "nbconvert_exporter": "python",
   "pygments_lexer": "ipython3",
   "version": "3.7.3"
  },
  "toc": {
   "base_numbering": 1,
   "nav_menu": {},
   "number_sections": true,
   "sideBar": true,
   "skip_h1_title": false,
   "title_cell": "Table of Contents",
   "title_sidebar": "Contents",
   "toc_cell": false,
   "toc_position": {},
   "toc_section_display": true,
   "toc_window_display": false
  }
 },
 "nbformat": 4,
 "nbformat_minor": 2
}
