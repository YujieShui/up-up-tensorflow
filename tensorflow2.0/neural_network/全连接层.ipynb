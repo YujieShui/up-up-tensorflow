{
 "cells": [
  {
   "cell_type": "code",
   "execution_count": 2,
   "metadata": {},
   "outputs": [],
   "source": [
    "import tensorflow as tf\n",
    "from tensorflow import keras"
   ]
  },
  {
   "cell_type": "code",
   "execution_count": 3,
   "metadata": {},
   "outputs": [
    {
     "data": {
      "text/plain": [
       "TensorShape([4, 512])"
      ]
     },
     "execution_count": 3,
     "metadata": {},
     "output_type": "execute_result"
    }
   ],
   "source": [
    "x = tf.random.normal([4,784])\n",
    "\n",
    "net = tf.keras.layers.Dense(512)\n",
    "out = net(x)\n",
    "\n",
    "out.shape"
   ]
  },
  {
   "cell_type": "code",
   "execution_count": 4,
   "metadata": {},
   "outputs": [
    {
     "data": {
      "text/plain": [
       "(TensorShape([784, 512]), TensorShape([512]))"
      ]
     },
     "execution_count": 4,
     "metadata": {},
     "output_type": "execute_result"
    }
   ],
   "source": [
    "# kernel:W\n",
    "# bias:b\n",
    "net.kernel.shape, net.bias.shape"
   ]
  },
  {
   "cell_type": "code",
   "execution_count": 5,
   "metadata": {},
   "outputs": [
    {
     "ename": "AttributeError",
     "evalue": "'Dense' object has no attribute 'bias'",
     "output_type": "error",
     "traceback": [
      "\u001b[0;31m---------------------------------------------------------------------------\u001b[0m",
      "\u001b[0;31mAttributeError\u001b[0m                            Traceback (most recent call last)",
      "\u001b[0;32m<ipython-input-5-509c90da3c33>\u001b[0m in \u001b[0;36m<module>\u001b[0;34m()\u001b[0m\n\u001b[1;32m      1\u001b[0m \u001b[0mnet\u001b[0m \u001b[0;34m=\u001b[0m \u001b[0mtf\u001b[0m\u001b[0;34m.\u001b[0m\u001b[0mkeras\u001b[0m\u001b[0;34m.\u001b[0m\u001b[0mlayers\u001b[0m\u001b[0;34m.\u001b[0m\u001b[0mDense\u001b[0m\u001b[0;34m(\u001b[0m\u001b[0;36m10\u001b[0m\u001b[0;34m)\u001b[0m\u001b[0;34m\u001b[0m\u001b[0m\n\u001b[0;32m----> 2\u001b[0;31m \u001b[0mnet\u001b[0m\u001b[0;34m.\u001b[0m\u001b[0mbias\u001b[0m\u001b[0;34m\u001b[0m\u001b[0m\n\u001b[0m",
      "\u001b[0;31mAttributeError\u001b[0m: 'Dense' object has no attribute 'bias'"
     ]
    }
   ],
   "source": [
    "net = tf.keras.layers.Dense(10)\n",
    "net.bias\n",
    "\n",
    "# AttributeError: 'Dense' object has no attribute 'bias'"
   ]
  },
  {
   "cell_type": "code",
   "execution_count": 7,
   "metadata": {},
   "outputs": [
    {
     "data": {
      "text/plain": [
       "([], [])"
      ]
     },
     "execution_count": 7,
     "metadata": {},
     "output_type": "execute_result"
    }
   ],
   "source": [
    "net.get_weights(), net.weights"
   ]
  },
  {
   "cell_type": "code",
   "execution_count": 8,
   "metadata": {},
   "outputs": [
    {
     "data": {
      "text/plain": [
       "(TensorShape([4, 10]), TensorShape([10]))"
      ]
     },
     "execution_count": 8,
     "metadata": {},
     "output_type": "execute_result"
    }
   ],
   "source": [
    "net.build(input_shape=(None, 4))\n",
    "net.kernel.shape, net.bias.shape"
   ]
  },
  {
   "cell_type": "code",
   "execution_count": 9,
   "metadata": {},
   "outputs": [
    {
     "data": {
      "text/plain": [
       "(TensorShape([20, 10]), TensorShape([10]))"
      ]
     },
     "execution_count": 9,
     "metadata": {},
     "output_type": "execute_result"
    }
   ],
   "source": [
    "net.build(input_shape=(None, 20))\n",
    "net.kernel.shape, net.bias.shape"
   ]
  },
  {
   "cell_type": "code",
   "execution_count": 10,
   "metadata": {},
   "outputs": [
    {
     "data": {
      "text/plain": [
       "<tf.Variable 'kernel:0' shape=(4, 10) dtype=float32, numpy=\n",
       "array([[-0.20700493,  0.07959211,  0.20421875, -0.59956014, -0.29938635,\n",
       "        -0.3987518 , -0.582374  ,  0.4298395 , -0.5946036 ,  0.24492341],\n",
       "       [ 0.28439003,  0.6043942 ,  0.30147535,  0.13133502, -0.12182575,\n",
       "        -0.01296633,  0.40957916, -0.4729733 , -0.3606621 , -0.45190912],\n",
       "       [ 0.07886976,  0.53052855, -0.4686765 ,  0.11180717,  0.64741886,\n",
       "         0.23357469,  0.28002757, -0.44230965, -0.34017938, -0.0163703 ],\n",
       "       [ 0.26464838,  0.16379392,  0.5494158 , -0.6387394 , -0.5481559 ,\n",
       "         0.48655736,  0.48361075, -0.51985425,  0.21723533, -0.47508398]],\n",
       "      dtype=float32)>"
      ]
     },
     "execution_count": 10,
     "metadata": {},
     "output_type": "execute_result"
    }
   ],
   "source": [
    "net.build(input_shape=(2, 4))\n",
    "net.kernel"
   ]
  },
  {
   "cell_type": "code",
   "execution_count": 19,
   "metadata": {
    "collapsed": true
   },
   "outputs": [],
   "source": [
    "net = tf.keras.layers.Dense(10)\n",
    "# W: [20, 10]\n",
    "# b:[10]\n",
    "net = net.build(input_shape=[None,20])\n",
    "# out = net(tf.random.normal(4,12))\n",
    "# 输出尺寸不匹配\n",
    "# InvalidArgumentError: shape must be a vector of {int32,int64}, got shape [] [Op:RandomStandardNormal]\n",
    "\n",
    "# out = net(tf.random.normal((4,20),dtype=tf.int32))\n",
    "# out.shape\n"
   ]
  },
  {
   "cell_type": "code",
   "execution_count": 22,
   "metadata": {},
   "outputs": [
    {
     "name": "stdout",
     "output_type": "stream",
     "text": [
      "Model: \"sequential\"\n",
      "_________________________________________________________________\n",
      "Layer (type)                 Output Shape              Param #   \n",
      "=================================================================\n",
      "dense_13 (Dense)             multiple                  10        \n",
      "_________________________________________________________________\n",
      "dense_14 (Dense)             multiple                  6         \n",
      "_________________________________________________________________\n",
      "dense_15 (Dense)             multiple                  6         \n",
      "=================================================================\n",
      "Total params: 22\n",
      "Trainable params: 22\n",
      "Non-trainable params: 0\n",
      "_________________________________________________________________\n"
     ]
    }
   ],
   "source": [
    "x = tf.random.normal([2,3])\n",
    "\n",
    "model = keras.Sequential([\n",
    "    keras.layers.Dense(2, activation='relu'),\n",
    "    keras.layers.Dense(2, activation='relu'),\n",
    "    keras.layers.Dense(2)\n",
    "])\n",
    "\n",
    "model.build(input_shape=[None, 4])\n",
    "model.summary()\n",
    "\n",
    "# Q: param 数量是怎么计算的？"
   ]
  },
  {
   "cell_type": "code",
   "execution_count": 23,
   "metadata": {},
   "outputs": [
    {
     "name": "stdout",
     "output_type": "stream",
     "text": [
      "dense_13/kernel:0 (4, 2)\n",
      "dense_13/bias:0 (2,)\n",
      "dense_14/kernel:0 (2, 2)\n",
      "dense_14/bias:0 (2,)\n",
      "dense_15/kernel:0 (2, 2)\n",
      "dense_15/bias:0 (2,)\n"
     ]
    }
   ],
   "source": [
    "for p in model.trainable_variables:\n",
    "    print(p.name, p.shape)"
   ]
  },
  {
   "cell_type": "code",
   "execution_count": null,
   "metadata": {
    "collapsed": true
   },
   "outputs": [],
   "source": []
  }
 ],
 "metadata": {
  "kernelspec": {
   "display_name": "Python 3",
   "language": "python",
   "name": "python3"
  },
  "language_info": {
   "codemirror_mode": {
    "name": "ipython",
    "version": 3
   },
   "file_extension": ".py",
   "mimetype": "text/x-python",
   "name": "python",
   "nbconvert_exporter": "python",
   "pygments_lexer": "ipython3",
   "version": "3.6.1"
  }
 },
 "nbformat": 4,
 "nbformat_minor": 2
}
