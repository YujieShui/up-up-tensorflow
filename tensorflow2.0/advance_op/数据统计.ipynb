{
 "cells": [
  {
   "cell_type": "markdown",
   "metadata": {},
   "source": [
    "# 数据统计\n",
    "\n",
    "- tf.normal\n",
    "- tf.reduce_min/max\n",
    "- tf.argmax/argmin\n",
    "- tf.equal\n",
    "- tf.unique"
   ]
  },
  {
   "cell_type": "code",
   "execution_count": 1,
   "metadata": {},
   "outputs": [],
   "source": [
    "import tensorflow as tf"
   ]
  },
  {
   "cell_type": "code",
   "execution_count": 2,
   "metadata": {},
   "outputs": [
    {
     "name": "stdout",
     "output_type": "stream",
     "text": [
      "tf.Tensor(2.0, shape=(), dtype=float32)\n",
      "tf.Tensor(2.0, shape=(), dtype=float32)\n"
     ]
    }
   ],
   "source": [
    "# tf.norm\n",
    "\n",
    "a = tf.ones([2,2])\n",
    "\n",
    "print(tf.norm(a))\n",
    "print(tf.sqrt(tf.reduce_sum(tf.square(a))))"
   ]
  },
  {
   "cell_type": "code",
   "execution_count": 6,
   "metadata": {},
   "outputs": [
    {
     "name": "stdout",
     "output_type": "stream",
     "text": [
      "tf.Tensor(2.0, shape=(), dtype=float32)\n",
      "tf.Tensor([1.4142135 1.4142135], shape=(2,), dtype=float32)\n",
      "tf.Tensor(4.0, shape=(), dtype=float32)\n",
      "tf.Tensor([2. 2.], shape=(2,), dtype=float32)\n",
      "tf.Tensor([2. 2.], shape=(2,), dtype=float32)\n"
     ]
    }
   ],
   "source": [
    "# L1 Norm\n",
    "\n",
    "b = tf.ones([2,2])\n",
    "\n",
    "print(tf.norm(b))\n",
    "print(tf.norm(b,ord=2,axis=1))\n",
    "print(tf.norm(b,ord=1))\n",
    "print(tf.norm(b,ord=1,axis=0))\n",
    "print(tf.norm(b,ord=1,axis=1))"
   ]
  },
  {
   "cell_type": "code",
   "execution_count": 7,
   "metadata": {},
   "outputs": [
    {
     "data": {
      "text/plain": [
       "(<tf.Tensor: id=71, shape=(), dtype=float32, numpy=-2.2923238>,\n",
       " <tf.Tensor: id=73, shape=(), dtype=float32, numpy=2.6107056>,\n",
       " <tf.Tensor: id=75, shape=(), dtype=float32, numpy=0.19523866>)"
      ]
     },
     "execution_count": 7,
     "metadata": {},
     "output_type": "execute_result"
    }
   ],
   "source": [
    "# reduce_min/max/mean\n",
    "\n",
    "a = tf.random.normal([4,10])\n",
    "\n",
    "tf.reduce_min(a), tf.reduce_max(a), tf.reduce_mean(a)"
   ]
  },
  {
   "cell_type": "code",
   "execution_count": 8,
   "metadata": {},
   "outputs": [
    {
     "data": {
      "text/plain": [
       "(<tf.Tensor: id=80, shape=(4,), dtype=float32, numpy=array([-2.2923238, -0.6402987, -1.1174372, -1.5473856], dtype=float32)>,\n",
       " <tf.Tensor: id=82, shape=(4,), dtype=float32, numpy=array([1.6690364, 2.6107056, 0.7928473, 1.4002668], dtype=float32)>,\n",
       " <tf.Tensor: id=84, shape=(4,), dtype=float32, numpy=array([-0.01732296,  0.5770308 ,  0.0246646 ,  0.19658226], dtype=float32)>)"
      ]
     },
     "execution_count": 8,
     "metadata": {},
     "output_type": "execute_result"
    }
   ],
   "source": [
    "tf.reduce_min(a, axis=1), tf.reduce_max(a, axis=1), tf.reduce_mean(a, axis=1)"
   ]
  },
  {
   "cell_type": "code",
   "execution_count": 9,
   "metadata": {},
   "outputs": [
    {
     "data": {
      "text/plain": [
       "(TensorShape([4, 10]),\n",
       " <tf.Tensor: id=95, shape=(10,), dtype=int64, numpy=array([1, 3, 1, 1, 0, 1, 2, 2, 2, 0])>,\n",
       " TensorShape([10]),\n",
       " TensorShape([10]))"
      ]
     },
     "execution_count": 9,
     "metadata": {},
     "output_type": "execute_result"
    }
   ],
   "source": [
    "# argmax/argmin\n",
    "\n",
    "a = tf.random.normal([4,10])\n",
    "\n",
    "a.shape, tf.argmax(a), tf.argmax(a).shape, tf.argmin(a).shape"
   ]
  },
  {
   "cell_type": "code",
   "execution_count": 10,
   "metadata": {},
   "outputs": [
    {
     "data": {
      "text/plain": [
       "<tf.Tensor: id=106, shape=(5,), dtype=bool, numpy=array([False, False, False, False, False])>"
      ]
     },
     "execution_count": 10,
     "metadata": {},
     "output_type": "execute_result"
    }
   ],
   "source": [
    "# tf.equal\n",
    "\n",
    "a = tf.constant([1,2,3,2,5])\n",
    "b = tf.range(5)\n",
    "\n",
    "tf.equal(a, b)"
   ]
  },
  {
   "cell_type": "code",
   "execution_count": 11,
   "metadata": {},
   "outputs": [
    {
     "data": {
      "text/plain": [
       "<tf.Tensor: id=111, shape=(), dtype=int32, numpy=0>"
      ]
     },
     "execution_count": 11,
     "metadata": {},
     "output_type": "execute_result"
    }
   ],
   "source": [
    "res = tf.equal(a, b)\n",
    "tf.reduce_sum(tf.cast(res, dtype=tf.int32))"
   ]
  },
  {
   "cell_type": "code",
   "execution_count": 19,
   "metadata": {},
   "outputs": [
    {
     "data": {
      "text/plain": [
       "<tf.Tensor: id=182, shape=(), dtype=float64, numpy=0.5>"
      ]
     },
     "execution_count": 19,
     "metadata": {},
     "output_type": "execute_result"
    }
   ],
   "source": [
    "# Accuracy\n",
    "\n",
    "a = tf.reshape(tf.constant([0.1, 0.2, 0.7, 0.9, 0.05, 0.05]),[2,3])\n",
    "pred = tf.cast(tf.argmax(a,axis=1), dtype=tf.int32)\n",
    "y = tf.constant([2,1])\n",
    "correct = tf.reduce_sum(tf.cast(tf.equal(y, pred),dtype=tf.int32))\n",
    "accuracy = correct / 2\n",
    "\n",
    "accuracy"
   ]
  },
  {
   "cell_type": "code",
   "execution_count": 20,
   "metadata": {},
   "outputs": [
    {
     "data": {
      "text/plain": [
       "Unique(y=<tf.Tensor: id=188, shape=(5,), dtype=int32, numpy=array([0, 1, 2, 3, 4], dtype=int32)>, idx=<tf.Tensor: id=189, shape=(5,), dtype=int32, numpy=array([0, 1, 2, 3, 4], dtype=int32)>)"
      ]
     },
     "execution_count": 20,
     "metadata": {},
     "output_type": "execute_result"
    }
   ],
   "source": [
    "# tf.unique\n",
    "\n",
    "a = tf.range(5)\n",
    "tf.unique(a)"
   ]
  },
  {
   "cell_type": "code",
   "execution_count": 21,
   "metadata": {},
   "outputs": [
    {
     "data": {
      "text/plain": [
       "Unique(y=<tf.Tensor: id=193, shape=(3,), dtype=int32, numpy=array([4, 2, 3], dtype=int32)>, idx=<tf.Tensor: id=194, shape=(5,), dtype=int32, numpy=array([0, 1, 1, 0, 2], dtype=int32)>)"
      ]
     },
     "execution_count": 21,
     "metadata": {},
     "output_type": "execute_result"
    }
   ],
   "source": [
    "a = tf.constant([4,2,2,4,3])\n",
    "tf.unique(a)"
   ]
  },
  {
   "cell_type": "code",
   "execution_count": null,
   "metadata": {},
   "outputs": [],
   "source": []
  }
 ],
 "metadata": {
  "kernelspec": {
   "display_name": "Python 3",
   "language": "python",
   "name": "python3"
  },
  "language_info": {
   "codemirror_mode": {
    "name": "ipython",
    "version": 3
   },
   "file_extension": ".py",
   "mimetype": "text/x-python",
   "name": "python",
   "nbconvert_exporter": "python",
   "pygments_lexer": "ipython3",
   "version": "3.7.3"
  },
  "toc": {
   "base_numbering": 1,
   "nav_menu": {},
   "number_sections": true,
   "sideBar": true,
   "skip_h1_title": false,
   "title_cell": "Table of Contents",
   "title_sidebar": "Contents",
   "toc_cell": false,
   "toc_position": {},
   "toc_section_display": true,
   "toc_window_display": false
  }
 },
 "nbformat": 4,
 "nbformat_minor": 2
}
