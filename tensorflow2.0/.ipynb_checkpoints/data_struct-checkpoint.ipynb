{
 "cells": [
  {
   "cell_type": "markdown",
   "metadata": {},
   "source": [
    "# Data Container\n",
    "\n",
    "![TensorFlow 数据类型](./images/data_struct.png)"
   ]
  },
  {
   "cell_type": "markdown",
   "metadata": {},
   "source": [
    "**why: 为什么 TensorFlow 使用 Tensor 这种数据类型？**\n",
    "\n",
    "A:\n",
    "- 从python的list可以存储多种数据类型，但是它不利于进行数学运算\n",
    "- 接着有了numpy，numpy是支持各种数学运算的科学计算库，但是它无法满足深度学习技术的一些基本需求，比如说：不支持GPU运算，不支持自动求导\n",
    "- Tensor的出现就就弥补了numpy在深度学习上的不足，既能用于科学计算，也能支持GPU运算、自动求导。Tensor可以与numpy进行互相转换，或者说TensorFlow用类似于numpy的使用方式让程序员更加容易上手。\n",
    "\n",
    "**what: Tensor具体是怎么样的数据类型？**\n",
    "\n",
    "A:\n",
    "\n",
    "|  dim   | type       | example |\n",
    "|  ----  | ----       | ---     |\n",
    "| dim=0  | scalar 标量 | 1.1     |  \n",
    "| dim=1  | vector 向量 | [1.1]   |\n",
    "| dim=2  | matrix 矩阵 | [[1.1,2.2], [3.3,4.4]] |\n",
    "| dim>2  | tensor 张量 | |\n",
    "\n",
    "从数学上来讲，dim大于2的是张量，但是在TensorFlow中可以认为所有的数据都是张量，即使dim为0的标量，也可以将它看成是一个tensor(张量)\n",
    "\n",
    "**Q: Tensor 的类型？**\n",
    "\n",
    "A: \n",
    "- int, float, double\n",
    "- bool\n",
    "- string\n",
    "Tensor主要用于科学计算，想来主要用int,float,double这些类型就好了呀，为什么会用到bool和string呢？\n",
    "其实也不必纠结，bool类型经常会作为函数的返回值返回，如果有需要可以将其转换为0,1，pyTroch中就没有bool而是用0,1表示\n",
    "至于string类型用到很少，了解到TensorFlow中有这样一种数据类型即可"
   ]
  },
  {
   "cell_type": "markdown",
   "metadata": {},
   "source": [
    "# Create tf.constant()\n",
    "\n",
    "我们已经知道了tensor是一种数据结构，接下来我们来看一下各种类型的tensor。\n",
    "\n",
    "我们可以使用 `tf.constant()` 来创建tensor，constant给人的感觉是一个不变的常量，但它任然是一个tensor，所以`tf.constant()`具有tensor的各种数据类型：int,float,double,bool,string。"
   ]
  },
  {
   "cell_type": "code",
   "execution_count": 57,
   "metadata": {},
   "outputs": [
    {
     "data": {
      "text/plain": [
       "'2.0.0-beta1'"
      ]
     },
     "execution_count": 57,
     "metadata": {},
     "output_type": "execute_result"
    }
   ],
   "source": [
    "import tensorflow as tf\n",
    "from tensorflow.keras import Model, layers\n",
    "tf.__version__"
   ]
  },
  {
   "cell_type": "code",
   "execution_count": 2,
   "metadata": {},
   "outputs": [
    {
     "data": {
      "text/plain": [
       "<tf.Tensor: id=0, shape=(), dtype=int32, numpy=1>"
      ]
     },
     "execution_count": 2,
     "metadata": {},
     "output_type": "execute_result"
    }
   ],
   "source": [
    "# 1默认 dtype=int32，此外还有int64\n",
    "tf.constant(1)"
   ]
  },
  {
   "cell_type": "code",
   "execution_count": 3,
   "metadata": {},
   "outputs": [
    {
     "data": {
      "text/plain": [
       "<tf.Tensor: id=2, shape=(), dtype=float32, numpy=1.0>"
      ]
     },
     "execution_count": 3,
     "metadata": {},
     "output_type": "execute_result"
    }
   ],
   "source": [
    "# 1. 则是一个 float32 类型的 tensor\n",
    "tf.constant(1.)"
   ]
  },
  {
   "cell_type": "code",
   "execution_count": 60,
   "metadata": {},
   "outputs": [],
   "source": [
    "# tf.constant() 也可以指定 dtype，但是当默认类型与dtype冲突就会报错\n",
    "# tf.constant(2.2, dtype=int32)"
   ]
  },
  {
   "cell_type": "code",
   "execution_count": 5,
   "metadata": {},
   "outputs": [
    {
     "data": {
      "text/plain": [
       "<tf.Tensor: id=4, shape=(), dtype=float64, numpy=2.0>"
      ]
     },
     "execution_count": 5,
     "metadata": {},
     "output_type": "execute_result"
    }
   ],
   "source": [
    "# double类型其实是 float64 类型，double相当于是一个别名\n",
    "tf.constant(2., dtype=tf.double)"
   ]
  },
  {
   "cell_type": "code",
   "execution_count": 6,
   "metadata": {},
   "outputs": [
    {
     "data": {
      "text/plain": [
       "<tf.Tensor: id=6, shape=(2,), dtype=bool, numpy=array([ True, False])>"
      ]
     },
     "execution_count": 6,
     "metadata": {},
     "output_type": "execute_result"
    }
   ],
   "source": [
    "# tensor 中的 bool 类型\n",
    "tf.constant([True, False])"
   ]
  },
  {
   "cell_type": "code",
   "execution_count": 7,
   "metadata": {},
   "outputs": [
    {
     "data": {
      "text/plain": [
       "<tf.Tensor: id=8, shape=(), dtype=string, numpy=b'hello word.'>"
      ]
     },
     "execution_count": 7,
     "metadata": {},
     "output_type": "execute_result"
    }
   ],
   "source": [
    "# tensor 中的 string 类型\n",
    "tf.constant('hello word.')"
   ]
  },
  {
   "cell_type": "markdown",
   "metadata": {},
   "source": [
    "# Tensor property\n",
    "\n",
    "接着来看一些 tensor 的常用属性\n",
    "\n",
    "1. a.device - 用于cpu还是gpu，cpu和GPU上运算的方式是不同的。比如说有些tensor的运算我们希望它运行在cpu上，像是input的输入之类的，这时就要指定tensor的device\n"
   ]
  },
  {
   "cell_type": "code",
   "execution_count": 8,
   "metadata": {
    "collapsed": true
   },
   "outputs": [],
   "source": [
    "# 指定 tensor 运行在 GPU 还是 CPU\n",
    "with tf.device(\"cpu\"):\n",
    "    a=tf.constant([1])\n",
    "    \n",
    "with tf.device(\"gpu\"):\n",
    "    b=tf.range(4)"
   ]
  },
  {
   "cell_type": "code",
   "execution_count": 9,
   "metadata": {},
   "outputs": [
    {
     "data": {
      "text/plain": [
       "'/job:localhost/replica:0/task:0/device:CPU:0'"
      ]
     },
     "execution_count": 9,
     "metadata": {},
     "output_type": "execute_result"
    }
   ],
   "source": [
    "# 查看 tensor 运行在 CPU 还是 GPU，并显示编号\n",
    "a.device"
   ]
  },
  {
   "cell_type": "code",
   "execution_count": 10,
   "metadata": {},
   "outputs": [
    {
     "data": {
      "text/plain": [
       "'/job:localhost/replica:0/task:0/device:GPU:0'"
      ]
     },
     "execution_count": 10,
     "metadata": {},
     "output_type": "execute_result"
    }
   ],
   "source": [
    "b.device"
   ]
  },
  {
   "cell_type": "code",
   "execution_count": 11,
   "metadata": {},
   "outputs": [
    {
     "data": {
      "text/plain": [
       "'/job:localhost/replica:0/task:0/device:GPU:0'"
      ]
     },
     "execution_count": 11,
     "metadata": {},
     "output_type": "execute_result"
    }
   ],
   "source": [
    "# 我们可以改变 tensor 的 device\n",
    "aa=a.gpu()\n",
    "aa.device"
   ]
  },
  {
   "cell_type": "code",
   "execution_count": 12,
   "metadata": {},
   "outputs": [
    {
     "data": {
      "text/plain": [
       "'/job:localhost/replica:0/task:0/device:CPU:0'"
      ]
     },
     "execution_count": 12,
     "metadata": {},
     "output_type": "execute_result"
    }
   ],
   "source": [
    "bb=b.cpu()\n",
    "bb.device"
   ]
  },
  {
   "cell_type": "markdown",
   "metadata": {},
   "source": [
    "# Create Tensor\n",
    "\n",
    "- from numpy, list\n",
    "- zeros, ones\n",
    "- fill\n",
    "- random\n",
    "- constant\n",
    "- Application"
   ]
  },
  {
   "cell_type": "code",
   "execution_count": 13,
   "metadata": {
    "collapsed": true
   },
   "outputs": [],
   "source": [
    "import tensorflow as tf\n",
    "import numpy as np"
   ]
  },
  {
   "cell_type": "code",
   "execution_count": 14,
   "metadata": {},
   "outputs": [
    {
     "data": {
      "text/plain": [
       "<tf.Tensor: id=17, shape=(2, 3), dtype=float64, numpy=\n",
       "array([[1., 1., 1.],\n",
       "       [1., 1., 1.]])>"
      ]
     },
     "execution_count": 14,
     "metadata": {},
     "output_type": "execute_result"
    }
   ],
   "source": [
    "# tf.convert_to_tensor()可以将numpy array转为tensor\n",
    "# 这里会将其转换为float64类型，但用的更多的是float32类型，可以再转换类型\n",
    "tf.convert_to_tensor(np.ones([2, 3]))"
   ]
  },
  {
   "cell_type": "code",
   "execution_count": 15,
   "metadata": {},
   "outputs": [
    {
     "data": {
      "text/plain": [
       "<tf.Tensor: id=19, shape=(2, 3), dtype=float64, numpy=\n",
       "array([[0., 0., 0.],\n",
       "       [0., 0., 0.]])>"
      ]
     },
     "execution_count": 15,
     "metadata": {},
     "output_type": "execute_result"
    }
   ],
   "source": [
    "# 也可以使用全零的矩阵\n",
    "# np.ones(), np.zeros()中的[2,3]都是shape,而不是data\n",
    "tf.convert_to_tensor(np.zeros([2, 3]))"
   ]
  },
  {
   "cell_type": "code",
   "execution_count": 16,
   "metadata": {},
   "outputs": [
    {
     "data": {
      "text/plain": [
       "<tf.Tensor: id=21, shape=(2,), dtype=int32, numpy=array([1, 2], dtype=int32)>"
      ]
     },
     "execution_count": 16,
     "metadata": {},
     "output_type": "execute_result"
    }
   ],
   "source": [
    "# 将一个list转化为tensor\n",
    "# 这里的[1,2]不是shape\n",
    "# 而是data.表示一维的，长度为2的list,shape=(2,)\n",
    "tf.convert_to_tensor([1, 2])"
   ]
  },
  {
   "cell_type": "code",
   "execution_count": 17,
   "metadata": {},
   "outputs": [
    {
     "data": {
      "text/plain": [
       "<tf.Tensor: id=23, shape=(2,), dtype=float32, numpy=array([1., 2.], dtype=float32)>"
      ]
     },
     "execution_count": 17,
     "metadata": {},
     "output_type": "execute_result"
    }
   ],
   "source": [
    "# list中类型不同，会用大一点类型\n",
    "tf.convert_to_tensor([1, 2.0])"
   ]
  },
  {
   "cell_type": "code",
   "execution_count": 18,
   "metadata": {},
   "outputs": [
    {
     "data": {
      "text/plain": [
       "<tf.Tensor: id=25, shape=(2, 1), dtype=float32, numpy=\n",
       "array([[1.],\n",
       "       [2.]], dtype=float32)>"
      ]
     },
     "execution_count": 18,
     "metadata": {},
     "output_type": "execute_result"
    }
   ],
   "source": [
    "tf.convert_to_tensor([[1], [2.0]])"
   ]
  },
  {
   "cell_type": "code",
   "execution_count": 19,
   "metadata": {},
   "outputs": [
    {
     "data": {
      "text/plain": [
       "<tf.Tensor: id=27, shape=(2,), dtype=int32, numpy=array([2, 3], dtype=int32)>"
      ]
     },
     "execution_count": 19,
     "metadata": {},
     "output_type": "execute_result"
    }
   ],
   "source": [
    "tf.convert_to_tensor([2, 3])"
   ]
  },
  {
   "cell_type": "markdown",
   "metadata": {},
   "source": [
    "**辨析这三者的区别**\n",
    "\n",
    "```python\n",
    "# 将2行3列的全1矩阵转换为tensor\n",
    "tf.convert_to_tensor(np.ones([2, 3]))\n",
    "# 1维长度为2的tensor，这里的[2, 3]是data\n",
    "tf.convert_to_tensor([2, 3])\n",
    "# 将2行3列的全1矩阵转换为tensor，这里的[2,3]是shape\n",
    "tf.zeros([2,3])\n",
    "```\n",
    "\n",
    "Q: `tf.convert_to_tensor([2, 3])`的shape为什么是shape=(2,)?\n"
   ]
  },
  {
   "cell_type": "code",
   "execution_count": 20,
   "metadata": {},
   "outputs": [
    {
     "data": {
      "text/plain": [
       "<tf.Tensor: id=29, shape=(), dtype=float32, numpy=0.0>"
      ]
     },
     "execution_count": 20,
     "metadata": {},
     "output_type": "execute_result"
    }
   ],
   "source": [
    "# tf.zeros\n",
    "\n",
    "tf.zeros([])"
   ]
  },
  {
   "cell_type": "code",
   "execution_count": 21,
   "metadata": {},
   "outputs": [
    {
     "data": {
      "text/plain": [
       "<tf.Tensor: id=33, shape=(1,), dtype=float32, numpy=array([0.], dtype=float32)>"
      ]
     },
     "execution_count": 21,
     "metadata": {},
     "output_type": "execute_result"
    }
   ],
   "source": [
    "tf.zeros([1])"
   ]
  },
  {
   "cell_type": "code",
   "execution_count": 22,
   "metadata": {},
   "outputs": [
    {
     "data": {
      "text/plain": [
       "<tf.Tensor: id=37, shape=(1, 2), dtype=float32, numpy=array([[0., 0.]], dtype=float32)>"
      ]
     },
     "execution_count": 22,
     "metadata": {},
     "output_type": "execute_result"
    }
   ],
   "source": [
    "# 这里的[1,2]是shape\n",
    "tf.zeros([1,2])"
   ]
  },
  {
   "cell_type": "code",
   "execution_count": 23,
   "metadata": {},
   "outputs": [
    {
     "data": {
      "text/plain": [
       "<tf.Tensor: id=41, shape=(2, 3, 3), dtype=float32, numpy=\n",
       "array([[[0., 0., 0.],\n",
       "        [0., 0., 0.],\n",
       "        [0., 0., 0.]],\n",
       "\n",
       "       [[0., 0., 0.],\n",
       "        [0., 0., 0.],\n",
       "        [0., 0., 0.]]], dtype=float32)>"
      ]
     },
     "execution_count": 23,
     "metadata": {},
     "output_type": "execute_result"
    }
   ],
   "source": [
    "tf.zeros([2,3,3])"
   ]
  },
  {
   "cell_type": "code",
   "execution_count": 24,
   "metadata": {},
   "outputs": [
    {
     "data": {
      "text/plain": [
       "<tf.Tensor: id=45, shape=(2, 3), dtype=float32, numpy=\n",
       "array([[0., 0., 0.],\n",
       "       [0., 0., 0.]], dtype=float32)>"
      ]
     },
     "execution_count": 24,
     "metadata": {},
     "output_type": "execute_result"
    }
   ],
   "source": [
    "tf.zeros([2,3])"
   ]
  },
  {
   "cell_type": "code",
   "execution_count": 25,
   "metadata": {},
   "outputs": [
    {
     "data": {
      "text/plain": [
       "<tf.Tensor: id=50, shape=(2, 3, 3), dtype=float32, numpy=\n",
       "array([[[0., 0., 0.],\n",
       "        [0., 0., 0.],\n",
       "        [0., 0., 0.]],\n",
       "\n",
       "       [[0., 0., 0.],\n",
       "        [0., 0., 0.],\n",
       "        [0., 0., 0.]]], dtype=float32)>"
      ]
     },
     "execution_count": 25,
     "metadata": {},
     "output_type": "execute_result"
    }
   ],
   "source": [
    "# tf.zeros_like\n",
    "\n",
    "a = tf.zeros([2, 3, 3])\n",
    "tf.zeros_like(a)"
   ]
  },
  {
   "cell_type": "code",
   "execution_count": 26,
   "metadata": {},
   "outputs": [
    {
     "data": {
      "text/plain": [
       "<tf.Tensor: id=54, shape=(2, 3, 3), dtype=float32, numpy=\n",
       "array([[[0., 0., 0.],\n",
       "        [0., 0., 0.],\n",
       "        [0., 0., 0.]],\n",
       "\n",
       "       [[0., 0., 0.],\n",
       "        [0., 0., 0.],\n",
       "        [0., 0., 0.]]], dtype=float32)>"
      ]
     },
     "execution_count": 26,
     "metadata": {},
     "output_type": "execute_result"
    }
   ],
   "source": [
    "tf.zeros(a.shape)"
   ]
  },
  {
   "cell_type": "code",
   "execution_count": 27,
   "metadata": {},
   "outputs": [
    {
     "data": {
      "text/plain": [
       "<tf.Tensor: id=58, shape=(1,), dtype=float32, numpy=array([1.], dtype=float32)>"
      ]
     },
     "execution_count": 27,
     "metadata": {},
     "output_type": "execute_result"
    }
   ],
   "source": [
    "# tf.ones\n",
    "# w*x+b 中 w 可以全部初始化为 0 或者 1，b 一般初始化为 0\n",
    "\n",
    "tf.ones(1)"
   ]
  },
  {
   "cell_type": "code",
   "execution_count": 28,
   "metadata": {},
   "outputs": [
    {
     "data": {
      "text/plain": [
       "<tf.Tensor: id=60, shape=(), dtype=float32, numpy=1.0>"
      ]
     },
     "execution_count": 28,
     "metadata": {},
     "output_type": "execute_result"
    }
   ],
   "source": [
    "tf.ones([])"
   ]
  },
  {
   "cell_type": "code",
   "execution_count": 29,
   "metadata": {},
   "outputs": [
    {
     "data": {
      "text/plain": [
       "<tf.Tensor: id=64, shape=(2,), dtype=float32, numpy=array([1., 1.], dtype=float32)>"
      ]
     },
     "execution_count": 29,
     "metadata": {},
     "output_type": "execute_result"
    }
   ],
   "source": [
    "tf.ones([2])"
   ]
  },
  {
   "cell_type": "code",
   "execution_count": 30,
   "metadata": {},
   "outputs": [
    {
     "data": {
      "text/plain": [
       "<tf.Tensor: id=68, shape=(2, 3), dtype=float32, numpy=\n",
       "array([[1., 1., 1.],\n",
       "       [1., 1., 1.]], dtype=float32)>"
      ]
     },
     "execution_count": 30,
     "metadata": {},
     "output_type": "execute_result"
    }
   ],
   "source": [
    "tf.ones([2, 3])"
   ]
  },
  {
   "cell_type": "code",
   "execution_count": 31,
   "metadata": {},
   "outputs": [
    {
     "data": {
      "text/plain": [
       "<tf.Tensor: id=73, shape=(1, 2, 3, 3), dtype=float32, numpy=\n",
       "array([[[[1., 1., 1.],\n",
       "         [1., 1., 1.],\n",
       "         [1., 1., 1.]],\n",
       "\n",
       "        [[1., 1., 1.],\n",
       "         [1., 1., 1.],\n",
       "         [1., 1., 1.]]]], dtype=float32)>"
      ]
     },
     "execution_count": 31,
     "metadata": {},
     "output_type": "execute_result"
    }
   ],
   "source": [
    "tf.ones_like([a])"
   ]
  },
  {
   "cell_type": "code",
   "execution_count": 32,
   "metadata": {},
   "outputs": [
    {
     "data": {
      "text/plain": [
       "<tf.Tensor: id=77, shape=(2, 2), dtype=int32, numpy=\n",
       "array([[0, 0],\n",
       "       [0, 0]], dtype=int32)>"
      ]
     },
     "execution_count": 32,
     "metadata": {},
     "output_type": "execute_result"
    }
   ],
   "source": [
    "# fill 表示给指定形状的矩阵填充相同的值\n",
    "\n",
    "tf.fill([2, 2], 0)"
   ]
  },
  {
   "cell_type": "code",
   "execution_count": 33,
   "metadata": {},
   "outputs": [
    {
     "data": {
      "text/plain": [
       "<tf.Tensor: id=81, shape=(2, 2), dtype=int32, numpy=\n",
       "array([[1, 1],\n",
       "       [1, 1]], dtype=int32)>"
      ]
     },
     "execution_count": 33,
     "metadata": {},
     "output_type": "execute_result"
    }
   ],
   "source": [
    "tf.fill([2, 2], 1)"
   ]
  },
  {
   "cell_type": "code",
   "execution_count": 34,
   "metadata": {},
   "outputs": [
    {
     "data": {
      "text/plain": [
       "<tf.Tensor: id=85, shape=(2, 2), dtype=int32, numpy=\n",
       "array([[7, 7],\n",
       "       [7, 7]], dtype=int32)>"
      ]
     },
     "execution_count": 34,
     "metadata": {},
     "output_type": "execute_result"
    }
   ],
   "source": [
    "tf.fill([2, 2], 7)"
   ]
  },
  {
   "cell_type": "code",
   "execution_count": 35,
   "metadata": {},
   "outputs": [
    {
     "data": {
      "text/plain": [
       "<tf.Tensor: id=92, shape=(2, 2), dtype=float32, numpy=\n",
       "array([[0.18485576, 2.6674771 ],\n",
       "       [1.5959008 , 0.7461349 ]], dtype=float32)>"
      ]
     },
     "execution_count": 35,
     "metadata": {},
     "output_type": "execute_result"
    }
   ],
   "source": [
    "# Normal 随机初始化，使用正态分布\n",
    "\n",
    "# tf.random.normal() 正太分布，随机初始化，默认为0-1分布\n",
    "# mean 均值，默认为 0\n",
    "# stddev 方差，默认为 1\n",
    "tf.random.normal([2, 2], mean=1, stddev=1)"
   ]
  },
  {
   "cell_type": "code",
   "execution_count": 36,
   "metadata": {},
   "outputs": [
    {
     "data": {
      "text/plain": [
       "<tf.Tensor: id=99, shape=(2, 2), dtype=float32, numpy=\n",
       "array([[-1.97684   ,  1.1276189 ],\n",
       "       [ 0.39476565,  0.6753145 ]], dtype=float32)>"
      ]
     },
     "execution_count": 36,
     "metadata": {},
     "output_type": "execute_result"
    }
   ],
   "source": [
    "tf.random.normal([2, 2])"
   ]
  },
  {
   "cell_type": "code",
   "execution_count": 37,
   "metadata": {},
   "outputs": [
    {
     "data": {
      "text/plain": [
       "<tf.Tensor: id=106, shape=(2, 2), dtype=float32, numpy=\n",
       "array([[ 0.270513 , -1.1615386],\n",
       "       [-1.0103005, -1.0726104]], dtype=float32)>"
      ]
     },
     "execution_count": 37,
     "metadata": {},
     "output_type": "execute_result"
    }
   ],
   "source": [
    "# Truncated Normal 截断初始化，有利于解决梯度弥散问题，效果比一般 normal 的好\n",
    "tf.random.truncated_normal([2, 2], mean=0, stddev=1)"
   ]
  },
  {
   "cell_type": "code",
   "execution_count": 38,
   "metadata": {},
   "outputs": [
    {
     "data": {
      "text/plain": [
       "<tf.Tensor: id=114, shape=(2, 2), dtype=float32, numpy=\n",
       "array([[0.42198217, 0.30678213],\n",
       "       [0.4709084 , 0.11048532]], dtype=float32)>"
      ]
     },
     "execution_count": 38,
     "metadata": {},
     "output_type": "execute_result"
    }
   ],
   "source": [
    "# Uniform 均匀分布\n",
    "\n",
    "tf.random.uniform([2,2], minval=0, maxval=1)"
   ]
  },
  {
   "cell_type": "code",
   "execution_count": 39,
   "metadata": {
    "scrolled": true
   },
   "outputs": [
    {
     "data": {
      "text/plain": [
       "<tf.Tensor: id=122, shape=(2, 2), dtype=float32, numpy=\n",
       "array([[81.41677 , 30.504154],\n",
       "       [55.201042, 27.906906]], dtype=float32)>"
      ]
     },
     "execution_count": 39,
     "metadata": {},
     "output_type": "execute_result"
    }
   ],
   "source": [
    "tf.random.uniform([2,2], minval=0, maxval=100)"
   ]
  },
  {
   "cell_type": "markdown",
   "metadata": {},
   "source": [
    "**Random Permutation 随机打乱**\n",
    "\n",
    "图片 [64, 28, 28, 3]    标签 [64]\n",
    "\n",
    "图片与标签是一一对应的关系，现在要将图片打乱，则必须保证标签与图片保持对应关系\n",
    "\n",
    "就可以用`tf.random.shuffle()`将索引idx打乱，图片和标签都通过idx来取"
   ]
  },
  {
   "cell_type": "code",
   "execution_count": 61,
   "metadata": {},
   "outputs": [
    {
     "name": "stdout",
     "output_type": "stream",
     "text": [
      "tf.Tensor([2 6 1 9 0 7 4 5 3 8], shape=(10,), dtype=int32)\n"
     ]
    }
   ],
   "source": [
    "idx = tf.range(10)\n",
    "idx = tf.random.shuffle(idx)\n",
    "print(idx)"
   ]
  },
  {
   "cell_type": "code",
   "execution_count": 62,
   "metadata": {},
   "outputs": [
    {
     "data": {
      "text/plain": [
       "(<tf.Tensor: id=217, shape=(10, 784), dtype=float32, numpy=\n",
       " array([[-1.3011533e-01, -4.9829581e-01,  7.7811158e-01, ...,\n",
       "          1.7598143e-01,  1.9397516e+00, -3.9085153e-01],\n",
       "        [-1.0244651e+00,  2.8426228e+00, -5.0214624e-01, ...,\n",
       "          4.7115707e-01,  8.2540095e-01,  9.8577875e-01],\n",
       "        [-1.6404649e+00, -9.4139449e-02,  1.0411007e-01, ...,\n",
       "          5.2710235e-01, -2.1553078e+00, -1.5462478e+00],\n",
       "        ...,\n",
       "        [-1.0074441e+00, -1.1920149e+00, -2.1453404e+00, ...,\n",
       "          2.5046837e-01, -2.7438232e-03,  2.1176100e-01],\n",
       "        [-2.1265564e+00,  9.5208937e-01, -8.5107285e-01, ...,\n",
       "          2.4575034e-01, -5.1500922e-01, -5.0343215e-01],\n",
       "        [ 1.5268722e-01,  1.3989946e+00,  7.1106237e-01, ...,\n",
       "          1.5078094e+00, -1.0268127e+00,  1.1532666e-01]], dtype=float32)>,\n",
       " <tf.Tensor: id=221, shape=(10,), dtype=int32, numpy=array([8, 3, 7, 7, 7, 8, 8, 3, 1, 4], dtype=int32)>)"
      ]
     },
     "execution_count": 62,
     "metadata": {},
     "output_type": "execute_result"
    }
   ],
   "source": [
    "a = tf.random.normal([10, 784])\n",
    "b = tf.random.uniform([10], maxval=10, dtype=tf.int32)\n",
    "a, b"
   ]
  },
  {
   "cell_type": "code",
   "execution_count": 42,
   "metadata": {},
   "outputs": [
    {
     "data": {
      "text/plain": [
       "<tf.Tensor: id=143, shape=(10,), dtype=int32, numpy=array([3, 6, 6, 8, 6, 6, 5, 8, 0, 5], dtype=int32)>"
      ]
     },
     "execution_count": 42,
     "metadata": {},
     "output_type": "execute_result"
    }
   ],
   "source": [
    "a = tf.gather(a, idx)\n",
    "b = tf.gather(b, idx)\n",
    "a\n",
    "b"
   ]
  },
  {
   "cell_type": "code",
   "execution_count": 44,
   "metadata": {},
   "outputs": [
    {
     "data": {
      "text/plain": [
       "<tf.Tensor: id=145, shape=(), dtype=int32, numpy=1>"
      ]
     },
     "execution_count": 44,
     "metadata": {},
     "output_type": "execute_result"
    }
   ],
   "source": [
    "# tf.constant 作用于 tf.convert_to_tensor() 一样\n",
    "\n",
    "tf.constant(1)"
   ]
  },
  {
   "cell_type": "code",
   "execution_count": 45,
   "metadata": {},
   "outputs": [
    {
     "data": {
      "text/plain": [
       "<tf.Tensor: id=147, shape=(1,), dtype=int32, numpy=array([1], dtype=int32)>"
      ]
     },
     "execution_count": 45,
     "metadata": {},
     "output_type": "execute_result"
    }
   ],
   "source": [
    "tf.constant([1])"
   ]
  },
  {
   "cell_type": "code",
   "execution_count": 46,
   "metadata": {},
   "outputs": [
    {
     "data": {
      "text/plain": [
       "<tf.Tensor: id=149, shape=(2,), dtype=float32, numpy=array([1., 2.], dtype=float32)>"
      ]
     },
     "execution_count": 46,
     "metadata": {},
     "output_type": "execute_result"
    }
   ],
   "source": [
    "tf.constant([1, 2.])"
   ]
  },
  {
   "cell_type": "code",
   "execution_count": 48,
   "metadata": {
    "collapsed": true
   },
   "outputs": [],
   "source": [
    "# 错误的写法,尺寸不同\n",
    "\n",
    "# tf.constant([[1,2.0],[3.0]])\n",
    "# ValueError: Can't convert non-rectangular Python sequence to Tensor."
   ]
  },
  {
   "cell_type": "markdown",
   "metadata": {},
   "source": [
    "# Typical Dim Data\n",
    "\n",
    "- []\n",
    "- [d]\n",
    "- [h, w]\n",
    "- [b, len, vec]\n",
    "- [b, h, w, c]\n",
    "- [t, b, h, w, c]"
   ]
  },
  {
   "cell_type": "code",
   "execution_count": 50,
   "metadata": {},
   "outputs": [
    {
     "data": {
      "text/plain": [
       "<tf.Tensor: id=165, shape=(4, 10), dtype=float32, numpy=\n",
       "array([[0.8061476 , 0.81610644, 0.37339056, 0.91701853, 0.9934621 ,\n",
       "        0.4941244 , 0.69928455, 0.12228584, 0.07498312, 0.620808  ],\n",
       "       [0.8461485 , 0.7387619 , 0.93692327, 0.71683156, 0.69950914,\n",
       "        0.83826613, 0.25991976, 0.5433346 , 0.97463655, 0.97721934],\n",
       "       [0.63280904, 0.13706255, 0.49589276, 0.98888445, 0.5552405 ,\n",
       "        0.8923032 , 0.3872658 , 0.23214078, 0.11002707, 0.5737629 ],\n",
       "       [0.9731288 , 0.8776306 , 0.95908535, 0.87796175, 0.2686305 ,\n",
       "        0.21383238, 0.36060774, 0.859416  , 0.8485174 , 0.4204042 ]],\n",
       "      dtype=float32)>"
      ]
     },
     "execution_count": 50,
     "metadata": {},
     "output_type": "execute_result"
    }
   ],
   "source": [
    "# scalar [] - Loss\n",
    "\n",
    "# 随机产生一个均匀分布,shape=(4,10)的矩阵\n",
    "# 接着利用one_hot编码将0-4变成shape=(4,10)的矩阵\n",
    "# 采用 mse(mean_squared_error 均方误差)计算loss \n",
    "# https://en.wikipedia.org/wiki/Mean_squared_error\n",
    "# 最后求计算出的4个loss的平均值\n",
    "\n",
    "out = tf.random.uniform([4, 10])\n",
    "out"
   ]
  },
  {
   "cell_type": "code",
   "execution_count": 53,
   "metadata": {},
   "outputs": [
    {
     "data": {
      "text/plain": [
       "<tf.Tensor: id=187, shape=(4, 10), dtype=float32, numpy=\n",
       "array([[1., 0., 0., 0., 0., 0., 0., 0., 0., 0.],\n",
       "       [0., 1., 0., 0., 0., 0., 0., 0., 0., 0.],\n",
       "       [0., 0., 1., 0., 0., 0., 0., 0., 0., 0.],\n",
       "       [0., 0., 0., 1., 0., 0., 0., 0., 0., 0.]], dtype=float32)>"
      ]
     },
     "execution_count": 53,
     "metadata": {},
     "output_type": "execute_result"
    }
   ],
   "source": [
    "y = tf.range(4)\n",
    "y = tf.one_hot(y, depth=10)\n",
    "y"
   ]
  },
  {
   "cell_type": "code",
   "execution_count": 55,
   "metadata": {},
   "outputs": [
    {
     "data": {
      "text/plain": [
       "<tf.Tensor: id=194, shape=(4,), dtype=float32, numpy=array([0.3810056 , 0.56355333, 0.33009213, 0.45351952], dtype=float32)>"
      ]
     },
     "execution_count": 55,
     "metadata": {},
     "output_type": "execute_result"
    }
   ],
   "source": [
    "loss = tf.keras.losses.mse(y, out)\n",
    "loss"
   ]
  },
  {
   "cell_type": "code",
   "execution_count": 56,
   "metadata": {},
   "outputs": [
    {
     "data": {
      "text/plain": [
       "<tf.Tensor: id=197, shape=(), dtype=float32, numpy=0.43204266>"
      ]
     },
     "execution_count": 56,
     "metadata": {},
     "output_type": "execute_result"
    }
   ],
   "source": [
    "loss = tf.reduce_mean(loss)\n",
    "loss"
   ]
  },
  {
   "cell_type": "code",
   "execution_count": 68,
   "metadata": {},
   "outputs": [
    {
     "data": {
      "text/plain": [
       "<tf.Variable 'kernel:0' shape=(8, 10) dtype=float32, numpy=\n",
       "array([[-0.36533755,  0.2126159 ,  0.17944366, -0.06619966, -0.22559944,\n",
       "        -0.12187746,  0.5467061 ,  0.38682002,  0.04903114,  0.23061931],\n",
       "       [ 0.51410294, -0.37942362,  0.43501425, -0.00666809,  0.47919726,\n",
       "         0.26297665, -0.38824844, -0.20027593, -0.0330891 ,  0.24987555],\n",
       "       [-0.3143787 , -0.5667321 ,  0.3044783 , -0.57716554,  0.46514118,\n",
       "         0.12278539,  0.4150092 ,  0.2075904 ,  0.32312614,  0.07485378],\n",
       "       [-0.4113054 ,  0.4415884 ,  0.02766085, -0.54193676, -0.12906808,\n",
       "        -0.47711802, -0.57212174, -0.4847202 ,  0.5187806 ,  0.32623363],\n",
       "       [-0.05604148,  0.10918903, -0.5444708 ,  0.5532075 , -0.4489597 ,\n",
       "        -0.3984221 ,  0.21420497, -0.09848064,  0.00269687, -0.30168948],\n",
       "       [ 0.5235169 , -0.08979142,  0.48957765,  0.42222345,  0.40324825,\n",
       "        -0.36002076,  0.32779002,  0.35037678,  0.32282168,  0.14350379],\n",
       "       [-0.18230173,  0.09176737,  0.4096126 ,  0.36216068, -0.41847456,\n",
       "        -0.48843238,  0.18925571, -0.37668273, -0.5319856 , -0.30982122],\n",
       "       [ 0.32304758, -0.17544326,  0.3462668 , -0.13694778, -0.2412805 ,\n",
       "        -0.19550467,  0.28640115, -0.1852732 ,  0.31930137, -0.30686793]],\n",
       "      dtype=float32)>"
      ]
     },
     "execution_count": 68,
     "metadata": {},
     "output_type": "execute_result"
    }
   ],
   "source": [
    "# Vector [out_dim] - Bias\n",
    "\n",
    "net = layers.Dense(10)\n",
    "net.build((4, 8))\n",
    "net.kernel"
   ]
  },
  {
   "cell_type": "code",
   "execution_count": 59,
   "metadata": {},
   "outputs": [
    {
     "data": {
      "text/plain": [
       "<tf.Variable 'bias:0' shape=(10,) dtype=float32, numpy=array([0., 0., 0., 0., 0., 0., 0., 0., 0., 0.], dtype=float32)>"
      ]
     },
     "execution_count": 59,
     "metadata": {},
     "output_type": "execute_result"
    }
   ],
   "source": [
    "net.bias"
   ]
  },
  {
   "cell_type": "code",
   "execution_count": 70,
   "metadata": {},
   "outputs": [
    {
     "data": {
      "text/plain": [
       "<tf.Tensor: id=295, shape=(4, 784), dtype=float32, numpy=\n",
       "array([[ 0.17595552,  1.684959  ,  1.5734222 , ..., -0.23272727,\n",
       "         2.5584042 ,  1.3937134 ],\n",
       "       [-0.5550744 ,  0.59404516, -1.5914564 , ..., -0.04826044,\n",
       "         0.6545835 ,  1.6363652 ],\n",
       "       [-0.6654959 ,  0.80612665, -0.04561887, ...,  1.8962028 ,\n",
       "         1.0540954 ,  0.0924295 ],\n",
       "       [ 0.01599643, -0.51748455, -0.13290858, ...,  0.21278156,\n",
       "         0.5450028 , -1.2088119 ]], dtype=float32)>"
      ]
     },
     "execution_count": 70,
     "metadata": {},
     "output_type": "execute_result"
    }
   ],
   "source": [
    "# Matrix\n",
    "\n",
    "x = tf.random.normal([4, 784])\n",
    "x"
   ]
  },
  {
   "cell_type": "code",
   "execution_count": 71,
   "metadata": {
    "collapsed": true
   },
   "outputs": [],
   "source": [
    "net = layers.Dense(10)\n",
    "net.build((4, 784))"
   ]
  },
  {
   "cell_type": "code",
   "execution_count": 72,
   "metadata": {},
   "outputs": [
    {
     "data": {
      "text/plain": [
       "TensorShape([4, 10])"
      ]
     },
     "execution_count": 72,
     "metadata": {},
     "output_type": "execute_result"
    }
   ],
   "source": [
    "net(x).shape"
   ]
  },
  {
   "cell_type": "code",
   "execution_count": 73,
   "metadata": {},
   "outputs": [
    {
     "data": {
      "text/plain": [
       "TensorShape([784, 10])"
      ]
     },
     "execution_count": 73,
     "metadata": {},
     "output_type": "execute_result"
    }
   ],
   "source": [
    "net.kernel.shape"
   ]
  },
  {
   "cell_type": "code",
   "execution_count": 74,
   "metadata": {},
   "outputs": [
    {
     "data": {
      "text/plain": [
       "TensorShape([10])"
      ]
     },
     "execution_count": 74,
     "metadata": {},
     "output_type": "execute_result"
    }
   ],
   "source": [
    "net.bias.shape"
   ]
  },
  {
   "cell_type": "code",
   "execution_count": 82,
   "metadata": {
    "collapsed": true
   },
   "outputs": [],
   "source": [
    "# dim=3 tensor\n",
    "\n",
    "import tensorflow.keras as keras"
   ]
  },
  {
   "cell_type": "code",
   "execution_count": 84,
   "metadata": {},
   "outputs": [
    {
     "name": "stdout",
     "output_type": "stream",
     "text": [
      "Downloading data from https://storage.googleapis.com/tensorflow/tf-keras-datasets/imdb.npz\n",
      "17465344/17464789 [==============================] - 8s 0us/step\n"
     ]
    }
   ],
   "source": [
    "(X_train, y_train), (X_test, y_test) = keras.datasets.imdb.load_data(num_words=10000)"
   ]
  },
  {
   "cell_type": "code",
   "execution_count": 85,
   "metadata": {},
   "outputs": [
    {
     "data": {
      "text/plain": [
       "(25000, 80)"
      ]
     },
     "execution_count": 85,
     "metadata": {},
     "output_type": "execute_result"
    }
   ],
   "source": [
    "x_train = keras.preprocessing.sequence.pad_sequences(X_train, maxlen=80)\n",
    "x_train.shape"
   ]
  },
  {
   "cell_type": "code",
   "execution_count": 86,
   "metadata": {
    "collapsed": true
   },
   "outputs": [],
   "source": [
    "# ????"
   ]
  },
  {
   "cell_type": "code",
   "execution_count": 88,
   "metadata": {},
   "outputs": [
    {
     "data": {
      "text/plain": [
       "<tf.Tensor: id=391, shape=(4, 28, 28, 16), dtype=float32, numpy=\n",
       "array([[[[-6.15830004e-01,  1.74997840e-02,  5.13569653e-01, ...,\n",
       "          -2.82736212e-01,  2.37005595e-02, -5.68962276e-01],\n",
       "         [ 2.25137532e-01,  5.44712961e-01, -5.43105006e-01, ...,\n",
       "          -6.09329522e-01,  9.64166038e-03, -1.07208923e-01],\n",
       "         [ 5.04189692e-02,  1.70226339e-02,  1.26276702e-01, ...,\n",
       "           2.92587548e-01, -4.44282264e-01,  3.31761129e-02],\n",
       "         ...,\n",
       "         [ 9.67020839e-02, -1.67257652e-01, -2.56477773e-01, ...,\n",
       "          -5.24447441e-01,  2.91492581e-01,  8.19371223e-01],\n",
       "         [ 4.80536044e-01, -4.03178543e-01,  8.15158430e-03, ...,\n",
       "           2.20565155e-01, -1.17829666e-01,  5.48140071e-02],\n",
       "         [-7.95666054e-02, -3.96566391e-01,  3.48104648e-02, ...,\n",
       "           6.63455188e-01,  4.36424091e-03,  1.33576900e-01]],\n",
       "\n",
       "        [[-9.73808467e-02, -2.43046612e-01, -3.88106436e-01, ...,\n",
       "          -6.40986145e-01, -3.27036649e-01, -5.12908995e-02],\n",
       "         [-1.08670428e-01, -8.81800234e-01, -2.74369996e-02, ...,\n",
       "           6.09760702e-01,  6.26380801e-01, -4.78876203e-01],\n",
       "         [-3.23065728e-01, -2.74858803e-01, -3.74280602e-01, ...,\n",
       "          -2.48322263e-01,  2.64714271e-01,  4.22012746e-01],\n",
       "         ...,\n",
       "         [ 1.80365697e-01, -6.98507905e-01,  4.53945518e-01, ...,\n",
       "           1.40582874e-01, -2.48789072e-01,  1.38785824e-01],\n",
       "         [-3.49591076e-02,  2.85487808e-03,  3.63340855e-01, ...,\n",
       "           3.57466377e-02,  1.77723780e-01, -2.16413260e-01],\n",
       "         [-7.09501058e-02, -2.79144168e-01,  1.26983151e-01, ...,\n",
       "           5.44864275e-02, -2.20690250e-01,  4.35198277e-01]],\n",
       "\n",
       "        [[ 2.51168311e-01, -3.50847691e-01,  1.39647558e-01, ...,\n",
       "          -3.14783722e-01, -3.89751699e-03, -8.99192225e-03],\n",
       "         [ 2.21529827e-01, -1.73531175e-01, -8.84637982e-03, ...,\n",
       "          -2.56908923e-01, -3.89675535e-02,  4.16024566e-01],\n",
       "         [ 3.25970463e-02, -1.48294830e+00,  4.06076878e-01, ...,\n",
       "           2.51492858e-01,  8.42877388e-01, -5.75135827e-01],\n",
       "         ...,\n",
       "         [-3.74332786e-01,  4.36410725e-01, -7.01398849e-01, ...,\n",
       "          -2.18381509e-01, -7.04276800e-01,  1.58052653e-01],\n",
       "         [ 1.24819350e+00,  7.93112889e-02, -6.17639124e-01, ...,\n",
       "          -7.85287842e-02,  5.46874031e-02,  2.19698757e-01],\n",
       "         [ 2.81605665e-02, -8.15754533e-01, -2.77403593e-01, ...,\n",
       "           1.58095941e-01, -1.36856884e-01, -7.99836814e-02]],\n",
       "\n",
       "        ...,\n",
       "\n",
       "        [[-3.38848941e-02, -8.68675530e-01,  1.62102923e-01, ...,\n",
       "          -8.93304169e-01, -9.51260388e-01, -1.39884530e-02],\n",
       "         [ 1.27351964e+00,  7.16323853e-01, -5.52451670e-01, ...,\n",
       "           1.20577708e-01,  1.58644155e-01,  1.85497373e-01],\n",
       "         [ 1.04458845e+00, -8.23893249e-01, -4.48927730e-01, ...,\n",
       "           4.21371996e-01,  7.06384122e-01, -9.41787899e-01],\n",
       "         ...,\n",
       "         [-5.34551859e-01,  3.80310684e-01, -8.76912326e-02, ...,\n",
       "           2.01262742e-01,  2.14467928e-01, -9.43052113e-01],\n",
       "         [ 3.41689348e-01, -2.19891250e-01,  4.82464552e-01, ...,\n",
       "          -6.89703584e-01, -8.78582776e-01,  1.67343374e-02],\n",
       "         [ 2.33938813e-01,  7.90742636e-02,  3.27331930e-01, ...,\n",
       "           9.41016793e-01,  1.34178773e-01, -5.58345728e-02]],\n",
       "\n",
       "        [[-4.53940958e-01,  5.32061398e-01,  5.22253104e-02, ...,\n",
       "           9.65178311e-01, -7.73707747e-01, -1.52264190e+00],\n",
       "         [ 9.49946880e-01,  4.85911548e-01,  2.14772150e-01, ...,\n",
       "          -1.07426286e+00, -1.10230543e-01, -5.99298656e-01],\n",
       "         [ 2.46452749e-01,  3.68229635e-02, -1.12583268e+00, ...,\n",
       "           5.52577794e-01, -5.53774714e-01,  9.45837259e-01],\n",
       "         ...,\n",
       "         [ 1.44797891e-01, -1.04716122e+00,  4.12140757e-01, ...,\n",
       "           3.81624252e-01,  7.03407645e-01, -5.22822618e-01],\n",
       "         [-2.15711892e-02, -2.52775792e-02,  4.57458109e-01, ...,\n",
       "           5.81647813e-01,  4.15800065e-01, -6.12337887e-01],\n",
       "         [-4.53422964e-01,  4.43010837e-01,  9.13107842e-02, ...,\n",
       "           2.19770700e-01, -2.66708378e-02,  4.67252731e-01]],\n",
       "\n",
       "        [[ 1.46154270e-01, -1.85681611e-01, -4.99054998e-01, ...,\n",
       "          -3.85280788e-01, -5.47341287e-01,  1.79057941e-02],\n",
       "         [ 4.06449676e-01, -6.72482312e-01, -7.43918180e-01, ...,\n",
       "           7.18420863e-01,  6.29307628e-01, -2.24712685e-01],\n",
       "         [ 1.38736323e-01, -8.72379576e-04,  3.10544103e-01, ...,\n",
       "           2.15786859e-01,  4.22232784e-02, -1.65649235e-01],\n",
       "         ...,\n",
       "         [ 2.53153443e-01,  3.89485329e-01,  9.13553908e-02, ...,\n",
       "          -1.41916007e-01, -5.21055460e-02,  2.76860476e-01],\n",
       "         [ 5.81193209e-01, -3.62192802e-02, -4.12898809e-01, ...,\n",
       "           5.24445713e-01,  1.05288014e-01,  8.76658618e-01],\n",
       "         [-5.60783982e-01, -6.15583956e-01, -5.36128916e-02, ...,\n",
       "           6.61381721e-01,  6.43051207e-01, -2.82492101e-01]]],\n",
       "\n",
       "\n",
       "       [[[ 2.50537068e-01, -1.31087124e-01,  2.28981338e-02, ...,\n",
       "          -8.66641402e-01, -3.72623712e-01,  7.30123892e-02],\n",
       "         [-1.24107525e-01, -1.17384389e-01, -6.77213818e-02, ...,\n",
       "           1.30850896e-01,  9.78361964e-02,  4.69483554e-01],\n",
       "         [-2.95280159e-01, -2.36416191e-01,  3.73365045e-01, ...,\n",
       "          -3.55280519e-01,  6.19085252e-01,  4.73432302e-01],\n",
       "         ...,\n",
       "         [-1.78642690e-01,  2.97556221e-01,  4.92946714e-01, ...,\n",
       "          -4.35073860e-03,  5.81998331e-03, -1.29184900e-02],\n",
       "         [-5.07236160e-02, -8.13639164e-02,  6.97597802e-01, ...,\n",
       "           4.21833962e-01, -1.30823135e-01, -6.30229414e-01],\n",
       "         [-4.48434681e-01,  9.60572064e-02,  2.88412005e-01, ...,\n",
       "          -2.49390677e-01, -3.79224539e-01,  4.36577886e-01]],\n",
       "\n",
       "        [[-6.81600928e-01,  5.65817893e-01, -8.82403180e-02, ...,\n",
       "           4.20048118e-01, -6.31230831e-01, -6.63194597e-01],\n",
       "         [ 1.02245867e+00,  2.18770564e-01,  3.01999569e-01, ...,\n",
       "          -7.33690381e-01, -6.37244761e-01,  1.58010447e+00],\n",
       "         [-3.67391199e-01, -2.71003842e-01, -7.35540390e-01, ...,\n",
       "          -2.77343810e-01, -7.65892029e-01,  3.24012488e-01],\n",
       "         ...,\n",
       "         [ 2.41608709e-01,  8.62172022e-02, -3.40712294e-02, ...,\n",
       "          -1.21657029e-01,  1.69945806e-02, -8.74373987e-02],\n",
       "         [ 3.11320961e-01, -6.30569339e-01, -1.65628821e-01, ...,\n",
       "           2.62921341e-02, -8.30147713e-02,  1.55778039e+00],\n",
       "         [-6.94962323e-01, -2.75563806e-01,  4.67576981e-01, ...,\n",
       "          -6.52876198e-02,  4.42013741e-01, -5.85871041e-02]],\n",
       "\n",
       "        [[ 1.82928249e-01, -4.69047308e-01,  8.95720422e-01, ...,\n",
       "           2.37992611e-02,  1.34799033e-01, -1.38590634e-01],\n",
       "         [-5.46636462e-01, -1.07124138e+00,  9.54097807e-02, ...,\n",
       "          -4.80572224e-01,  3.48220915e-01, -6.90004900e-02],\n",
       "         [-2.75815725e-01,  5.14763355e-01,  4.74704117e-01, ...,\n",
       "           6.73950613e-01, -3.60056870e-02, -4.85858291e-01],\n",
       "         ...,\n",
       "         [ 1.78902701e-01, -1.32345781e-01, -2.29683761e-02, ...,\n",
       "           1.49367496e-01, -2.89381206e-01, -5.24756730e-01],\n",
       "         [-4.85176779e-02, -1.91470399e-01,  4.05902088e-01, ...,\n",
       "           2.61319160e-01, -4.74756628e-01, -2.95019805e-01],\n",
       "         [-1.03781767e-01,  7.46554792e-01,  3.12272310e-01, ...,\n",
       "          -6.13491058e-01, -1.09080780e+00,  5.28165638e-01]],\n",
       "\n",
       "        ...,\n",
       "\n",
       "        [[-5.96620023e-01, -4.25100863e-01, -7.97530338e-02, ...,\n",
       "          -2.83950508e-01, -3.26856941e-01,  1.50339827e-02],\n",
       "         [ 1.46024376e-01,  9.14722607e-02, -6.56615496e-01, ...,\n",
       "          -4.49341804e-01, -4.61242311e-02, -6.59042239e-01],\n",
       "         [ 1.27693462e+00, -3.50139797e-01, -5.91028512e-01, ...,\n",
       "          -1.23807991e+00,  2.26490736e-01,  5.53801358e-01],\n",
       "         ...,\n",
       "         [-4.98277284e-02,  1.09456778e+00,  4.34639841e-01, ...,\n",
       "           1.84960246e-01, -2.37386376e-01,  3.41220230e-01],\n",
       "         [-3.92028660e-01,  2.63607234e-01,  8.13473165e-01, ...,\n",
       "           6.70091271e-01, -5.85773349e-01, -9.25024413e-03],\n",
       "         [-2.44455244e-02,  4.27142471e-01,  6.08529806e-01, ...,\n",
       "           1.74552724e-01,  2.63664633e-01,  2.35481113e-02]],\n",
       "\n",
       "        [[-7.17207849e-01,  9.64511573e-01, -1.13822520e-01, ...,\n",
       "          -3.09683323e-01, -3.18627745e-01, -7.07278550e-02],\n",
       "         [ 4.59439576e-01, -1.91423744e-01, -3.15566868e-01, ...,\n",
       "          -8.86220276e-01,  5.05952120e-01, -3.05603415e-01],\n",
       "         [ 8.40710819e-01, -5.94762802e-01, -9.09950361e-02, ...,\n",
       "           5.77306569e-01,  4.77259696e-01, -2.85497814e-01],\n",
       "         ...,\n",
       "         [-8.66487801e-01,  6.27726138e-01, -1.56424884e-02, ...,\n",
       "           4.74506289e-01,  1.00497949e+00, -2.66970843e-01],\n",
       "         [-9.39189270e-02, -3.14349115e-01, -3.89391661e-01, ...,\n",
       "          -1.55020893e+00, -7.93743670e-01,  1.01731288e+00],\n",
       "         [ 6.91637695e-02, -3.39161307e-01, -3.13698262e-01, ...,\n",
       "          -2.20570982e-01,  2.34246776e-02,  1.07798889e-01]],\n",
       "\n",
       "        [[ 2.66691655e-01,  8.77421200e-02,  7.56160021e-01, ...,\n",
       "          -4.50169295e-01,  2.86749929e-01, -4.63878274e-01],\n",
       "         [-1.12383693e-01,  4.15681839e-01,  3.61984074e-01, ...,\n",
       "           5.72787285e-01,  6.10873222e-01,  2.18933001e-01],\n",
       "         [-3.20133328e-01,  8.26066792e-01,  2.69874502e-02, ...,\n",
       "           1.03284371e+00, -4.88585711e-01, -2.86512285e-01],\n",
       "         ...,\n",
       "         [-4.61640686e-01,  2.79840767e-01,  6.11889362e-01, ...,\n",
       "          -6.14962399e-01,  1.98673502e-01, -6.94938183e-01],\n",
       "         [-2.14972496e-01,  1.18153475e-01,  4.72847611e-01, ...,\n",
       "           6.12129152e-01,  5.55901974e-02, -2.03975633e-01],\n",
       "         [ 4.96814176e-02,  6.09102428e-01,  5.18056691e-01, ...,\n",
       "           7.41114974e-01, -3.36382121e-01, -9.69476461e-01]]],\n",
       "\n",
       "\n",
       "       [[[ 6.74918950e-01,  1.04723014e-01, -3.08734030e-01, ...,\n",
       "          -1.79516722e-03,  1.85223758e-01,  4.54722524e-01],\n",
       "         [-3.56743425e-01,  3.69251400e-01,  8.18365693e-01, ...,\n",
       "          -1.02250949e-01, -3.11431289e-01,  2.48399809e-01],\n",
       "         [-4.01430309e-01,  4.44493622e-01, -2.21441552e-01, ...,\n",
       "          -2.58893758e-01,  5.52984774e-01,  4.19039547e-01],\n",
       "         ...,\n",
       "         [-2.07037196e-01,  4.27713484e-01,  1.53375953e-01, ...,\n",
       "           8.42421174e-01, -6.34208977e-01, -3.51950496e-01],\n",
       "         [ 6.57292828e-02,  7.26268351e-01, -6.44490898e-01, ...,\n",
       "          -5.88552773e-01,  3.97038549e-01,  9.37792301e-01],\n",
       "         [ 3.07227582e-01, -6.60888612e-01, -1.88457534e-01, ...,\n",
       "          -6.96941972e-01, -7.95106292e-01,  3.45252395e-01]],\n",
       "\n",
       "        [[-6.12871230e-01,  2.20221534e-01,  1.55717939e-01, ...,\n",
       "           1.23149168e+00,  8.54226172e-01,  8.15791115e-02],\n",
       "         [-6.62637293e-01, -1.90153345e-01,  9.05938327e-01, ...,\n",
       "          -1.32439435e-01, -9.73973930e-01,  3.55305493e-01],\n",
       "         [-2.24321291e-01, -5.62595904e-01,  4.56407011e-01, ...,\n",
       "           7.10442483e-01,  7.27072895e-01, -1.11549407e-01],\n",
       "         ...,\n",
       "         [-6.54427052e-01, -4.60179687e-01, -2.26743948e-02, ...,\n",
       "           9.23626602e-01,  4.84806478e-01, -1.42449927e+00],\n",
       "         [-4.91278887e-01,  2.90188313e-01,  9.35369372e-01, ...,\n",
       "           4.90550250e-01, -5.67199409e-01, -8.43028069e-01],\n",
       "         [ 9.94131193e-02,  4.74743605e-01,  1.58868223e-01, ...,\n",
       "          -9.39092860e-02, -1.41915488e+00,  3.52147877e-01]],\n",
       "\n",
       "        [[-3.02726805e-01, -4.14695889e-02,  2.98083365e-01, ...,\n",
       "          -3.82805094e-02,  1.35433960e+00,  1.11875105e+00],\n",
       "         [-1.85455894e+00, -1.14422761e-01,  6.19532121e-03, ...,\n",
       "          -1.00567567e+00, -2.07496703e-01, -3.05131316e-01],\n",
       "         [ 3.94266129e-01,  8.48213017e-01, -6.77818894e-01, ...,\n",
       "          -6.78167701e-01,  3.99983853e-01,  4.64326739e-01],\n",
       "         ...,\n",
       "         [ 1.71359941e-01, -8.62574697e-01, -4.70596075e-01, ...,\n",
       "           1.06723279e-01,  2.24106580e-01, -1.58713594e-01],\n",
       "         [-5.60462892e-01,  3.65046784e-02, -1.62118822e-01, ...,\n",
       "           8.40437829e-01,  3.25719029e-01, -4.09810126e-01],\n",
       "         [ 1.43802434e-01, -5.48977971e-01,  1.38176978e-01, ...,\n",
       "          -5.13901472e-01,  9.55869704e-02, -1.12267777e-01]],\n",
       "\n",
       "        ...,\n",
       "\n",
       "        [[-8.61601472e-01,  1.72952458e-01, -2.58398801e-01, ...,\n",
       "           5.07919967e-01, -5.03252506e-01, -5.14261961e-01],\n",
       "         [-3.83437052e-02,  1.08532369e+00, -5.08642018e-01, ...,\n",
       "           4.83451724e-01,  4.68900979e-01, -1.64896202e+00],\n",
       "         [ 5.70995212e-01,  9.86522973e-01,  1.05357718e+00, ...,\n",
       "          -7.49312162e-01, -2.49578848e-01, -2.72788197e-01],\n",
       "         ...,\n",
       "         [ 3.11464220e-01, -2.78965354e-01,  3.67214888e-01, ...,\n",
       "           1.01514339e+00,  3.13251048e-01,  2.82677203e-01],\n",
       "         [-6.65478587e-01,  1.45014096e-02,  6.00728810e-01, ...,\n",
       "           3.33922863e-01,  1.41999602e-01,  1.25254357e+00],\n",
       "         [-1.16251194e+00,  4.08501327e-01,  5.95557928e-01, ...,\n",
       "           5.09777926e-02, -3.13719720e-01,  1.96632892e-02]],\n",
       "\n",
       "        [[ 2.32757162e-02,  1.61136352e-02,  3.03278416e-01, ...,\n",
       "          -6.07875228e-01, -1.41359363e-02, -9.09644246e-01],\n",
       "         [ 4.11390781e-01, -4.09916669e-01, -3.93431932e-01, ...,\n",
       "           6.50264621e-01,  5.58413148e-01, -6.13010824e-01],\n",
       "         [-9.07164931e-01, -4.32544172e-01,  7.03732312e-01, ...,\n",
       "           1.10395455e+00, -2.60246366e-01, -4.76950347e-01],\n",
       "         ...,\n",
       "         [-9.77193713e-01, -1.17661345e+00,  4.91089076e-01, ...,\n",
       "           1.02924860e+00,  4.05334800e-01,  5.43169260e-01],\n",
       "         [-6.88672841e-01,  7.50151455e-01,  5.88999651e-02, ...,\n",
       "          -7.94825926e-02,  5.42449474e-01,  8.48981798e-01],\n",
       "         [-7.15599298e-01, -4.63925540e-01,  8.54428411e-01, ...,\n",
       "          -1.14256597e+00, -4.27084804e-01, -3.21239352e-01]],\n",
       "\n",
       "        [[-4.84127365e-02,  4.90120519e-03, -2.92870641e-01, ...,\n",
       "          -8.04763496e-01,  1.16591584e-02,  1.32298648e-01],\n",
       "         [ 2.45280802e-01, -6.45121157e-01, -6.35739230e-03, ...,\n",
       "           8.60019624e-01,  9.80165780e-01,  7.39576757e-01],\n",
       "         [-4.66958255e-01, -3.98143083e-01,  1.93297476e-01, ...,\n",
       "          -1.44956037e-01,  5.31720221e-01,  5.32417238e-01],\n",
       "         ...,\n",
       "         [-9.01500508e-02, -2.90310949e-01, -5.63389182e-01, ...,\n",
       "           4.94810194e-02, -9.86487791e-02,  3.03548742e-02],\n",
       "         [-3.06347042e-01, -1.06203660e-01,  1.49132624e-01, ...,\n",
       "          -2.98941582e-01,  1.97642431e-01, -2.12534398e-01],\n",
       "         [ 9.08416063e-02,  4.17369366e-01, -1.44168157e-02, ...,\n",
       "          -3.83157372e-01, -5.35085976e-01,  3.52085978e-01]]],\n",
       "\n",
       "\n",
       "       [[[ 3.65571588e-01, -3.46728951e-01,  2.82298952e-01, ...,\n",
       "           3.93012553e-01, -1.05550632e-01,  2.51914352e-01],\n",
       "         [-8.00076783e-01, -3.55304211e-01,  4.61104900e-01, ...,\n",
       "          -5.19214332e-01,  3.45661581e-01,  6.39898181e-01],\n",
       "         [ 2.08075747e-01,  3.48757058e-01,  3.03767800e-01, ...,\n",
       "          -2.32482225e-01, -6.68355599e-02, -8.52223933e-02],\n",
       "         ...,\n",
       "         [ 7.30608225e-01, -9.71209466e-01, -1.75513729e-01, ...,\n",
       "           1.30315125e-01, -3.18986624e-01, -4.11784440e-01],\n",
       "         [ 4.52316165e-01, -5.51966906e-01,  2.20620409e-02, ...,\n",
       "           5.74729145e-01,  1.72218904e-01, -4.62734938e-01],\n",
       "         [ 1.45879388e-02, -2.23830491e-02, -5.42957067e-01, ...,\n",
       "          -9.61540341e-02, -4.25383389e-01,  5.16938746e-01]],\n",
       "\n",
       "        [[-8.66986439e-02, -3.36303413e-01,  2.41934210e-02, ...,\n",
       "           1.77528441e-01, -3.72059166e-01,  5.67984819e-01],\n",
       "         [-1.96611077e-01,  3.77211988e-01, -5.05102910e-02, ...,\n",
       "          -8.87058973e-02, -2.70613343e-01, -9.03784111e-02],\n",
       "         [-2.59184867e-01, -1.83844104e-01, -7.15649500e-02, ...,\n",
       "          -9.87702906e-01,  1.56284302e-01,  1.88404664e-01],\n",
       "         ...,\n",
       "         [ 6.21023536e-01,  2.52093762e-01, -2.11222917e-01, ...,\n",
       "           2.49186903e-01, -9.66610163e-02,  1.40658006e-01],\n",
       "         [ 2.57799268e-01, -5.40188432e-01, -7.64076889e-01, ...,\n",
       "          -2.80211449e-01, -2.22186789e-01,  6.95661008e-01],\n",
       "         [ 3.16562235e-01, -5.19152105e-01, -1.12265460e-01, ...,\n",
       "           2.18133241e-01,  7.03162193e-01, -4.82863992e-01]],\n",
       "\n",
       "        [[-6.05974853e-01,  4.23009366e-01, -3.70116234e-02, ...,\n",
       "          -8.79870728e-02, -2.75201231e-01,  2.41624191e-01],\n",
       "         [ 7.62195706e-01,  3.18092071e-02, -6.68940619e-02, ...,\n",
       "          -8.39557707e-01, -4.18619961e-01, -6.18878067e-01],\n",
       "         [ 6.24976814e-01, -3.07270825e-01, -1.68669552e-01, ...,\n",
       "          -1.66061759e-01, -4.90859449e-01,  3.90186906e-01],\n",
       "         ...,\n",
       "         [ 5.77950060e-01, -3.11483536e-02, -5.81404328e-01, ...,\n",
       "          -2.95124506e-03, -4.02062804e-01,  6.19831681e-01],\n",
       "         [ 8.30018640e-01, -3.87552321e-01,  6.28359765e-02, ...,\n",
       "           5.13062239e-01, -4.75022793e-01,  3.46510381e-01],\n",
       "         [ 2.53035188e-01,  7.30629563e-01, -3.10638905e-01, ...,\n",
       "          -4.17720497e-01, -1.83160648e-01,  1.16494931e-01]],\n",
       "\n",
       "        ...,\n",
       "\n",
       "        [[-1.80437863e-01,  2.89517380e-02, -7.96911940e-02, ...,\n",
       "          -6.00241423e-02, -1.21084988e+00,  3.70305628e-01],\n",
       "         [ 1.46207079e-01,  3.66233774e-02,  3.25500816e-01, ...,\n",
       "          -2.35642061e-01,  4.86891985e-01, -6.36048734e-01],\n",
       "         [-3.03488851e-01,  1.25182480e-01,  8.58776450e-01, ...,\n",
       "          -3.68702531e-01, -3.44413370e-01,  5.66325426e-01],\n",
       "         ...,\n",
       "         [-2.15373799e-01,  2.20785633e-01, -1.09253240e+00, ...,\n",
       "          -1.06171012e-01,  1.18082833e+00, -1.68006532e-02],\n",
       "         [ 3.74485642e-01,  3.42298210e-01, -4.58516568e-01, ...,\n",
       "           2.76297420e-01, -3.90941530e-01, -8.42487216e-02],\n",
       "         [-7.66668934e-03, -9.70293403e-01,  8.62907171e-02, ...,\n",
       "          -2.58757412e-01, -2.04787537e-01, -5.59083164e-01]],\n",
       "\n",
       "        [[ 1.15487754e+00,  6.46999329e-02,  4.68968689e-01, ...,\n",
       "           8.14851224e-02, -5.61452508e-01, -3.43990892e-01],\n",
       "         [ 1.90687701e-01,  3.82558644e-01,  3.12830865e-01, ...,\n",
       "           1.03463978e-01, -6.38934851e-01,  5.45557320e-01],\n",
       "         [-1.12282209e-01,  6.01677716e-01,  5.54873407e-01, ...,\n",
       "           1.00917876e+00,  1.03415595e-02,  7.59830400e-02],\n",
       "         ...,\n",
       "         [-9.65963840e-01,  3.13699618e-02, -7.73127228e-02, ...,\n",
       "          -6.19774342e-01,  9.28073049e-01,  3.22623581e-01],\n",
       "         [-2.72396840e-02,  5.69877494e-03,  3.64225298e-01, ...,\n",
       "          -4.91969705e-01, -8.34401846e-01, -5.90292335e-01],\n",
       "         [ 3.62033188e-01, -2.20789328e-01, -4.66066033e-01, ...,\n",
       "          -2.52739191e-01, -5.79786956e-01,  5.62880754e-01]],\n",
       "\n",
       "        [[-5.44829309e-01, -3.90880495e-01, -6.15954280e-01, ...,\n",
       "           6.72728896e-01, -2.82413751e-01,  2.21289665e-01],\n",
       "         [ 2.17074782e-01,  3.73812169e-01,  2.94979483e-01, ...,\n",
       "           4.98351097e-01,  9.16298851e-02, -1.84687942e-01],\n",
       "         [-2.90506631e-01, -7.03699946e-01,  8.75295401e-02, ...,\n",
       "          -1.50943244e+00, -1.55533999e-01,  1.03580296e+00],\n",
       "         ...,\n",
       "         [ 4.75847602e-01,  3.02770704e-01,  4.18256402e-01, ...,\n",
       "           6.32675052e-01,  4.41436797e-01, -3.05505931e-01],\n",
       "         [-1.10847697e-01,  4.03125137e-01, -3.55980843e-01, ...,\n",
       "          -8.00616145e-02, -2.25647092e-01,  1.96721494e-01],\n",
       "         [ 2.59691030e-01, -7.71555424e-01,  1.68408975e-01, ...,\n",
       "           9.24438357e-01,  1.67164821e-02, -3.70328814e-01]]]],\n",
       "      dtype=float32)>"
      ]
     },
     "execution_count": 88,
     "metadata": {},
     "output_type": "execute_result"
    }
   ],
   "source": [
    "# Dim=4 Tensor\n",
    "# Image: [b, h, w, 3]\n",
    "# feature maps: [b, h, w, c]\n",
    "# 将其视为输入的图像, b张高宽为h,w,通道为3通道的图片\n",
    "\n",
    "x = tf.random.normal([4, 28, 28, 3])\n",
    "net = layers.Conv2D(16, kernel_size=3, padding='SAME')\n",
    "net(x)"
   ]
  },
  {
   "cell_type": "code",
   "execution_count": null,
   "metadata": {
    "collapsed": true
   },
   "outputs": [],
   "source": [
    "# Dim=5 Tensor\n",
    "# Single task: [b, h, w, 3]\n",
    "# meta-learning:[task_b, b, h, w, 3]"
   ]
  },
  {
   "cell_type": "markdown",
   "metadata": {},
   "source": [
    "# 索引与切片"
   ]
  },
  {
   "cell_type": "code",
   "execution_count": 93,
   "metadata": {
    "collapsed": true
   },
   "outputs": [],
   "source": [
    "# Basic indexing\n",
    "\n",
    "a = tf.ones([1,5,5,3])"
   ]
  },
  {
   "cell_type": "code",
   "execution_count": 91,
   "metadata": {},
   "outputs": [
    {
     "data": {
      "text/plain": [
       "<tf.Tensor: id=407, shape=(5, 3), dtype=float32, numpy=\n",
       "array([[1., 1., 1.],\n",
       "       [1., 1., 1.],\n",
       "       [1., 1., 1.],\n",
       "       [1., 1., 1.],\n",
       "       [1., 1., 1.]], dtype=float32)>"
      ]
     },
     "execution_count": 91,
     "metadata": {},
     "output_type": "execute_result"
    }
   ],
   "source": [
    "a[0][0]"
   ]
  },
  {
   "cell_type": "code",
   "execution_count": 94,
   "metadata": {},
   "outputs": [
    {
     "data": {
      "text/plain": [
       "<tf.Tensor: id=426, shape=(3,), dtype=float32, numpy=array([1., 1., 1.], dtype=float32)>"
      ]
     },
     "execution_count": 94,
     "metadata": {},
     "output_type": "execute_result"
    }
   ],
   "source": [
    "a[0][0][0]"
   ]
  },
  {
   "cell_type": "code",
   "execution_count": 95,
   "metadata": {},
   "outputs": [
    {
     "data": {
      "text/plain": [
       "<tf.Tensor: id=443, shape=(), dtype=float32, numpy=1.0>"
      ]
     },
     "execution_count": 95,
     "metadata": {},
     "output_type": "execute_result"
    }
   ],
   "source": [
    "a[0][0][0][2]"
   ]
  },
  {
   "cell_type": "code",
   "execution_count": 96,
   "metadata": {
    "collapsed": true
   },
   "outputs": [],
   "source": [
    "# Numpy-style indexing\n",
    "\n",
    "# a 相当于是4张28x28x3的图片\n",
    "a = tf.random.normal([4, 28, 28, 3])"
   ]
  },
  {
   "cell_type": "code",
   "execution_count": 97,
   "metadata": {},
   "outputs": [
    {
     "data": {
      "text/plain": [
       "TensorShape([28, 28, 3])"
      ]
     },
     "execution_count": 97,
     "metadata": {},
     "output_type": "execute_result"
    }
   ],
   "source": [
    "# a[1] 表示取第2张图片(索引是从0开始的)\n",
    "a[1].shape"
   ]
  },
  {
   "cell_type": "code",
   "execution_count": 100,
   "metadata": {},
   "outputs": [
    {
     "data": {
      "text/plain": [
       "TensorShape([28, 3])"
      ]
     },
     "execution_count": 100,
     "metadata": {},
     "output_type": "execute_result"
    }
   ],
   "source": [
    "# a[1,2]表示取第2张图片第3行\n",
    "a[1,2].shape"
   ]
  },
  {
   "cell_type": "code",
   "execution_count": 101,
   "metadata": {},
   "outputs": [
    {
     "data": {
      "text/plain": [
       "TensorShape([3])"
      ]
     },
     "execution_count": 101,
     "metadata": {},
     "output_type": "execute_result"
    }
   ],
   "source": [
    "a[1,2,3].shape"
   ]
  },
  {
   "cell_type": "code",
   "execution_count": 102,
   "metadata": {},
   "outputs": [
    {
     "data": {
      "text/plain": [
       "TensorShape([])"
      ]
     },
     "execution_count": 102,
     "metadata": {},
     "output_type": "execute_result"
    }
   ],
   "source": [
    "a[1,2,3,2].shape"
   ]
  },
  {
   "cell_type": "code",
   "execution_count": 105,
   "metadata": {},
   "outputs": [
    {
     "data": {
      "text/plain": [
       "<tf.Tensor: id=492, shape=(10,), dtype=int32, numpy=array([0, 1, 2, 3, 4, 5, 6, 7, 8, 9], dtype=int32)>"
      ]
     },
     "execution_count": 105,
     "metadata": {},
     "output_type": "execute_result"
    }
   ],
   "source": [
    "# start:end\n",
    "# 1. 最后一个数倒着取是 -1\n",
    "# 2. 切片取值,[a, b)包左不包右\n",
    "\n",
    "a = tf.range(10)\n",
    "a"
   ]
  },
  {
   "cell_type": "code",
   "execution_count": 104,
   "metadata": {},
   "outputs": [
    {
     "data": {
      "text/plain": [
       "<tf.Tensor: id=487, shape=(1,), dtype=int32, numpy=array([9], dtype=int32)>"
      ]
     },
     "execution_count": 104,
     "metadata": {},
     "output_type": "execute_result"
    }
   ],
   "source": [
    "a[-1:]"
   ]
  },
  {
   "cell_type": "code",
   "execution_count": 106,
   "metadata": {},
   "outputs": [
    {
     "data": {
      "text/plain": [
       "<tf.Tensor: id=497, shape=(2,), dtype=int32, numpy=array([8, 9], dtype=int32)>"
      ]
     },
     "execution_count": 106,
     "metadata": {},
     "output_type": "execute_result"
    }
   ],
   "source": [
    "a[-2:]"
   ]
  },
  {
   "cell_type": "code",
   "execution_count": 107,
   "metadata": {},
   "outputs": [
    {
     "data": {
      "text/plain": [
       "<tf.Tensor: id=502, shape=(2,), dtype=int32, numpy=array([0, 1], dtype=int32)>"
      ]
     },
     "execution_count": 107,
     "metadata": {},
     "output_type": "execute_result"
    }
   ],
   "source": [
    "a[:2]"
   ]
  },
  {
   "cell_type": "code",
   "execution_count": 108,
   "metadata": {},
   "outputs": [
    {
     "data": {
      "text/plain": [
       "<tf.Tensor: id=507, shape=(9,), dtype=int32, numpy=array([0, 1, 2, 3, 4, 5, 6, 7, 8], dtype=int32)>"
      ]
     },
     "execution_count": 108,
     "metadata": {},
     "output_type": "execute_result"
    }
   ],
   "source": [
    "a[:-1]"
   ]
  },
  {
   "cell_type": "code",
   "execution_count": 110,
   "metadata": {},
   "outputs": [
    {
     "data": {
      "text/plain": [
       "TensorShape([4, 28, 28, 3])"
      ]
     },
     "execution_count": 110,
     "metadata": {},
     "output_type": "execute_result"
    }
   ],
   "source": [
    "# Indexing by\n",
    "\n",
    "a = tf.random.normal([4, 28, 28, 3])\n",
    "a.shape"
   ]
  },
  {
   "cell_type": "code",
   "execution_count": 111,
   "metadata": {},
   "outputs": [
    {
     "data": {
      "text/plain": [
       "TensorShape([28, 28, 3])"
      ]
     },
     "execution_count": 111,
     "metadata": {},
     "output_type": "execute_result"
    }
   ],
   "source": [
    "a[0].shape"
   ]
  },
  {
   "cell_type": "code",
   "execution_count": 112,
   "metadata": {},
   "outputs": [
    {
     "data": {
      "text/plain": [
       "TensorShape([28, 28, 3])"
      ]
     },
     "execution_count": 112,
     "metadata": {},
     "output_type": "execute_result"
    }
   ],
   "source": [
    "a[0,:,:,:].shape"
   ]
  },
  {
   "cell_type": "code",
   "execution_count": 113,
   "metadata": {},
   "outputs": [
    {
     "data": {
      "text/plain": [
       "TensorShape([28, 3])"
      ]
     },
     "execution_count": 113,
     "metadata": {},
     "output_type": "execute_result"
    }
   ],
   "source": [
    "a[0,1,:,:].shape"
   ]
  },
  {
   "cell_type": "code",
   "execution_count": 114,
   "metadata": {},
   "outputs": [
    {
     "data": {
      "text/plain": [
       "TensorShape([4, 28, 28])"
      ]
     },
     "execution_count": 114,
     "metadata": {},
     "output_type": "execute_result"
    }
   ],
   "source": [
    "a[:,:,:,0].shape"
   ]
  },
  {
   "cell_type": "code",
   "execution_count": 115,
   "metadata": {},
   "outputs": [
    {
     "data": {
      "text/plain": [
       "TensorShape([4, 28, 28])"
      ]
     },
     "execution_count": 115,
     "metadata": {},
     "output_type": "execute_result"
    }
   ],
   "source": [
    "a[:,:,:,2].shape"
   ]
  },
  {
   "cell_type": "code",
   "execution_count": 116,
   "metadata": {},
   "outputs": [
    {
     "data": {
      "text/plain": [
       "TensorShape([4, 28, 3])"
      ]
     },
     "execution_count": 116,
     "metadata": {},
     "output_type": "execute_result"
    }
   ],
   "source": [
    "a[:,0,:,:].shape"
   ]
  },
  {
   "cell_type": "code",
   "execution_count": 117,
   "metadata": {},
   "outputs": [
    {
     "data": {
      "text/plain": [
       "TensorShape([4, 28, 28, 3])"
      ]
     },
     "execution_count": 117,
     "metadata": {},
     "output_type": "execute_result"
    }
   ],
   "source": [
    "# Indexing by start:end:step\n",
    "a.shape"
   ]
  },
  {
   "cell_type": "code",
   "execution_count": 118,
   "metadata": {},
   "outputs": [
    {
     "data": {
      "text/plain": [
       "TensorShape([2, 28, 28, 3])"
      ]
     },
     "execution_count": 118,
     "metadata": {},
     "output_type": "execute_result"
    }
   ],
   "source": [
    "a[0:2,:,:,:].shape"
   ]
  },
  {
   "cell_type": "code",
   "execution_count": 120,
   "metadata": {},
   "outputs": [
    {
     "data": {
      "text/plain": [
       "TensorShape([4, 14, 14, 3])"
      ]
     },
     "execution_count": 120,
     "metadata": {},
     "output_type": "execute_result"
    }
   ],
   "source": [
    "a[:,0:28:2,0:28:2,:].shape"
   ]
  },
  {
   "cell_type": "code",
   "execution_count": 121,
   "metadata": {},
   "outputs": [
    {
     "data": {
      "text/plain": [
       "TensorShape([4, 14, 14, 3])"
      ]
     },
     "execution_count": 121,
     "metadata": {},
     "output_type": "execute_result"
    }
   ],
   "source": [
    "a[:,0:14,0:14,:].shape"
   ]
  },
  {
   "cell_type": "code",
   "execution_count": 122,
   "metadata": {},
   "outputs": [
    {
     "data": {
      "text/plain": [
       "TensorShape([4, 14, 14, 3])"
      ]
     },
     "execution_count": 122,
     "metadata": {},
     "output_type": "execute_result"
    }
   ],
   "source": [
    "a[:,14:,14:,:].shape"
   ]
  },
  {
   "cell_type": "code",
   "execution_count": 123,
   "metadata": {},
   "outputs": [
    {
     "data": {
      "text/plain": [
       "TensorShape([4, 14, 14, 3])"
      ]
     },
     "execution_count": 123,
     "metadata": {},
     "output_type": "execute_result"
    }
   ],
   "source": [
    "a[:,::2,::2,:].shape"
   ]
  },
  {
   "cell_type": "code",
   "execution_count": 125,
   "metadata": {},
   "outputs": [
    {
     "data": {
      "text/plain": [
       "<tf.Tensor: id=570, shape=(4,), dtype=int32, numpy=array([0, 1, 2, 3], dtype=int32)>"
      ]
     },
     "execution_count": 125,
     "metadata": {},
     "output_type": "execute_result"
    }
   ],
   "source": [
    "# ::实现逆序的功能 ::-1\n",
    "a = tf.range(4)\n",
    "a"
   ]
  },
  {
   "cell_type": "code",
   "execution_count": 126,
   "metadata": {},
   "outputs": [
    {
     "data": {
      "text/plain": [
       "<tf.Tensor: id=575, shape=(4,), dtype=int32, numpy=array([3, 2, 1, 0], dtype=int32)>"
      ]
     },
     "execution_count": 126,
     "metadata": {},
     "output_type": "execute_result"
    }
   ],
   "source": [
    "# 从最后一个元素开始，step=1地采\n",
    "a[::-1]"
   ]
  },
  {
   "cell_type": "code",
   "execution_count": 127,
   "metadata": {},
   "outputs": [
    {
     "data": {
      "text/plain": [
       "<tf.Tensor: id=580, shape=(2,), dtype=int32, numpy=array([3, 1], dtype=int32)>"
      ]
     },
     "execution_count": 127,
     "metadata": {},
     "output_type": "execute_result"
    }
   ],
   "source": [
    "# 从最后一个元素开始，step=2地采\n",
    "a[::-2]"
   ]
  },
  {
   "cell_type": "code",
   "execution_count": 128,
   "metadata": {},
   "outputs": [
    {
     "data": {
      "text/plain": [
       "<tf.Tensor: id=585, shape=(2,), dtype=int32, numpy=array([2, 0], dtype=int32)>"
      ]
     },
     "execution_count": 128,
     "metadata": {},
     "output_type": "execute_result"
    }
   ],
   "source": [
    "# 从2开始，step=2地采\n",
    "a[2::-2]"
   ]
  },
  {
   "cell_type": "code",
   "execution_count": 131,
   "metadata": {
    "collapsed": true
   },
   "outputs": [],
   "source": [
    "# 使用 ... 进行采样\n",
    "\n",
    "a = tf.random.normal([2, 4, 28, 28, 3])"
   ]
  },
  {
   "cell_type": "code",
   "execution_count": 132,
   "metadata": {},
   "outputs": [
    {
     "data": {
      "text/plain": [
       "TensorShape([4, 28, 28, 3])"
      ]
     },
     "execution_count": 132,
     "metadata": {},
     "output_type": "execute_result"
    }
   ],
   "source": [
    "a[0].shape"
   ]
  },
  {
   "cell_type": "code",
   "execution_count": 133,
   "metadata": {},
   "outputs": [
    {
     "data": {
      "text/plain": [
       "TensorShape([4, 28, 28, 3])"
      ]
     },
     "execution_count": 133,
     "metadata": {},
     "output_type": "execute_result"
    }
   ],
   "source": [
    "a[0,:,:,:,:].shape"
   ]
  },
  {
   "cell_type": "code",
   "execution_count": 135,
   "metadata": {},
   "outputs": [
    {
     "data": {
      "text/plain": [
       "TensorShape([4, 28, 28, 3])"
      ]
     },
     "execution_count": 135,
     "metadata": {},
     "output_type": "execute_result"
    }
   ],
   "source": [
    "# 指定第1维，后面的维度不需要指定，用...代替代替任意长的:\n",
    "a[0,...].shape"
   ]
  },
  {
   "cell_type": "code",
   "execution_count": 136,
   "metadata": {},
   "outputs": [
    {
     "data": {
      "text/plain": [
       "TensorShape([2, 4, 28, 28])"
      ]
     },
     "execution_count": 136,
     "metadata": {},
     "output_type": "execute_result"
    }
   ],
   "source": [
    "a[:,:,:,:,0].shape"
   ]
  },
  {
   "cell_type": "code",
   "execution_count": 138,
   "metadata": {},
   "outputs": [
    {
     "data": {
      "text/plain": [
       "TensorShape([2, 4, 28, 28])"
      ]
     },
     "execution_count": 138,
     "metadata": {},
     "output_type": "execute_result"
    }
   ],
   "source": [
    "a[...,0].shape"
   ]
  },
  {
   "cell_type": "code",
   "execution_count": 139,
   "metadata": {},
   "outputs": [
    {
     "data": {
      "text/plain": [
       "TensorShape([4, 28, 28])"
      ]
     },
     "execution_count": 139,
     "metadata": {},
     "output_type": "execute_result"
    }
   ],
   "source": [
    "a[0,...,2].shape"
   ]
  },
  {
   "cell_type": "code",
   "execution_count": 140,
   "metadata": {},
   "outputs": [
    {
     "data": {
      "text/plain": [
       "TensorShape([28, 28])"
      ]
     },
     "execution_count": 140,
     "metadata": {},
     "output_type": "execute_result"
    }
   ],
   "source": [
    "a[1,0,...,0].shape"
   ]
  },
  {
   "cell_type": "code",
   "execution_count": null,
   "metadata": {
    "collapsed": true
   },
   "outputs": [],
   "source": [
    "# Selective Indexing\n",
    "# tf.gather\n",
    "# tf.gather_nd\n",
    "# tf.boolean_mask\n",
    "\n",
    "# eg.data: [classes, students, subjects]\n",
    "# [4, 35, 8]"
   ]
  },
  {
   "cell_type": "code",
   "execution_count": null,
   "metadata": {
    "collapsed": true
   },
   "outputs": [],
   "source": []
  },
  {
   "cell_type": "code",
   "execution_count": null,
   "metadata": {},
   "outputs": [],
   "source": []
  }
 ],
 "metadata": {
  "kernelspec": {
   "display_name": "Python 3",
   "language": "python",
   "name": "python3"
  },
  "language_info": {
   "codemirror_mode": {
    "name": "ipython",
    "version": 3
   },
   "file_extension": ".py",
   "mimetype": "text/x-python",
   "name": "python",
   "nbconvert_exporter": "python",
   "pygments_lexer": "ipython3",
   "version": "3.6.5"
  },
  "toc": {
   "base_numbering": 1,
   "nav_menu": {},
   "number_sections": true,
   "sideBar": true,
   "skip_h1_title": false,
   "title_cell": "Table of Contents",
   "title_sidebar": "Contents",
   "toc_cell": false,
   "toc_position": {},
   "toc_section_display": true,
   "toc_window_display": false
  }
 },
 "nbformat": 4,
 "nbformat_minor": 2
}
