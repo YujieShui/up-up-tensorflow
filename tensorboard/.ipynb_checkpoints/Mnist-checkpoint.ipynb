{
 "cells": [
  {
   "cell_type": "markdown",
   "metadata": {},
   "source": [
    "# Tensorboard"
   ]
  },
  {
   "cell_type": "code",
   "execution_count": 1,
   "metadata": {},
   "outputs": [
    {
     "name": "stdout",
     "output_type": "stream",
     "text": [
      "Extracting ../dataset/mnist/train-images-idx3-ubyte.gz\n",
      "Extracting ../dataset/mnist/train-labels-idx1-ubyte.gz\n",
      "Extracting ../dataset/mnist/t10k-images-idx3-ubyte.gz\n",
      "Extracting ../dataset/mnist/t10k-labels-idx1-ubyte.gz\n"
     ]
    }
   ],
   "source": [
    "import tensorflow as tf\n",
    "from tensorflow.examples.tutorials.mnist import input_data\n",
    "\n",
    "# 载入数据集，使用 one_hot 编码\n",
    "mnist = input_data.read_data_sets(\"../dataset/mnist\",one_hot=True)"
   ]
  },
  {
   "cell_type": "code",
   "execution_count": 2,
   "metadata": {},
   "outputs": [
    {
     "name": "stdout",
     "output_type": "stream",
     "text": [
      "Iter 0,Testing Accuracy 0.8324\n",
      "Iter 1,Testing Accuracy 0.8703\n",
      "Iter 2,Testing Accuracy 0.8813\n",
      "Iter 3,Testing Accuracy 0.8883\n",
      "Iter 4,Testing Accuracy 0.8946\n",
      "Iter 5,Testing Accuracy 0.897\n",
      "Iter 6,Testing Accuracy 0.8992\n",
      "Iter 7,Testing Accuracy 0.9023\n",
      "Iter 8,Testing Accuracy 0.9034\n",
      "Iter 9,Testing Accuracy 0.9051\n",
      "Iter 10,Testing Accuracy 0.9066\n",
      "Iter 11,Testing Accuracy 0.9067\n",
      "Iter 12,Testing Accuracy 0.9084\n",
      "Iter 13,Testing Accuracy 0.9097\n",
      "Iter 14,Testing Accuracy 0.9098\n",
      "Iter 15,Testing Accuracy 0.911\n",
      "Iter 16,Testing Accuracy 0.9114\n",
      "Iter 17,Testing Accuracy 0.9131\n",
      "Iter 18,Testing Accuracy 0.9125\n",
      "Iter 19,Testing Accuracy 0.9139\n",
      "Iter 20,Testing Accuracy 0.9135\n"
     ]
    }
   ],
   "source": [
    "#每个批次的大小\n",
    "batch_size = 100\n",
    "#计算一共有多少个批次\n",
    "n_batch = mnist.train.num_examples // batch_size\n",
    "\n",
    "\n",
    "with tf.name_scope(\"input\"):\n",
    "    #定义两个placeholder\n",
    "    with tf.name_scope(\"x_input\"):\n",
    "        x = tf.placeholder(tf.float32,[None,784]) # 输入图片大小为28x28，其所有像素点可以看成784维的向量\n",
    "    with tf,name_scope(\"y_scope\"):\n",
    "        y = tf.placeholder(tf.float32,[None,10]) # 输出将分成0~9共10类\n",
    "\n",
    "#创建一个简单的神经网络\n",
    "W = tf.Variable(tf.zeros([784,10]))\n",
    "b = tf.Variable(tf.zeros([10]))\n",
    "prediction = tf.nn.softmax(tf.matmul(x,W)+b) #输入信号转化而为概率值\n",
    "\n",
    "#二次代价函数\n",
    "loss = tf.reduce_mean(tf.square(y-prediction))\n",
    "#使用梯度下降法\n",
    "train_step = tf.train.GradientDescentOptimizer(0.2).minimize(loss)\n",
    "\n",
    "#初始化变量\n",
    "init = tf.global_variables_initializer()\n",
    "\n",
    "#结果存放在一个布尔型列表中\n",
    "correct_prediction = tf.equal(tf.argmax(y,1),tf.argmax(prediction,1))#argmax返回一维张量中最大的值所在的位置\n",
    "#求准确率\n",
    "accuracy = tf.reduce_mean(tf.cast(correct_prediction,tf.float32))\n",
    "\n",
    "with tf.Session() as sess:\n",
    "    sess.run(init)\n",
    "    for epoch in range(1):\n",
    "        for batch in range(n_batch):\n",
    "            batch_xs,batch_ys =  mnist.train.next_batch(batch_size)\n",
    "            sess.run(train_step,feed_dict={x:batch_xs,y:batch_ys})\n",
    "        \n",
    "        acc = sess.run(accuracy,feed_dict={x:mnist.test.images,y:mnist.test.labels})\n",
    "        print(\"Iter \" + str(epoch) + \",Testing Accuracy \" + str(acc))"
   ]
  },
  {
   "cell_type": "code",
   "execution_count": null,
   "metadata": {
    "collapsed": true
   },
   "outputs": [],
   "source": []
  }
 ],
 "metadata": {
  "kernelspec": {
   "display_name": "Python 3",
   "language": "python",
   "name": "python3"
  },
  "language_info": {
   "codemirror_mode": {
    "name": "ipython",
    "version": 3
   },
   "file_extension": ".py",
   "mimetype": "text/x-python",
   "name": "python",
   "nbconvert_exporter": "python",
   "pygments_lexer": "ipython3",
   "version": "3.6.5"
  }
 },
 "nbformat": 4,
 "nbformat_minor": 2
}
