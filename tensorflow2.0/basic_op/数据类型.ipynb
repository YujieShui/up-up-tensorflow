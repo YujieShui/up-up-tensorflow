{
 "cells": [
  {
   "cell_type": "markdown",
   "metadata": {},
   "source": [
    "# Data Container\n",
    "\n",
    "![TensorFlow 数据类型](../images/data_struct.png)"
   ]
  },
  {
   "cell_type": "markdown",
   "metadata": {},
   "source": [
    "**why: 为什么 TensorFlow 使用 Tensor 这种数据类型？**\n",
    "\n",
    "A:\n",
    "- 从python的list可以存储多种数据类型，但是它不利于进行数学运算\n",
    "- 接着有了numpy，numpy是支持各种数学运算的科学计算库，但是它无法满足深度学习技术的一些基本需求，比如说：不支持GPU运算，不支持自动求导\n",
    "- Tensor的出现就就弥补了numpy在深度学习上的不足，既能用于科学计算，也能支持GPU运算、自动求导。Tensor可以与numpy进行互相转换，或者说TensorFlow用类似于numpy的使用方式让程序员更加容易上手。\n",
    "\n",
    "**what: Tensor具体是怎么样的数据类型？**\n",
    "\n",
    "A:\n",
    "\n",
    "|  dim   | type       | example |\n",
    "|  ----  | ----       | ---     |\n",
    "| dim=0  | scalar 标量 | 1.1     |  \n",
    "| dim=1  | vector 向量 | [1.1]   |\n",
    "| dim=2  | matrix 矩阵 | [[1.1,2.2], [3.3,4.4]] |\n",
    "| dim>2  | tensor 张量 | |\n",
    "\n",
    "从数学上来讲，dim大于2的是张量，但是在TensorFlow中可以认为所有的数据都是张量，即使dim为0的标量，也可以将它看成是一个tensor(张量)\n",
    "\n",
    "**Q: Tensor 的类型？**\n",
    "\n",
    "A: \n",
    "- int, float, double\n",
    "- bool\n",
    "- string\n",
    "Tensor主要用于科学计算，想来主要用int,float,double这些类型就好了呀，为什么会用到bool和string呢？\n",
    "其实也不必纠结，bool类型经常会作为函数的返回值返回，如果有需要可以将其转换为0,1，pyTroch中就没有bool而是用0,1表示\n",
    "至于string类型用到很少，了解到TensorFlow中有这样一种数据类型即可"
   ]
  },
  {
   "cell_type": "markdown",
   "metadata": {},
   "source": [
    "# Create tf.constant()\n",
    "\n",
    "我们已经知道了tensor是一种数据结构，接下来我们来看一下各种类型的tensor。\n",
    "\n",
    "我们可以使用 `tf.constant()` 来创建tensor，constant给人的感觉是一个不变的常量，但它任然是一个tensor，所以`tf.constant()`具有tensor的各种数据类型：int,float,double,bool,string。"
   ]
  },
  {
   "cell_type": "code",
   "execution_count": 9,
   "metadata": {},
   "outputs": [
    {
     "data": {
      "text/plain": [
       "'2.0.0-alpha0'"
      ]
     },
     "execution_count": 9,
     "metadata": {},
     "output_type": "execute_result"
    }
   ],
   "source": [
    "import tensorflow as tf\n",
    "from tensorflow.keras import Model, layers\n",
    "tf.__version__"
   ]
  },
  {
   "cell_type": "code",
   "execution_count": 14,
   "metadata": {},
   "outputs": [
    {
     "name": "stdout",
     "output_type": "stream",
     "text": [
      "tf.Tensor(1, shape=(), dtype=int32)\n",
      "tf.Tensor(1.0, shape=(), dtype=float32)\n",
      "tf.Tensor(2.0, shape=(), dtype=float64)\n",
      "tf.Tensor([ True False], shape=(2,), dtype=bool)\n",
      "tf.Tensor([1 0], shape=(2,), dtype=int32)\n",
      "tf.Tensor(b'hello word.', shape=(), dtype=string)\n"
     ]
    }
   ],
   "source": [
    "# 1默认 dtype=int32，此外还有int64\n",
    "print(tf.constant(1))\n",
    "# 1. 则是一个 float32 类型的 tensor\n",
    "print(tf.constant(1.))\n",
    "# tf.constant() 也可以指定 dtype，但是当默认类型与dtype冲突就会报错\n",
    "# tf.constant(2.2, dtype=int32)\n",
    "# double类型其实是 float64 类型，double相当于是一个别名\n",
    "print(tf.constant(2., dtype=tf.double))\n",
    "# tensor 中的 bool 类型\n",
    "print(tf.constant([True, False]))\n",
    "# [True,False]可以使用tf.cast转换为[1,0]\n",
    "print(tf.cast(tf.constant([True, False]), dtype=tf.int32))\n",
    "# tensor 中的 string 类型\n",
    "print(tf.constant('hello word.'))"
   ]
  },
  {
   "cell_type": "markdown",
   "metadata": {},
   "source": [
    "# Tensor property\n",
    "\n",
    "接着来看一些 tensor 的常用属性\n",
    "\n",
    "1. a.device - 用于cpu还是gpu，cpu和GPU上运算的方式是不同的。比如说有些tensor的运算我们希望它运行在cpu上，像是input的输入之类的，这时就要指定tensor的device\n"
   ]
  },
  {
   "cell_type": "code",
   "execution_count": 8,
   "metadata": {},
   "outputs": [
    {
     "ename": "InvalidArgumentError",
     "evalue": "/job:localhost/replica:0/task:0/device:GPU:0 unknown device. name: range/",
     "output_type": "error",
     "traceback": [
      "\u001b[0;31m---------------------------------------------------------------------------\u001b[0m",
      "\u001b[0;31mInvalidArgumentError\u001b[0m                      Traceback (most recent call last)",
      "\u001b[0;32m<ipython-input-8-ac37fdffdb1d>\u001b[0m in \u001b[0;36m<module>\u001b[0;34m()\u001b[0m\n\u001b[1;32m      4\u001b[0m \u001b[0;34m\u001b[0m\u001b[0m\n\u001b[1;32m      5\u001b[0m \u001b[0;32mwith\u001b[0m \u001b[0mtf\u001b[0m\u001b[0;34m.\u001b[0m\u001b[0mdevice\u001b[0m\u001b[0;34m(\u001b[0m\u001b[0;34m\"gpu\"\u001b[0m\u001b[0;34m)\u001b[0m\u001b[0;34m:\u001b[0m\u001b[0;34m\u001b[0m\u001b[0m\n\u001b[0;32m----> 6\u001b[0;31m     \u001b[0mb\u001b[0m\u001b[0;34m=\u001b[0m\u001b[0mtf\u001b[0m\u001b[0;34m.\u001b[0m\u001b[0mrange\u001b[0m\u001b[0;34m(\u001b[0m\u001b[0;36m4\u001b[0m\u001b[0;34m)\u001b[0m\u001b[0;34m\u001b[0m\u001b[0m\n\u001b[0m",
      "\u001b[0;32m/anaconda/lib/python3.6/site-packages/tensorflow/python/ops/math_ops.py\u001b[0m in \u001b[0;36mrange\u001b[0;34m(start, limit, delta, dtype, name)\u001b[0m\n\u001b[1;32m   1275\u001b[0m       \u001b[0mdelta\u001b[0m \u001b[0;34m=\u001b[0m \u001b[0mcast\u001b[0m\u001b[0;34m(\u001b[0m\u001b[0mdelta\u001b[0m\u001b[0;34m,\u001b[0m \u001b[0minferred_dtype\u001b[0m\u001b[0;34m)\u001b[0m\u001b[0;34m\u001b[0m\u001b[0m\n\u001b[1;32m   1276\u001b[0m \u001b[0;34m\u001b[0m\u001b[0m\n\u001b[0;32m-> 1277\u001b[0;31m     \u001b[0;32mreturn\u001b[0m \u001b[0mgen_math_ops\u001b[0m\u001b[0;34m.\u001b[0m\u001b[0m_range\u001b[0m\u001b[0;34m(\u001b[0m\u001b[0mstart\u001b[0m\u001b[0;34m,\u001b[0m \u001b[0mlimit\u001b[0m\u001b[0;34m,\u001b[0m \u001b[0mdelta\u001b[0m\u001b[0;34m,\u001b[0m \u001b[0mname\u001b[0m\u001b[0;34m=\u001b[0m\u001b[0mname\u001b[0m\u001b[0;34m)\u001b[0m\u001b[0;34m\u001b[0m\u001b[0m\n\u001b[0m\u001b[1;32m   1278\u001b[0m \u001b[0;34m\u001b[0m\u001b[0m\n\u001b[1;32m   1279\u001b[0m \u001b[0;34m\u001b[0m\u001b[0m\n",
      "\u001b[0;32m/anaconda/lib/python3.6/site-packages/tensorflow/python/ops/gen_math_ops.py\u001b[0m in \u001b[0;36m_range\u001b[0;34m(start, limit, delta, name)\u001b[0m\n\u001b[1;32m   7416\u001b[0m       \u001b[0;32melse\u001b[0m\u001b[0;34m:\u001b[0m\u001b[0;34m\u001b[0m\u001b[0m\n\u001b[1;32m   7417\u001b[0m         \u001b[0mmessage\u001b[0m \u001b[0;34m=\u001b[0m \u001b[0me\u001b[0m\u001b[0;34m.\u001b[0m\u001b[0mmessage\u001b[0m\u001b[0;34m\u001b[0m\u001b[0m\n\u001b[0;32m-> 7418\u001b[0;31m       \u001b[0m_six\u001b[0m\u001b[0;34m.\u001b[0m\u001b[0mraise_from\u001b[0m\u001b[0;34m(\u001b[0m\u001b[0m_core\u001b[0m\u001b[0;34m.\u001b[0m\u001b[0m_status_to_exception\u001b[0m\u001b[0;34m(\u001b[0m\u001b[0me\u001b[0m\u001b[0;34m.\u001b[0m\u001b[0mcode\u001b[0m\u001b[0;34m,\u001b[0m \u001b[0mmessage\u001b[0m\u001b[0;34m)\u001b[0m\u001b[0;34m,\u001b[0m \u001b[0;32mNone\u001b[0m\u001b[0;34m)\u001b[0m\u001b[0;34m\u001b[0m\u001b[0m\n\u001b[0m\u001b[1;32m   7419\u001b[0m   \u001b[0;31m# Add nodes to the TensorFlow graph.\u001b[0m\u001b[0;34m\u001b[0m\u001b[0;34m\u001b[0m\u001b[0m\n\u001b[1;32m   7420\u001b[0m   _, _, _op = _op_def_lib._apply_op_helper(\n",
      "\u001b[0;32m/anaconda/lib/python3.6/site-packages/six.py\u001b[0m in \u001b[0;36mraise_from\u001b[0;34m(value, from_value)\u001b[0m\n",
      "\u001b[0;31mInvalidArgumentError\u001b[0m: /job:localhost/replica:0/task:0/device:GPU:0 unknown device. name: range/"
     ]
    }
   ],
   "source": [
    "# 指定 tensor 运行在 GPU 还是 CPU\n",
    "with tf.device(\"cpu\"):\n",
    "    a=tf.constant([1])\n",
    "    \n",
    "with tf.device(\"gpu\"):\n",
    "    b=tf.range(4)"
   ]
  },
  {
   "cell_type": "code",
   "execution_count": null,
   "metadata": {
    "collapsed": true
   },
   "outputs": [],
   "source": [
    "# 查看 tensor 运行在 CPU 还是 GPU，并显示编号\n",
    "a.device"
   ]
  },
  {
   "cell_type": "code",
   "execution_count": null,
   "metadata": {
    "collapsed": true
   },
   "outputs": [],
   "source": [
    "b.device"
   ]
  },
  {
   "cell_type": "code",
   "execution_count": null,
   "metadata": {
    "collapsed": true
   },
   "outputs": [],
   "source": [
    "# 我们可以改变 tensor 的 device\n",
    "aa=a.gpu()\n",
    "aa.device"
   ]
  },
  {
   "cell_type": "code",
   "execution_count": null,
   "metadata": {
    "collapsed": true
   },
   "outputs": [],
   "source": [
    "bb=b.cpu()\n",
    "bb.device"
   ]
  }
 ],
 "metadata": {
  "kernelspec": {
   "display_name": "Python 3",
   "language": "python",
   "name": "python3"
  },
  "language_info": {
   "codemirror_mode": {
    "name": "ipython",
    "version": 3
   },
   "file_extension": ".py",
   "mimetype": "text/x-python",
   "name": "python",
   "nbconvert_exporter": "python",
   "pygments_lexer": "ipython3",
   "version": "3.6.1"
  },
  "toc": {
   "base_numbering": 1,
   "nav_menu": {},
   "number_sections": true,
   "sideBar": true,
   "skip_h1_title": false,
   "title_cell": "Table of Contents",
   "title_sidebar": "Contents",
   "toc_cell": false,
   "toc_position": {},
   "toc_section_display": true,
   "toc_window_display": false
  }
 },
 "nbformat": 4,
 "nbformat_minor": 2
}
