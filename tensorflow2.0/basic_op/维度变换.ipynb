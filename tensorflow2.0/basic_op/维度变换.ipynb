{
 "cells": [
  {
   "cell_type": "code",
   "execution_count": 2,
   "metadata": {},
   "outputs": [],
   "source": [
    "import tensorflow as tf"
   ]
  },
  {
   "cell_type": "markdown",
   "metadata": {},
   "source": [
    "# tf.reshape\n",
    "\n",
    "- 任意reshape\n",
    "- 保证其元素总量不变\n",
    "- 可以制定某些维度的数据用-1使其自动计算\n",
    "- 理论上任务,实际使用上应赋予其物理意义"
   ]
  },
  {
   "cell_type": "code",
   "execution_count": 2,
   "metadata": {},
   "outputs": [
    {
     "data": {
      "text/plain": [
       "(TensorShape([4, 28, 28, 3]), 4)"
      ]
     },
     "execution_count": 2,
     "metadata": {},
     "output_type": "execute_result"
    }
   ],
   "source": [
    "# [batch, h, w, channel]\n",
    "a = tf.random.normal([4,28,28,3])\n",
    "a.shape, a.ndim"
   ]
  },
  {
   "cell_type": "code",
   "execution_count": 3,
   "metadata": {},
   "outputs": [
    {
     "data": {
      "text/plain": [
       "TensorShape([4, 784, 3])"
      ]
     },
     "execution_count": 3,
     "metadata": {},
     "output_type": "execute_result"
    }
   ],
   "source": [
    "# [batch,h*w,channel]\n",
    "tf.reshape(a,[4,784,3]).shape"
   ]
  },
  {
   "cell_type": "code",
   "execution_count": 4,
   "metadata": {},
   "outputs": [
    {
     "data": {
      "text/plain": [
       "TensorShape([4, 784, 3])"
      ]
     },
     "execution_count": 4,
     "metadata": {},
     "output_type": "execute_result"
    }
   ],
   "source": [
    "tf.reshape(a,[4,-1,3]).shape"
   ]
  },
  {
   "cell_type": "code",
   "execution_count": 5,
   "metadata": {},
   "outputs": [
    {
     "data": {
      "text/plain": [
       "TensorShape([4, 2352])"
      ]
     },
     "execution_count": 5,
     "metadata": {},
     "output_type": "execute_result"
    }
   ],
   "source": [
    "tf.reshape(a,[4,784*3]).shape"
   ]
  },
  {
   "cell_type": "code",
   "execution_count": 6,
   "metadata": {},
   "outputs": [
    {
     "data": {
      "text/plain": [
       "TensorShape([4, 2352])"
      ]
     },
     "execution_count": 6,
     "metadata": {},
     "output_type": "execute_result"
    }
   ],
   "source": [
    "tf.reshape(a,[4,-1]).shape"
   ]
  },
  {
   "cell_type": "code",
   "execution_count": 8,
   "metadata": {},
   "outputs": [
    {
     "data": {
      "text/plain": [
       "TensorShape([4, 14, 56, 3])"
      ]
     },
     "execution_count": 8,
     "metadata": {},
     "output_type": "execute_result"
    }
   ],
   "source": [
    "# reshape is flexibel:可以连续reshape\n",
    "tf.reshape(tf.reshape(a,[4,784,3])  ,[4,14,56,3]).shape"
   ]
  },
  {
   "cell_type": "markdown",
   "metadata": {},
   "source": [
    "# tf.transpose\n",
    "\n",
    "tf.reshape改变tensor时,任然保持其连续性;\n",
    "\n",
    "现在有个需求是 [b,h,w,3] -> [b,w,h,3] 也就是说将 h,w 两个通道互换\n",
    "\n",
    "这就可以使用 tf.transpose"
   ]
  },
  {
   "cell_type": "code",
   "execution_count": 9,
   "metadata": {},
   "outputs": [
    {
     "data": {
      "text/plain": [
       "TensorShape([4, 28, 3, 28])"
      ]
     },
     "execution_count": 9,
     "metadata": {},
     "output_type": "execute_result"
    }
   ],
   "source": [
    "a = tf.random.normal([4, 28, 28, 3])\n",
    "tf.transpose(a, [0,1,3,2]).shape"
   ]
  },
  {
   "cell_type": "code",
   "execution_count": null,
   "metadata": {
    "collapsed": true
   },
   "outputs": [],
   "source": [
    "tf.transpose(a, [0,1,3,2]).shape"
   ]
  },
  {
   "cell_type": "markdown",
   "metadata": {},
   "source": [
    "# Squeeze VS Expand_dims\n",
    "\n",
    "通过tf.expand_dims扩展维度，tf.squeeze减少维度\n",
    "\n",
    "- tf.expand_dims从前扩展用正数，从后扩展用负数\n",
    "- tf.expand_dims有在改axis前添加dim还是之后添加dim的区别\n",
    "- tf.squeeze只能减少size=1的dim\n",
    "- tf.squeeze直接减少所指定axis位置的dim"
   ]
  },
  {
   "cell_type": "code",
   "execution_count": 5,
   "metadata": {},
   "outputs": [
    {
     "name": "stdout",
     "output_type": "stream",
     "text": [
      "(1, 4, 35, 8)\n",
      "(4, 35, 1, 8)\n",
      "(4, 35, 8, 1)\n",
      "(4, 35, 8, 1)\n",
      "(1, 4, 35, 8)\n"
     ]
    }
   ],
   "source": [
    "# tf.expand_dims,扩充维度\n",
    "\n",
    "a = tf.random.normal([4, 35, 8])\n",
    "print(tf.expand_dims(a, axis=0).shape)\n",
    "print(tf.expand_dims(a, axis=2).shape)\n",
    "print(tf.expand_dims(a, axis=3).shape)\n",
    "print(tf.expand_dims(a, axis=-1).shape)\n",
    "print(tf.expand_dims(a, axis=-4).shape)"
   ]
  },
  {
   "cell_type": "code",
   "execution_count": 6,
   "metadata": {},
   "outputs": [
    {
     "data": {
      "text/plain": [
       "TensorShape([1, 2, 1, 1, 3])"
      ]
     },
     "execution_count": 6,
     "metadata": {},
     "output_type": "execute_result"
    }
   ],
   "source": [
    "# tf.squeeze，减少维度，注意只能减少size=1的维度\n",
    "tf.square(tf.zeros([1,2,1,1,3])).shape"
   ]
  },
  {
   "cell_type": "code",
   "execution_count": 9,
   "metadata": {},
   "outputs": [
    {
     "name": "stdout",
     "output_type": "stream",
     "text": [
      "(2, 1, 3)\n",
      "(1, 2, 3)\n",
      "(1, 2, 3)\n",
      "(2, 1, 3)\n"
     ]
    }
   ],
   "source": [
    "a = tf.zeros([1,2,1,3])\n",
    "print(tf.squeeze(a, axis=0).shape)\n",
    "print(tf.squeeze(a, axis=2).shape)\n",
    "print(tf.squeeze(a, axis=-2).shape)\n",
    "print(tf.squeeze(a, axis=-4).shape)"
   ]
  },
  {
   "cell_type": "code",
   "execution_count": null,
   "metadata": {
    "collapsed": true
   },
   "outputs": [],
   "source": []
  }
 ],
 "metadata": {
  "kernelspec": {
   "display_name": "Python 3",
   "language": "python",
   "name": "python3"
  },
  "language_info": {
   "codemirror_mode": {
    "name": "ipython",
    "version": 3
   },
   "file_extension": ".py",
   "mimetype": "text/x-python",
   "name": "python",
   "nbconvert_exporter": "python",
   "pygments_lexer": "ipython3",
   "version": "3.6.5"
  },
  "toc": {
   "base_numbering": 1,
   "nav_menu": {},
   "number_sections": true,
   "sideBar": true,
   "skip_h1_title": false,
   "title_cell": "Table of Contents",
   "title_sidebar": "Contents",
   "toc_cell": false,
   "toc_position": {},
   "toc_section_display": true,
   "toc_window_display": false
  }
 },
 "nbformat": 4,
 "nbformat_minor": 2
}
